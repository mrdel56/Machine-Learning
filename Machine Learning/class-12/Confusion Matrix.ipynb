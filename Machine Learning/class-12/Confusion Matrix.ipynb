{
 "cells": [
  {
   "cell_type": "code",
   "execution_count": 1,
   "id": "a503c9fa",
   "metadata": {},
   "outputs": [],
   "source": [
    "import pandas as pd\n",
    "import numpy as np\n",
    "from matplotlib import pyplot as plt\n",
    "import seaborn as sns\n",
    "from sklearn.model_selection import train_test_split as tts\n",
    "from sklearn.tree import DecisionTreeClassifier\n",
    "from sklearn import tree\n",
    "from sklearn.metrics import classification_report,accuracy_score, confusion_matrix, roc_curve\n",
    "import warnings\n",
    "warnings.filterwarnings(\"ignore\")"
   ]
  },
  {
   "cell_type": "code",
   "execution_count": 2,
   "id": "4aeea31a",
   "metadata": {},
   "outputs": [],
   "source": [
    "df = pd.read_excel('heart.xlsx')"
   ]
  },
  {
   "cell_type": "code",
   "execution_count": 3,
   "id": "562f1c72",
   "metadata": {},
   "outputs": [
    {
     "data": {
      "text/html": [
       "<div>\n",
       "<style scoped>\n",
       "    .dataframe tbody tr th:only-of-type {\n",
       "        vertical-align: middle;\n",
       "    }\n",
       "\n",
       "    .dataframe tbody tr th {\n",
       "        vertical-align: top;\n",
       "    }\n",
       "\n",
       "    .dataframe thead th {\n",
       "        text-align: right;\n",
       "    }\n",
       "</style>\n",
       "<table border=\"1\" class=\"dataframe\">\n",
       "  <thead>\n",
       "    <tr style=\"text-align: right;\">\n",
       "      <th></th>\n",
       "      <th>age</th>\n",
       "      <th>anaemia</th>\n",
       "      <th>creatinine_phosphokinase</th>\n",
       "      <th>diabetes</th>\n",
       "      <th>ejection_fraction</th>\n",
       "      <th>high_blood_pressure</th>\n",
       "      <th>platelets</th>\n",
       "      <th>serum_creatinine</th>\n",
       "      <th>serum_sodium</th>\n",
       "      <th>sex</th>\n",
       "      <th>smoking</th>\n",
       "      <th>time</th>\n",
       "      <th>DEATH_EVENT</th>\n",
       "    </tr>\n",
       "  </thead>\n",
       "  <tbody>\n",
       "    <tr>\n",
       "      <th>0</th>\n",
       "      <td>75.0</td>\n",
       "      <td>0</td>\n",
       "      <td>582</td>\n",
       "      <td>0</td>\n",
       "      <td>20</td>\n",
       "      <td>1</td>\n",
       "      <td>265000.00</td>\n",
       "      <td>1.9</td>\n",
       "      <td>130</td>\n",
       "      <td>1</td>\n",
       "      <td>0</td>\n",
       "      <td>4</td>\n",
       "      <td>1</td>\n",
       "    </tr>\n",
       "    <tr>\n",
       "      <th>1</th>\n",
       "      <td>55.0</td>\n",
       "      <td>0</td>\n",
       "      <td>7861</td>\n",
       "      <td>0</td>\n",
       "      <td>38</td>\n",
       "      <td>0</td>\n",
       "      <td>263358.03</td>\n",
       "      <td>1.1</td>\n",
       "      <td>136</td>\n",
       "      <td>1</td>\n",
       "      <td>0</td>\n",
       "      <td>6</td>\n",
       "      <td>1</td>\n",
       "    </tr>\n",
       "    <tr>\n",
       "      <th>2</th>\n",
       "      <td>65.0</td>\n",
       "      <td>0</td>\n",
       "      <td>146</td>\n",
       "      <td>0</td>\n",
       "      <td>20</td>\n",
       "      <td>0</td>\n",
       "      <td>162000.00</td>\n",
       "      <td>1.3</td>\n",
       "      <td>129</td>\n",
       "      <td>1</td>\n",
       "      <td>1</td>\n",
       "      <td>7</td>\n",
       "      <td>1</td>\n",
       "    </tr>\n",
       "    <tr>\n",
       "      <th>3</th>\n",
       "      <td>50.0</td>\n",
       "      <td>1</td>\n",
       "      <td>111</td>\n",
       "      <td>0</td>\n",
       "      <td>20</td>\n",
       "      <td>0</td>\n",
       "      <td>210000.00</td>\n",
       "      <td>1.9</td>\n",
       "      <td>137</td>\n",
       "      <td>1</td>\n",
       "      <td>0</td>\n",
       "      <td>7</td>\n",
       "      <td>1</td>\n",
       "    </tr>\n",
       "    <tr>\n",
       "      <th>4</th>\n",
       "      <td>65.0</td>\n",
       "      <td>1</td>\n",
       "      <td>160</td>\n",
       "      <td>1</td>\n",
       "      <td>20</td>\n",
       "      <td>0</td>\n",
       "      <td>327000.00</td>\n",
       "      <td>2.7</td>\n",
       "      <td>116</td>\n",
       "      <td>0</td>\n",
       "      <td>0</td>\n",
       "      <td>8</td>\n",
       "      <td>1</td>\n",
       "    </tr>\n",
       "  </tbody>\n",
       "</table>\n",
       "</div>"
      ],
      "text/plain": [
       "    age  anaemia  creatinine_phosphokinase  diabetes  ejection_fraction  \\\n",
       "0  75.0        0                       582         0                 20   \n",
       "1  55.0        0                      7861         0                 38   \n",
       "2  65.0        0                       146         0                 20   \n",
       "3  50.0        1                       111         0                 20   \n",
       "4  65.0        1                       160         1                 20   \n",
       "\n",
       "   high_blood_pressure  platelets  serum_creatinine  serum_sodium  sex  \\\n",
       "0                    1  265000.00               1.9           130    1   \n",
       "1                    0  263358.03               1.1           136    1   \n",
       "2                    0  162000.00               1.3           129    1   \n",
       "3                    0  210000.00               1.9           137    1   \n",
       "4                    0  327000.00               2.7           116    0   \n",
       "\n",
       "   smoking  time  DEATH_EVENT  \n",
       "0        0     4            1  \n",
       "1        0     6            1  \n",
       "2        1     7            1  \n",
       "3        0     7            1  \n",
       "4        0     8            1  "
      ]
     },
     "execution_count": 3,
     "metadata": {},
     "output_type": "execute_result"
    }
   ],
   "source": [
    "df.head()"
   ]
  },
  {
   "cell_type": "code",
   "execution_count": 4,
   "id": "7e781f27",
   "metadata": {},
   "outputs": [
    {
     "data": {
      "text/plain": [
       "(299, 13)"
      ]
     },
     "execution_count": 4,
     "metadata": {},
     "output_type": "execute_result"
    }
   ],
   "source": [
    "df.shape"
   ]
  },
  {
   "cell_type": "code",
   "execution_count": 5,
   "id": "f67bc20e",
   "metadata": {},
   "outputs": [
    {
     "data": {
      "text/plain": [
       "DEATH_EVENT\n",
       "0    203\n",
       "1     96\n",
       "Name: count, dtype: int64"
      ]
     },
     "execution_count": 5,
     "metadata": {},
     "output_type": "execute_result"
    }
   ],
   "source": [
    "df.DEATH_EVENT.value_counts()"
   ]
  },
  {
   "cell_type": "code",
   "execution_count": 6,
   "id": "7ec335f6",
   "metadata": {},
   "outputs": [
    {
     "data": {
      "text/plain": [
       "<Axes: xlabel='DEATH_EVENT', ylabel='count'>"
      ]
     },
     "execution_count": 6,
     "metadata": {},
     "output_type": "execute_result"
    },
    {
     "data": {
      "image/png": "[encoded data removed]",
      "text/plain": [
       "<Figure size 640x480 with 1 Axes>"
      ]
     },
     "metadata": {},
     "output_type": "display_data"
    }
   ],
   "source": [
    "sns.countplot(x='DEATH_EVENT', data=df)"
   ]
  },
  {
   "cell_type": "code",
   "execution_count": 7,
   "id": "d36038cd",
   "metadata": {},
   "outputs": [
    {
     "data": {
      "text/plain": [
       "<Axes: xlabel='diabetes', ylabel='count'>"
      ]
     },
     "execution_count": 7,
     "metadata": {},
     "output_type": "execute_result"
    },
    {
     "data": {
      "image/png": "[encoded data removed]",
      "text/plain": [
       "<Figure size 640x480 with 1 Axes>"
      ]
     },
     "metadata": {},
     "output_type": "display_data"
    }
   ],
   "source": [
    "sns.countplot(x='diabetes',hue='DEATH_EVENT', data=df)"
   ]
  },
  {
   "cell_type": "code",
   "execution_count": 8,
   "id": "74207644",
   "metadata": {},
   "outputs": [
    {
     "data": {
      "text/plain": [
       "<Axes: xlabel='high_blood_pressure', ylabel='count'>"
      ]
     },
     "execution_count": 8,
     "metadata": {},
     "output_type": "execute_result"
    },
    {
     "data": {
      "image/png": "[encoded data removed]",
      "text/plain": [
       "<Figure size 640x480 with 1 Axes>"
      ]
     },
     "metadata": {},
     "output_type": "display_data"
    }
   ],
   "source": [
    "sns.countplot(x='high_blood_pressure', hue='DEATH_EVENT', data=df)"
   ]
  },
  {
   "cell_type": "code",
   "execution_count": 9,
   "id": "6a3601e6",
   "metadata": {},
   "outputs": [
    {
     "data": {
      "text/html": [
       "<div>\n",
       "<style scoped>\n",
       "    .dataframe tbody tr th:only-of-type {\n",
       "        vertical-align: middle;\n",
       "    }\n",
       "\n",
       "    .dataframe tbody tr th {\n",
       "        vertical-align: top;\n",
       "    }\n",
       "\n",
       "    .dataframe thead th {\n",
       "        text-align: right;\n",
       "    }\n",
       "</style>\n",
       "<table border=\"1\" class=\"dataframe\">\n",
       "  <thead>\n",
       "    <tr style=\"text-align: right;\">\n",
       "      <th></th>\n",
       "      <th>age</th>\n",
       "      <th>anaemia</th>\n",
       "      <th>creatinine_phosphokinase</th>\n",
       "      <th>diabetes</th>\n",
       "      <th>ejection_fraction</th>\n",
       "      <th>high_blood_pressure</th>\n",
       "      <th>platelets</th>\n",
       "      <th>serum_creatinine</th>\n",
       "      <th>serum_sodium</th>\n",
       "      <th>sex</th>\n",
       "      <th>smoking</th>\n",
       "      <th>time</th>\n",
       "      <th>DEATH_EVENT</th>\n",
       "    </tr>\n",
       "  </thead>\n",
       "  <tbody>\n",
       "    <tr>\n",
       "      <th>age</th>\n",
       "      <td>1.000000</td>\n",
       "      <td>0.088006</td>\n",
       "      <td>-0.081584</td>\n",
       "      <td>-0.101012</td>\n",
       "      <td>0.060098</td>\n",
       "      <td>0.093289</td>\n",
       "      <td>-0.052354</td>\n",
       "      <td>0.159187</td>\n",
       "      <td>-0.045966</td>\n",
       "      <td>0.065430</td>\n",
       "      <td>0.018668</td>\n",
       "      <td>-0.224068</td>\n",
       "      <td>0.253729</td>\n",
       "    </tr>\n",
       "    <tr>\n",
       "      <th>anaemia</th>\n",
       "      <td>0.088006</td>\n",
       "      <td>1.000000</td>\n",
       "      <td>-0.190741</td>\n",
       "      <td>-0.012729</td>\n",
       "      <td>0.031557</td>\n",
       "      <td>0.038182</td>\n",
       "      <td>-0.043786</td>\n",
       "      <td>0.052174</td>\n",
       "      <td>0.041882</td>\n",
       "      <td>-0.094769</td>\n",
       "      <td>-0.107290</td>\n",
       "      <td>-0.141414</td>\n",
       "      <td>0.066270</td>\n",
       "    </tr>\n",
       "    <tr>\n",
       "      <th>creatinine_phosphokinase</th>\n",
       "      <td>-0.081584</td>\n",
       "      <td>-0.190741</td>\n",
       "      <td>1.000000</td>\n",
       "      <td>-0.009639</td>\n",
       "      <td>-0.044080</td>\n",
       "      <td>-0.070590</td>\n",
       "      <td>0.024463</td>\n",
       "      <td>-0.016408</td>\n",
       "      <td>0.059550</td>\n",
       "      <td>0.079791</td>\n",
       "      <td>0.002421</td>\n",
       "      <td>-0.009346</td>\n",
       "      <td>0.062728</td>\n",
       "    </tr>\n",
       "    <tr>\n",
       "      <th>diabetes</th>\n",
       "      <td>-0.101012</td>\n",
       "      <td>-0.012729</td>\n",
       "      <td>-0.009639</td>\n",
       "      <td>1.000000</td>\n",
       "      <td>-0.004850</td>\n",
       "      <td>-0.012732</td>\n",
       "      <td>0.092193</td>\n",
       "      <td>-0.046975</td>\n",
       "      <td>-0.089551</td>\n",
       "      <td>-0.157730</td>\n",
       "      <td>-0.147173</td>\n",
       "      <td>0.033726</td>\n",
       "      <td>-0.001943</td>\n",
       "    </tr>\n",
       "    <tr>\n",
       "      <th>ejection_fraction</th>\n",
       "      <td>0.060098</td>\n",
       "      <td>0.031557</td>\n",
       "      <td>-0.044080</td>\n",
       "      <td>-0.004850</td>\n",
       "      <td>1.000000</td>\n",
       "      <td>0.024445</td>\n",
       "      <td>0.072177</td>\n",
       "      <td>-0.011302</td>\n",
       "      <td>0.175902</td>\n",
       "      <td>-0.148386</td>\n",
       "      <td>-0.067315</td>\n",
       "      <td>0.041729</td>\n",
       "      <td>-0.268603</td>\n",
       "    </tr>\n",
       "    <tr>\n",
       "      <th>high_blood_pressure</th>\n",
       "      <td>0.093289</td>\n",
       "      <td>0.038182</td>\n",
       "      <td>-0.070590</td>\n",
       "      <td>-0.012732</td>\n",
       "      <td>0.024445</td>\n",
       "      <td>1.000000</td>\n",
       "      <td>0.049963</td>\n",
       "      <td>-0.004935</td>\n",
       "      <td>0.037109</td>\n",
       "      <td>-0.104615</td>\n",
       "      <td>-0.055711</td>\n",
       "      <td>-0.196439</td>\n",
       "      <td>0.079351</td>\n",
       "    </tr>\n",
       "    <tr>\n",
       "      <th>platelets</th>\n",
       "      <td>-0.052354</td>\n",
       "      <td>-0.043786</td>\n",
       "      <td>0.024463</td>\n",
       "      <td>0.092193</td>\n",
       "      <td>0.072177</td>\n",
       "      <td>0.049963</td>\n",
       "      <td>1.000000</td>\n",
       "      <td>-0.041198</td>\n",
       "      <td>0.062125</td>\n",
       "      <td>-0.125120</td>\n",
       "      <td>0.028234</td>\n",
       "      <td>0.010514</td>\n",
       "      <td>-0.049139</td>\n",
       "    </tr>\n",
       "    <tr>\n",
       "      <th>serum_creatinine</th>\n",
       "      <td>0.159187</td>\n",
       "      <td>0.052174</td>\n",
       "      <td>-0.016408</td>\n",
       "      <td>-0.046975</td>\n",
       "      <td>-0.011302</td>\n",
       "      <td>-0.004935</td>\n",
       "      <td>-0.041198</td>\n",
       "      <td>1.000000</td>\n",
       "      <td>-0.189095</td>\n",
       "      <td>0.006970</td>\n",
       "      <td>-0.027414</td>\n",
       "      <td>-0.149315</td>\n",
       "      <td>0.294278</td>\n",
       "    </tr>\n",
       "    <tr>\n",
       "      <th>serum_sodium</th>\n",
       "      <td>-0.045966</td>\n",
       "      <td>0.041882</td>\n",
       "      <td>0.059550</td>\n",
       "      <td>-0.089551</td>\n",
       "      <td>0.175902</td>\n",
       "      <td>0.037109</td>\n",
       "      <td>0.062125</td>\n",
       "      <td>-0.189095</td>\n",
       "      <td>1.000000</td>\n",
       "      <td>-0.027566</td>\n",
       "      <td>0.004813</td>\n",
       "      <td>0.087640</td>\n",
       "      <td>-0.195204</td>\n",
       "    </tr>\n",
       "    <tr>\n",
       "      <th>sex</th>\n",
       "      <td>0.065430</td>\n",
       "      <td>-0.094769</td>\n",
       "      <td>0.079791</td>\n",
       "      <td>-0.157730</td>\n",
       "      <td>-0.148386</td>\n",
       "      <td>-0.104615</td>\n",
       "      <td>-0.125120</td>\n",
       "      <td>0.006970</td>\n",
       "      <td>-0.027566</td>\n",
       "      <td>1.000000</td>\n",
       "      <td>0.445892</td>\n",
       "      <td>-0.015608</td>\n",
       "      <td>-0.004316</td>\n",
       "    </tr>\n",
       "    <tr>\n",
       "      <th>smoking</th>\n",
       "      <td>0.018668</td>\n",
       "      <td>-0.107290</td>\n",
       "      <td>0.002421</td>\n",
       "      <td>-0.147173</td>\n",
       "      <td>-0.067315</td>\n",
       "      <td>-0.055711</td>\n",
       "      <td>0.028234</td>\n",
       "      <td>-0.027414</td>\n",
       "      <td>0.004813</td>\n",
       "      <td>0.445892</td>\n",
       "      <td>1.000000</td>\n",
       "      <td>-0.022839</td>\n",
       "      <td>-0.012623</td>\n",
       "    </tr>\n",
       "    <tr>\n",
       "      <th>time</th>\n",
       "      <td>-0.224068</td>\n",
       "      <td>-0.141414</td>\n",
       "      <td>-0.009346</td>\n",
       "      <td>0.033726</td>\n",
       "      <td>0.041729</td>\n",
       "      <td>-0.196439</td>\n",
       "      <td>0.010514</td>\n",
       "      <td>-0.149315</td>\n",
       "      <td>0.087640</td>\n",
       "      <td>-0.015608</td>\n",
       "      <td>-0.022839</td>\n",
       "      <td>1.000000</td>\n",
       "      <td>-0.526964</td>\n",
       "    </tr>\n",
       "    <tr>\n",
       "      <th>DEATH_EVENT</th>\n",
       "      <td>0.253729</td>\n",
       "      <td>0.066270</td>\n",
       "      <td>0.062728</td>\n",
       "      <td>-0.001943</td>\n",
       "      <td>-0.268603</td>\n",
       "      <td>0.079351</td>\n",
       "      <td>-0.049139</td>\n",
       "      <td>0.294278</td>\n",
       "      <td>-0.195204</td>\n",
       "      <td>-0.004316</td>\n",
       "      <td>-0.012623</td>\n",
       "      <td>-0.526964</td>\n",
       "      <td>1.000000</td>\n",
       "    </tr>\n",
       "  </tbody>\n",
       "</table>\n",
       "</div>"
      ],
      "text/plain": [
       "                               age   anaemia  creatinine_phosphokinase  \\\n",
       "age                       1.000000  0.088006                 -0.081584   \n",
       "anaemia                   0.088006  1.000000                 -0.190741   \n",
       "creatinine_phosphokinase -0.081584 -0.190741                  1.000000   \n",
       "diabetes                 -0.101012 -0.012729                 -0.009639   \n",
       "ejection_fraction         0.060098  0.031557                 -0.044080   \n",
       "high_blood_pressure       0.093289  0.038182                 -0.070590   \n",
       "platelets                -0.052354 -0.043786                  0.024463   \n",
       "serum_creatinine          0.159187  0.052174                 -0.016408   \n",
       "serum_sodium             -0.045966  0.041882                  0.059550   \n",
       "sex                       0.065430 -0.094769                  0.079791   \n",
       "smoking                   0.018668 -0.107290                  0.002421   \n",
       "time                     -0.224068 -0.141414                 -0.009346   \n",
       "DEATH_EVENT               0.253729  0.066270                  0.062728   \n",
       "\n",
       "                          diabetes  ejection_fraction  high_blood_pressure  \\\n",
       "age                      -0.101012           0.060098             0.093289   \n",
       "anaemia                  -0.012729           0.031557             0.038182   \n",
       "creatinine_phosphokinase -0.009639          -0.044080            -0.070590   \n",
       "diabetes                  1.000000          -0.004850            -0.012732   \n",
       "ejection_fraction        -0.004850           1.000000             0.024445   \n",
       "high_blood_pressure      -0.012732           0.024445             1.000000   \n",
       "platelets                 0.092193           0.072177             0.049963   \n",
       "serum_creatinine         -0.046975          -0.011302            -0.004935   \n",
       "serum_sodium             -0.089551           0.175902             0.037109   \n",
       "sex                      -0.157730          -0.148386            -0.104615   \n",
       "smoking                  -0.147173          -0.067315            -0.055711   \n",
       "time                      0.033726           0.041729            -0.196439   \n",
       "DEATH_EVENT              -0.001943          -0.268603             0.079351   \n",
       "\n",
       "                          platelets  serum_creatinine  serum_sodium       sex  \\\n",
       "age                       -0.052354          0.159187     -0.045966  0.065430   \n",
       "anaemia                   -0.043786          0.052174      0.041882 -0.094769   \n",
       "creatinine_phosphokinase   0.024463         -0.016408      0.059550  0.079791   \n",
       "diabetes                   0.092193         -0.046975     -0.089551 -0.157730   \n",
       "ejection_fraction          0.072177         -0.011302      0.175902 -0.148386   \n",
       "high_blood_pressure        0.049963         -0.004935      0.037109 -0.104615   \n",
       "platelets                  1.000000         -0.041198      0.062125 -0.125120   \n",
       "serum_creatinine          -0.041198          1.000000     -0.189095  0.006970   \n",
       "serum_sodium               0.062125         -0.189095      1.000000 -0.027566   \n",
       "sex                       -0.125120          0.006970     -0.027566  1.000000   \n",
       "smoking                    0.028234         -0.027414      0.004813  0.445892   \n",
       "time                       0.010514         -0.149315      0.087640 -0.015608   \n",
       "DEATH_EVENT               -0.049139          0.294278     -0.195204 -0.004316   \n",
       "\n",
       "                           smoking      time  DEATH_EVENT  \n",
       "age                       0.018668 -0.224068     0.253729  \n",
       "anaemia                  -0.107290 -0.141414     0.066270  \n",
       "creatinine_phosphokinase  0.002421 -0.009346     0.062728  \n",
       "diabetes                 -0.147173  0.033726    -0.001943  \n",
       "ejection_fraction        -0.067315  0.041729    -0.268603  \n",
       "high_blood_pressure      -0.055711 -0.196439     0.079351  \n",
       "platelets                 0.028234  0.010514    -0.049139  \n",
       "serum_creatinine         -0.027414 -0.149315     0.294278  \n",
       "serum_sodium              0.004813  0.087640    -0.195204  \n",
       "sex                       0.445892 -0.015608    -0.004316  \n",
       "smoking                   1.000000 -0.022839    -0.012623  \n",
       "time                     -0.022839  1.000000    -0.526964  \n",
       "DEATH_EVENT              -0.012623 -0.526964     1.000000  "
      ]
     },
     "execution_count": 9,
     "metadata": {},
     "output_type": "execute_result"
    }
   ],
   "source": [
    "df.corr()"
   ]
  },
  {
   "cell_type": "code",
   "execution_count": 10,
   "id": "fb947d99",
   "metadata": {},
   "outputs": [
    {
     "data": {
      "text/plain": [
       "<Axes: title={'center': 'Correlation for every column'}>"
      ]
     },
     "execution_count": 10,
     "metadata": {},
     "output_type": "execute_result"
    },
    {
     "data": {
      "image/png": "[encoded data removed]",
      "text/plain": [
       "<Figure size 1800x1200 with 2 Axes>"
      ]
     },
     "metadata": {},
     "output_type": "display_data"
    }
   ],
   "source": [
    "plt.figure(figsize=(18,12))\n",
    "plt.title('Correlation for every column')\n",
    "sns.heatmap(df.corr(), annot=True)"
   ]
  },
  {
   "cell_type": "markdown",
   "id": "d0efc9ff",
   "metadata": {},
   "source": [
    "# Separete x,y"
   ]
  },
  {
   "cell_type": "code",
   "execution_count": 11,
   "id": "850d6efa",
   "metadata": {},
   "outputs": [],
   "source": [
    "x = df.drop('DEATH_EVENT', axis=1)\n",
    "y=df[['DEATH_EVENT']]"
   ]
  },
  {
   "cell_type": "code",
   "execution_count": 12,
   "id": "8973de88",
   "metadata": {},
   "outputs": [
    {
     "data": {
      "text/html": [
       "<div>\n",
       "<style scoped>\n",
       "    .dataframe tbody tr th:only-of-type {\n",
       "        vertical-align: middle;\n",
       "    }\n",
       "\n",
       "    .dataframe tbody tr th {\n",
       "        vertical-align: top;\n",
       "    }\n",
       "\n",
       "    .dataframe thead th {\n",
       "        text-align: right;\n",
       "    }\n",
       "</style>\n",
       "<table border=\"1\" class=\"dataframe\">\n",
       "  <thead>\n",
       "    <tr style=\"text-align: right;\">\n",
       "      <th></th>\n",
       "      <th>age</th>\n",
       "      <th>anaemia</th>\n",
       "      <th>creatinine_phosphokinase</th>\n",
       "      <th>diabetes</th>\n",
       "      <th>ejection_fraction</th>\n",
       "      <th>high_blood_pressure</th>\n",
       "      <th>platelets</th>\n",
       "      <th>serum_creatinine</th>\n",
       "      <th>serum_sodium</th>\n",
       "      <th>sex</th>\n",
       "      <th>smoking</th>\n",
       "      <th>time</th>\n",
       "    </tr>\n",
       "  </thead>\n",
       "  <tbody>\n",
       "    <tr>\n",
       "      <th>0</th>\n",
       "      <td>75.0</td>\n",
       "      <td>0</td>\n",
       "      <td>582</td>\n",
       "      <td>0</td>\n",
       "      <td>20</td>\n",
       "      <td>1</td>\n",
       "      <td>265000.00</td>\n",
       "      <td>1.9</td>\n",
       "      <td>130</td>\n",
       "      <td>1</td>\n",
       "      <td>0</td>\n",
       "      <td>4</td>\n",
       "    </tr>\n",
       "    <tr>\n",
       "      <th>1</th>\n",
       "      <td>55.0</td>\n",
       "      <td>0</td>\n",
       "      <td>7861</td>\n",
       "      <td>0</td>\n",
       "      <td>38</td>\n",
       "      <td>0</td>\n",
       "      <td>263358.03</td>\n",
       "      <td>1.1</td>\n",
       "      <td>136</td>\n",
       "      <td>1</td>\n",
       "      <td>0</td>\n",
       "      <td>6</td>\n",
       "    </tr>\n",
       "    <tr>\n",
       "      <th>2</th>\n",
       "      <td>65.0</td>\n",
       "      <td>0</td>\n",
       "      <td>146</td>\n",
       "      <td>0</td>\n",
       "      <td>20</td>\n",
       "      <td>0</td>\n",
       "      <td>162000.00</td>\n",
       "      <td>1.3</td>\n",
       "      <td>129</td>\n",
       "      <td>1</td>\n",
       "      <td>1</td>\n",
       "      <td>7</td>\n",
       "    </tr>\n",
       "    <tr>\n",
       "      <th>3</th>\n",
       "      <td>50.0</td>\n",
       "      <td>1</td>\n",
       "      <td>111</td>\n",
       "      <td>0</td>\n",
       "      <td>20</td>\n",
       "      <td>0</td>\n",
       "      <td>210000.00</td>\n",
       "      <td>1.9</td>\n",
       "      <td>137</td>\n",
       "      <td>1</td>\n",
       "      <td>0</td>\n",
       "      <td>7</td>\n",
       "    </tr>\n",
       "    <tr>\n",
       "      <th>4</th>\n",
       "      <td>65.0</td>\n",
       "      <td>1</td>\n",
       "      <td>160</td>\n",
       "      <td>1</td>\n",
       "      <td>20</td>\n",
       "      <td>0</td>\n",
       "      <td>327000.00</td>\n",
       "      <td>2.7</td>\n",
       "      <td>116</td>\n",
       "      <td>0</td>\n",
       "      <td>0</td>\n",
       "      <td>8</td>\n",
       "    </tr>\n",
       "  </tbody>\n",
       "</table>\n",
       "</div>"
      ],
      "text/plain": [
       "    age  anaemia  creatinine_phosphokinase  diabetes  ejection_fraction  \\\n",
       "0  75.0        0                       582         0                 20   \n",
       "1  55.0        0                      7861         0                 38   \n",
       "2  65.0        0                       146         0                 20   \n",
       "3  50.0        1                       111         0                 20   \n",
       "4  65.0        1                       160         1                 20   \n",
       "\n",
       "   high_blood_pressure  platelets  serum_creatinine  serum_sodium  sex  \\\n",
       "0                    1  265000.00               1.9           130    1   \n",
       "1                    0  263358.03               1.1           136    1   \n",
       "2                    0  162000.00               1.3           129    1   \n",
       "3                    0  210000.00               1.9           137    1   \n",
       "4                    0  327000.00               2.7           116    0   \n",
       "\n",
       "   smoking  time  \n",
       "0        0     4  \n",
       "1        0     6  \n",
       "2        1     7  \n",
       "3        0     7  \n",
       "4        0     8  "
      ]
     },
     "execution_count": 12,
     "metadata": {},
     "output_type": "execute_result"
    }
   ],
   "source": [
    "x.head()"
   ]
  },
  {
   "cell_type": "code",
   "execution_count": 13,
   "id": "631ee648",
   "metadata": {},
   "outputs": [
    {
     "data": {
      "text/html": [
       "<div>\n",
       "<style scoped>\n",
       "    .dataframe tbody tr th:only-of-type {\n",
       "        vertical-align: middle;\n",
       "    }\n",
       "\n",
       "    .dataframe tbody tr th {\n",
       "        vertical-align: top;\n",
       "    }\n",
       "\n",
       "    .dataframe thead th {\n",
       "        text-align: right;\n",
       "    }\n",
       "</style>\n",
       "<table border=\"1\" class=\"dataframe\">\n",
       "  <thead>\n",
       "    <tr style=\"text-align: right;\">\n",
       "      <th></th>\n",
       "      <th>DEATH_EVENT</th>\n",
       "    </tr>\n",
       "  </thead>\n",
       "  <tbody>\n",
       "    <tr>\n",
       "      <th>0</th>\n",
       "      <td>1</td>\n",
       "    </tr>\n",
       "    <tr>\n",
       "      <th>1</th>\n",
       "      <td>1</td>\n",
       "    </tr>\n",
       "    <tr>\n",
       "      <th>2</th>\n",
       "      <td>1</td>\n",
       "    </tr>\n",
       "    <tr>\n",
       "      <th>3</th>\n",
       "      <td>1</td>\n",
       "    </tr>\n",
       "    <tr>\n",
       "      <th>4</th>\n",
       "      <td>1</td>\n",
       "    </tr>\n",
       "    <tr>\n",
       "      <th>5</th>\n",
       "      <td>1</td>\n",
       "    </tr>\n",
       "    <tr>\n",
       "      <th>6</th>\n",
       "      <td>1</td>\n",
       "    </tr>\n",
       "    <tr>\n",
       "      <th>7</th>\n",
       "      <td>1</td>\n",
       "    </tr>\n",
       "    <tr>\n",
       "      <th>8</th>\n",
       "      <td>1</td>\n",
       "    </tr>\n",
       "    <tr>\n",
       "      <th>9</th>\n",
       "      <td>1</td>\n",
       "    </tr>\n",
       "    <tr>\n",
       "      <th>10</th>\n",
       "      <td>1</td>\n",
       "    </tr>\n",
       "    <tr>\n",
       "      <th>11</th>\n",
       "      <td>1</td>\n",
       "    </tr>\n",
       "    <tr>\n",
       "      <th>12</th>\n",
       "      <td>1</td>\n",
       "    </tr>\n",
       "    <tr>\n",
       "      <th>13</th>\n",
       "      <td>1</td>\n",
       "    </tr>\n",
       "    <tr>\n",
       "      <th>14</th>\n",
       "      <td>0</td>\n",
       "    </tr>\n",
       "  </tbody>\n",
       "</table>\n",
       "</div>"
      ],
      "text/plain": [
       "    DEATH_EVENT\n",
       "0             1\n",
       "1             1\n",
       "2             1\n",
       "3             1\n",
       "4             1\n",
       "5             1\n",
       "6             1\n",
       "7             1\n",
       "8             1\n",
       "9             1\n",
       "10            1\n",
       "11            1\n",
       "12            1\n",
       "13            1\n",
       "14            0"
      ]
     },
     "execution_count": 13,
     "metadata": {},
     "output_type": "execute_result"
    }
   ],
   "source": [
    "y.head(15)"
   ]
  },
  {
   "cell_type": "markdown",
   "id": "83a1a835",
   "metadata": {},
   "source": [
    "# Data Train"
   ]
  },
  {
   "cell_type": "code",
   "execution_count": 14,
   "id": "523e4d83",
   "metadata": {},
   "outputs": [],
   "source": [
    "xtrain,xtest,ytrain,ytest = tts(x,y,test_size=0.3,random_state=42)"
   ]
  },
  {
   "cell_type": "code",
   "execution_count": 15,
   "id": "57b9f364",
   "metadata": {},
   "outputs": [
    {
     "data": {
      "text/html": [
       "<div>\n",
       "<style scoped>\n",
       "    .dataframe tbody tr th:only-of-type {\n",
       "        vertical-align: middle;\n",
       "    }\n",
       "\n",
       "    .dataframe tbody tr th {\n",
       "        vertical-align: top;\n",
       "    }\n",
       "\n",
       "    .dataframe thead th {\n",
       "        text-align: right;\n",
       "    }\n",
       "</style>\n",
       "<table border=\"1\" class=\"dataframe\">\n",
       "  <thead>\n",
       "    <tr style=\"text-align: right;\">\n",
       "      <th></th>\n",
       "      <th>age</th>\n",
       "      <th>anaemia</th>\n",
       "      <th>creatinine_phosphokinase</th>\n",
       "      <th>diabetes</th>\n",
       "      <th>ejection_fraction</th>\n",
       "      <th>high_blood_pressure</th>\n",
       "      <th>platelets</th>\n",
       "      <th>serum_creatinine</th>\n",
       "      <th>serum_sodium</th>\n",
       "      <th>sex</th>\n",
       "      <th>smoking</th>\n",
       "      <th>time</th>\n",
       "    </tr>\n",
       "  </thead>\n",
       "  <tbody>\n",
       "    <tr>\n",
       "      <th>224</th>\n",
       "      <td>58.0</td>\n",
       "      <td>0</td>\n",
       "      <td>582</td>\n",
       "      <td>1</td>\n",
       "      <td>25</td>\n",
       "      <td>0</td>\n",
       "      <td>504000.0</td>\n",
       "      <td>1.0</td>\n",
       "      <td>138</td>\n",
       "      <td>1</td>\n",
       "      <td>0</td>\n",
       "      <td>205</td>\n",
       "    </tr>\n",
       "    <tr>\n",
       "      <th>68</th>\n",
       "      <td>70.0</td>\n",
       "      <td>0</td>\n",
       "      <td>161</td>\n",
       "      <td>0</td>\n",
       "      <td>25</td>\n",
       "      <td>0</td>\n",
       "      <td>244000.0</td>\n",
       "      <td>1.2</td>\n",
       "      <td>142</td>\n",
       "      <td>0</td>\n",
       "      <td>0</td>\n",
       "      <td>66</td>\n",
       "    </tr>\n",
       "    <tr>\n",
       "      <th>222</th>\n",
       "      <td>42.0</td>\n",
       "      <td>1</td>\n",
       "      <td>86</td>\n",
       "      <td>0</td>\n",
       "      <td>35</td>\n",
       "      <td>0</td>\n",
       "      <td>365000.0</td>\n",
       "      <td>1.1</td>\n",
       "      <td>139</td>\n",
       "      <td>1</td>\n",
       "      <td>1</td>\n",
       "      <td>201</td>\n",
       "    </tr>\n",
       "    <tr>\n",
       "      <th>37</th>\n",
       "      <td>82.0</td>\n",
       "      <td>1</td>\n",
       "      <td>855</td>\n",
       "      <td>1</td>\n",
       "      <td>50</td>\n",
       "      <td>1</td>\n",
       "      <td>321000.0</td>\n",
       "      <td>1.0</td>\n",
       "      <td>145</td>\n",
       "      <td>0</td>\n",
       "      <td>0</td>\n",
       "      <td>30</td>\n",
       "    </tr>\n",
       "    <tr>\n",
       "      <th>16</th>\n",
       "      <td>87.0</td>\n",
       "      <td>1</td>\n",
       "      <td>149</td>\n",
       "      <td>0</td>\n",
       "      <td>38</td>\n",
       "      <td>0</td>\n",
       "      <td>262000.0</td>\n",
       "      <td>0.9</td>\n",
       "      <td>140</td>\n",
       "      <td>1</td>\n",
       "      <td>0</td>\n",
       "      <td>14</td>\n",
       "    </tr>\n",
       "  </tbody>\n",
       "</table>\n",
       "</div>"
      ],
      "text/plain": [
       "      age  anaemia  creatinine_phosphokinase  diabetes  ejection_fraction  \\\n",
       "224  58.0        0                       582         1                 25   \n",
       "68   70.0        0                       161         0                 25   \n",
       "222  42.0        1                        86         0                 35   \n",
       "37   82.0        1                       855         1                 50   \n",
       "16   87.0        1                       149         0                 38   \n",
       "\n",
       "     high_blood_pressure  platelets  serum_creatinine  serum_sodium  sex  \\\n",
       "224                    0   504000.0               1.0           138    1   \n",
       "68                     0   244000.0               1.2           142    0   \n",
       "222                    0   365000.0               1.1           139    1   \n",
       "37                     1   321000.0               1.0           145    0   \n",
       "16                     0   262000.0               0.9           140    1   \n",
       "\n",
       "     smoking  time  \n",
       "224        0   205  \n",
       "68         0    66  \n",
       "222        1   201  \n",
       "37         0    30  \n",
       "16         0    14  "
      ]
     },
     "execution_count": 15,
     "metadata": {},
     "output_type": "execute_result"
    }
   ],
   "source": [
    "xtrain.head()"
   ]
  },
  {
   "cell_type": "code",
   "execution_count": 16,
   "id": "76293bf9",
   "metadata": {},
   "outputs": [
    {
     "data": {
      "text/plain": [
       "(209, 12)"
      ]
     },
     "execution_count": 16,
     "metadata": {},
     "output_type": "execute_result"
    }
   ],
   "source": [
    "xtrain.shape"
   ]
  },
  {
   "cell_type": "code",
   "execution_count": 17,
   "id": "4d0d5c6f",
   "metadata": {},
   "outputs": [
    {
     "data": {
      "text/plain": [
       "(90, 12)"
      ]
     },
     "execution_count": 17,
     "metadata": {},
     "output_type": "execute_result"
    }
   ],
   "source": [
    "xtest.shape"
   ]
  },
  {
   "cell_type": "code",
   "execution_count": 18,
   "id": "271c91d9",
   "metadata": {},
   "outputs": [],
   "source": [
    "dt = DecisionTreeClassifier()"
   ]
  },
  {
   "cell_type": "code",
   "execution_count": 19,
   "id": "0d7b0762",
   "metadata": {},
   "outputs": [
    {
     "data": {
      "text/html": [
       "<style>#sk-container-id-1 {color: black;}#sk-container-id-1 pre{padding: 0;}#sk-container-id-1 div.sk-toggleable {background-color: white;}#sk-container-id-1 label.sk-toggleable__label {cursor: pointer;display: block;width: 100%;margin-bottom: 0;padding: 0.3em;box-sizing: border-box;text-align: center;}#sk-container-id-1 label.sk-toggleable__label-arrow:before {content: \"▸\";float: left;margin-right: 0.25em;color: #696969;}#sk-container-id-1 label.sk-toggleable__label-arrow:hover:before {color: black;}#sk-container-id-1 div.sk-estimator:hover label.sk-toggleable__label-arrow:before {color: black;}#sk-container-id-1 div.sk-toggleable__content {max-height: 0;max-width: 0;overflow: hidden;text-align: left;background-color: #f0f8ff;}#sk-container-id-1 div.sk-toggleable__content pre {margin: 0.2em;color: black;border-radius: 0.25em;background-color: #f0f8ff;}#sk-container-id-1 input.sk-toggleable__control:checked~div.sk-toggleable__content {max-height: 200px;max-width: 100%;overflow: auto;}#sk-container-id-1 input.sk-toggleable__control:checked~label.sk-toggleable__label-arrow:before {content: \"▾\";}#sk-container-id-1 div.sk-estimator input.sk-toggleable__control:checked~label.sk-toggleable__label {background-color: #d4ebff;}#sk-container-id-1 div.sk-label input.sk-toggleable__control:checked~label.sk-toggleable__label {background-color: #d4ebff;}#sk-container-id-1 input.sk-hidden--visually {border: 0;clip: rect(1px 1px 1px 1px);clip: rect(1px, 1px, 1px, 1px);height: 1px;margin: -1px;overflow: hidden;padding: 0;position: absolute;width: 1px;}#sk-container-id-1 div.sk-estimator {font-family: monospace;background-color: #f0f8ff;border: 1px dotted black;border-radius: 0.25em;box-sizing: border-box;margin-bottom: 0.5em;}#sk-container-id-1 div.sk-estimator:hover {background-color: #d4ebff;}#sk-container-id-1 div.sk-parallel-item::after {content: \"\";width: 100%;border-bottom: 1px solid gray;flex-grow: 1;}#sk-container-id-1 div.sk-label:hover label.sk-toggleable__label {background-color: #d4ebff;}#sk-container-id-1 div.sk-serial::before {content: \"\";position: absolute;border-left: 1px solid gray;box-sizing: border-box;top: 0;bottom: 0;left: 50%;z-index: 0;}#sk-container-id-1 div.sk-serial {display: flex;flex-direction: column;align-items: center;background-color: white;padding-right: 0.2em;padding-left: 0.2em;position: relative;}#sk-container-id-1 div.sk-item {position: relative;z-index: 1;}#sk-container-id-1 div.sk-parallel {display: flex;align-items: stretch;justify-content: center;background-color: white;position: relative;}#sk-container-id-1 div.sk-item::before, #sk-container-id-1 div.sk-parallel-item::before {content: \"\";position: absolute;border-left: 1px solid gray;box-sizing: border-box;top: 0;bottom: 0;left: 50%;z-index: -1;}#sk-container-id-1 div.sk-parallel-item {display: flex;flex-direction: column;z-index: 1;position: relative;background-color: white;}#sk-container-id-1 div.sk-parallel-item:first-child::after {align-self: flex-end;width: 50%;}#sk-container-id-1 div.sk-parallel-item:last-child::after {align-self: flex-start;width: 50%;}#sk-container-id-1 div.sk-parallel-item:only-child::after {width: 0;}#sk-container-id-1 div.sk-dashed-wrapped {border: 1px dashed gray;margin: 0 0.4em 0.5em 0.4em;box-sizing: border-box;padding-bottom: 0.4em;background-color: white;}#sk-container-id-1 div.sk-label label {font-family: monospace;font-weight: bold;display: inline-block;line-height: 1.2em;}#sk-container-id-1 div.sk-label-container {text-align: center;}#sk-container-id-1 div.sk-container {/* jupyter's `normalize.less` sets `[hidden] { display: none; }` but bootstrap.min.css set `[hidden] { display: none !important; }` so we also need the `!important` here to be able to override the default hidden behavior on the sphinx rendered scikit-learn.org. See: https://github.com/scikit-learn/scikit-learn/issues/21755 */display: inline-block !important;position: relative;}#sk-container-id-1 div.sk-text-repr-fallback {display: none;}</style><div id=\"sk-container-id-1\" class=\"sk-top-container\"><div class=\"sk-text-repr-fallback\"><pre>DecisionTreeClassifier()</pre><b>In a Jupyter environment, please rerun this cell to show the HTML representation or trust the notebook. <br />On GitHub, the HTML representation is unable to render, please try loading this page with nbviewer.org.</b></div><div class=\"sk-container\" hidden><div class=\"sk-item\"><div class=\"sk-estimator sk-toggleable\"><input class=\"sk-toggleable__control sk-hidden--visually\" id=\"sk-estimator-id-1\" type=\"checkbox\" checked><label for=\"sk-estimator-id-1\" class=\"sk-toggleable__label sk-toggleable__label-arrow\">DecisionTreeClassifier</label><div class=\"sk-toggleable__content\"><pre>DecisionTreeClassifier()</pre></div></div></div></div></div>"
      ],
      "text/plain": [
       "DecisionTreeClassifier()"
      ]
     },
     "execution_count": 19,
     "metadata": {},
     "output_type": "execute_result"
    }
   ],
   "source": [
    "dt.fit(xtrain,ytrain)"
   ]
  },
  {
   "cell_type": "code",
   "execution_count": 20,
   "id": "6ea1a6ef",
   "metadata": {},
   "outputs": [],
   "source": [
    "#plt.figure(figsize=(20,20))\n",
    "#tree.plot_tree(dt, filled=True, rounded=True,feature_names=x.columns)\n",
    "#plt.savefig('tree.png',dpi=1200)"
   ]
  },
  {
   "cell_type": "code",
   "execution_count": 21,
   "id": "70abdfb3",
   "metadata": {},
   "outputs": [],
   "source": [
    "pred = dt.predict(xtest)"
   ]
  },
  {
   "cell_type": "code",
   "execution_count": 22,
   "id": "e75c967c",
   "metadata": {},
   "outputs": [
    {
     "data": {
      "text/plain": [
       "array([1, 0, 0, 1, 0, 0, 0, 1, 0, 0, 0, 0, 0, 0, 1, 1, 0, 0, 1, 0, 0, 0,\n",
       "       1, 1, 1, 0, 0, 0, 0, 0, 1, 0, 1, 1, 1, 0, 0, 0, 0, 0, 1, 0, 0, 0,\n",
       "       1, 0, 1, 0, 0, 0, 1, 0, 0, 0, 1, 0, 0, 1, 0, 1, 1, 1, 0, 0, 1, 1,\n",
       "       0, 1, 0, 0, 0, 0, 0, 0, 1, 0, 0, 1, 1, 0, 0, 0, 0, 0, 0, 0, 0, 0,\n",
       "       0, 1], dtype=int64)"
      ]
     },
     "execution_count": 22,
     "metadata": {},
     "output_type": "execute_result"
    }
   ],
   "source": [
    "pred"
   ]
  },
  {
   "cell_type": "code",
   "execution_count": 23,
   "id": "3c950e86",
   "metadata": {},
   "outputs": [
    {
     "data": {
      "text/plain": [
       "array([[0],\n",
       "       [0],\n",
       "       [1],\n",
       "       [1],\n",
       "       [0],\n",
       "       [0],\n",
       "       [1],\n",
       "       [0],\n",
       "       [1],\n",
       "       [0],\n",
       "       [0],\n",
       "       [1],\n",
       "       [1],\n",
       "       [0],\n",
       "       [0],\n",
       "       [1],\n",
       "       [0],\n",
       "       [0],\n",
       "       [1],\n",
       "       [1],\n",
       "       [0],\n",
       "       [0],\n",
       "       [0],\n",
       "       [1],\n",
       "       [1],\n",
       "       [0],\n",
       "       [0],\n",
       "       [0],\n",
       "       [1],\n",
       "       [0],\n",
       "       [1],\n",
       "       [0],\n",
       "       [0],\n",
       "       [1],\n",
       "       [1],\n",
       "       [1],\n",
       "       [1],\n",
       "       [1],\n",
       "       [0],\n",
       "       [0],\n",
       "       [1],\n",
       "       [1],\n",
       "       [0],\n",
       "       [0],\n",
       "       [0],\n",
       "       [0],\n",
       "       [0],\n",
       "       [0],\n",
       "       [0],\n",
       "       [0],\n",
       "       [1],\n",
       "       [1],\n",
       "       [1],\n",
       "       [0],\n",
       "       [0],\n",
       "       [0],\n",
       "       [0],\n",
       "       [1],\n",
       "       [0],\n",
       "       [1],\n",
       "       [1],\n",
       "       [1],\n",
       "       [1],\n",
       "       [0],\n",
       "       [1],\n",
       "       [1],\n",
       "       [0],\n",
       "       [0],\n",
       "       [0],\n",
       "       [0],\n",
       "       [1],\n",
       "       [0],\n",
       "       [0],\n",
       "       [0],\n",
       "       [0],\n",
       "       [0],\n",
       "       [0],\n",
       "       [1],\n",
       "       [0],\n",
       "       [0],\n",
       "       [1],\n",
       "       [1],\n",
       "       [0],\n",
       "       [0],\n",
       "       [0],\n",
       "       [0],\n",
       "       [1],\n",
       "       [1],\n",
       "       [1],\n",
       "       [0]], dtype=int64)"
      ]
     },
     "execution_count": 23,
     "metadata": {},
     "output_type": "execute_result"
    }
   ],
   "source": [
    "np.array(ytest)"
   ]
  },
  {
   "cell_type": "markdown",
   "id": "f5452151",
   "metadata": {},
   "source": [
    "# Confussion Matrix"
   ]
  },
  {
   "cell_type": "code",
   "execution_count": 24,
   "id": "7b1e1d27",
   "metadata": {},
   "outputs": [
    {
     "data": {
      "text/plain": [
       "'              precision    recall  f1-score   support\\n\\n           0       0.67      0.77      0.72        53\\n           1       0.59      0.46      0.52        37\\n\\n    accuracy                           0.64        90\\n   macro avg       0.63      0.62      0.62        90\\nweighted avg       0.64      0.64      0.64        90\\n'"
      ]
     },
     "execution_count": 24,
     "metadata": {},
     "output_type": "execute_result"
    }
   ],
   "source": [
    "classification_report(ytest,pred)"
   ]
  },
  {
   "cell_type": "code",
   "execution_count": 25,
   "id": "6f4cd1ae",
   "metadata": {},
   "outputs": [
    {
     "name": "stdout",
     "output_type": "stream",
     "text": [
      "              precision    recall  f1-score   support\n",
      "\n",
      "           0       0.67      0.77      0.72        53\n",
      "           1       0.59      0.46      0.52        37\n",
      "\n",
      "    accuracy                           0.64        90\n",
      "   macro avg       0.63      0.62      0.62        90\n",
      "weighted avg       0.64      0.64      0.64        90\n",
      "\n"
     ]
    }
   ],
   "source": [
    "print(classification_report(ytest,pred))"
   ]
  },
  {
   "cell_type": "code",
   "execution_count": 26,
   "id": "d13239c3",
   "metadata": {},
   "outputs": [],
   "source": [
    "cm = confusion_matrix(ytest,pred)"
   ]
  },
  {
   "cell_type": "code",
   "execution_count": 27,
   "id": "909350c2",
   "metadata": {},
   "outputs": [
    {
     "data": {
      "text/plain": [
       "array([[41, 12],\n",
       "       [20, 17]], dtype=int64)"
      ]
     },
     "execution_count": 27,
     "metadata": {},
     "output_type": "execute_result"
    }
   ],
   "source": [
    "cm"
   ]
  },
  {
   "cell_type": "code",
   "execution_count": 28,
   "id": "eae36daf",
   "metadata": {},
   "outputs": [
    {
     "data": {
      "text/plain": [
       "Text(0.5, 1.0, 'Confusion Matrix')"
      ]
     },
     "execution_count": 28,
     "metadata": {},
     "output_type": "execute_result"
    },
    {
     "data": {
      "image/png": "[encoded data removed]",
      "text/plain": [
       "<Figure size 640x480 with 2 Axes>"
      ]
     },
     "metadata": {},
     "output_type": "display_data"
    }
   ],
   "source": [
    "sns.heatmap(cm,annot=True)\n",
    "plt.xlabel('Predicted Result')\n",
    "plt.ylabel('Actual values')\n",
    "plt.title('Confusion Matrix')"
   ]
  },
  {
   "cell_type": "code",
   "execution_count": 29,
   "id": "a4aa4cb3",
   "metadata": {},
   "outputs": [],
   "source": [
    "tp,fn,fp,tn = confusion_matrix(ytest,pred).reshape(-1)"
   ]
  },
  {
   "cell_type": "code",
   "execution_count": 30,
   "id": "5ffb1e5c",
   "metadata": {},
   "outputs": [
    {
     "data": {
      "text/plain": [
       "41"
      ]
     },
     "execution_count": 30,
     "metadata": {},
     "output_type": "execute_result"
    }
   ],
   "source": [
    "tp #True Positive"
   ]
  },
  {
   "cell_type": "code",
   "execution_count": 31,
   "id": "ed5a06dc",
   "metadata": {},
   "outputs": [
    {
     "data": {
      "text/plain": [
       "12"
      ]
     },
     "execution_count": 31,
     "metadata": {},
     "output_type": "execute_result"
    }
   ],
   "source": [
    "fn #false Negative"
   ]
  },
  {
   "cell_type": "code",
   "execution_count": 32,
   "id": "dc7fa713",
   "metadata": {},
   "outputs": [
    {
     "data": {
      "text/plain": [
       "20"
      ]
     },
     "execution_count": 32,
     "metadata": {},
     "output_type": "execute_result"
    }
   ],
   "source": [
    "fp #False positive"
   ]
  },
  {
   "cell_type": "code",
   "execution_count": 33,
   "id": "9325784d",
   "metadata": {},
   "outputs": [
    {
     "data": {
      "text/plain": [
       "17"
      ]
     },
     "execution_count": 33,
     "metadata": {},
     "output_type": "execute_result"
    }
   ],
   "source": [
    "tn #True Negative"
   ]
  },
  {
   "cell_type": "code",
   "execution_count": 34,
   "id": "a58be71f",
   "metadata": {},
   "outputs": [],
   "source": [
    "accuracy = (tp+tn)/(tp+fp+fn+tn)"
   ]
  },
  {
   "cell_type": "code",
   "execution_count": 35,
   "id": "35e2d614",
   "metadata": {},
   "outputs": [
    {
     "data": {
      "text/plain": [
       "0.6444444444444445"
      ]
     },
     "execution_count": 35,
     "metadata": {},
     "output_type": "execute_result"
    }
   ],
   "source": [
    "accuracy"
   ]
  },
  {
   "cell_type": "code",
   "execution_count": 36,
   "id": "31ae0743",
   "metadata": {},
   "outputs": [],
   "source": [
    "precision = tp/(tp+fp)"
   ]
  },
  {
   "cell_type": "code",
   "execution_count": 37,
   "id": "2aaf1a89",
   "metadata": {},
   "outputs": [
    {
     "data": {
      "text/plain": [
       "0.6721311475409836"
      ]
     },
     "execution_count": 37,
     "metadata": {},
     "output_type": "execute_result"
    }
   ],
   "source": [
    "precision #or positive predictive value(ppv)"
   ]
  },
  {
   "cell_type": "code",
   "execution_count": 38,
   "id": "3033c064",
   "metadata": {},
   "outputs": [],
   "source": [
    "recall = tp/(tp+fn) #Or sensitivity or hit rate or True positive rate(trp) "
   ]
  },
  {
   "cell_type": "code",
   "execution_count": 39,
   "id": "0d95f9ae",
   "metadata": {},
   "outputs": [
    {
     "data": {
      "text/plain": [
       "0.7735849056603774"
      ]
     },
     "execution_count": 39,
     "metadata": {},
     "output_type": "execute_result"
    }
   ],
   "source": [
    "recall"
   ]
  },
  {
   "cell_type": "code",
   "execution_count": 40,
   "id": "4176da56",
   "metadata": {},
   "outputs": [],
   "source": [
    "f1_score = 2*(precision*recall)/(precision+recall) #or harmonic mean"
   ]
  },
  {
   "cell_type": "code",
   "execution_count": 41,
   "id": "b11dbd88",
   "metadata": {},
   "outputs": [
    {
     "data": {
      "text/plain": [
       "0.719298245614035"
      ]
     },
     "execution_count": 41,
     "metadata": {},
     "output_type": "execute_result"
    }
   ],
   "source": [
    "f1_score"
   ]
  },
  {
   "cell_type": "code",
   "execution_count": 42,
   "id": "e5b9413c",
   "metadata": {},
   "outputs": [],
   "source": [
    "fpr = fp/(fp+tn) #fpr = False positive rate or 1-specificity"
   ]
  },
  {
   "cell_type": "code",
   "execution_count": 43,
   "id": "9c8e8749",
   "metadata": {},
   "outputs": [
    {
     "data": {
      "text/plain": [
       "0.5405405405405406"
      ]
     },
     "execution_count": 43,
     "metadata": {},
     "output_type": "execute_result"
    }
   ],
   "source": [
    "fpr"
   ]
  },
  {
   "cell_type": "code",
   "execution_count": 44,
   "id": "f7f37410",
   "metadata": {},
   "outputs": [],
   "source": [
    "f1_measure = (precision+recall)/2"
   ]
  },
  {
   "cell_type": "code",
   "execution_count": 45,
   "id": "1859c3e8",
   "metadata": {},
   "outputs": [
    {
     "data": {
      "text/plain": [
       "0.7228580266006805"
      ]
     },
     "execution_count": 45,
     "metadata": {},
     "output_type": "execute_result"
    }
   ],
   "source": [
    "f1_measure"
   ]
  },
  {
   "cell_type": "code",
   "execution_count": 46,
   "id": "fe7355bb",
   "metadata": {},
   "outputs": [],
   "source": [
    "specificity = tn/(tn+fp) #or selectivity or True negative rate(tnr)"
   ]
  },
  {
   "cell_type": "code",
   "execution_count": 47,
   "id": "90f9db21",
   "metadata": {},
   "outputs": [
    {
     "data": {
      "text/plain": [
       "0.4594594594594595"
      ]
     },
     "execution_count": 47,
     "metadata": {},
     "output_type": "execute_result"
    }
   ],
   "source": [
    "specificity"
   ]
  },
  {
   "cell_type": "code",
   "execution_count": 48,
   "id": "42c78586",
   "metadata": {},
   "outputs": [],
   "source": [
    "csi = tp/(tp+fn+fp) #csi= critical success index or Threar score(ts)"
   ]
  },
  {
   "cell_type": "code",
   "execution_count": 49,
   "id": "c5ea435f",
   "metadata": {},
   "outputs": [
    {
     "data": {
      "text/plain": [
       "0.5616438356164384"
      ]
     },
     "execution_count": 49,
     "metadata": {},
     "output_type": "execute_result"
    }
   ],
   "source": [
    "csi"
   ]
  },
  {
   "cell_type": "code",
   "execution_count": 50,
   "id": "9053ad43",
   "metadata": {},
   "outputs": [],
   "source": [
    "fdr = fp/(tp+fp) #fdr = False Discovery Rate"
   ]
  },
  {
   "cell_type": "code",
   "execution_count": 51,
   "id": "8d8bdb97",
   "metadata": {},
   "outputs": [
    {
     "data": {
      "text/plain": [
       "0.32786885245901637"
      ]
     },
     "execution_count": 51,
     "metadata": {},
     "output_type": "execute_result"
    }
   ],
   "source": [
    "fdr"
   ]
  },
  {
   "cell_type": "code",
   "execution_count": 52,
   "id": "b706fa47",
   "metadata": {},
   "outputs": [
    {
     "name": "stdout",
     "output_type": "stream",
     "text": [
      "Requirement already satisfied: scikit-plot in c:\\users\\user\\appdata\\local\\programs\\python\\python311\\lib\\site-packages (0.3.7)\n",
      "Requirement already satisfied: matplotlib>=1.4.0 in c:\\users\\user\\appdata\\local\\programs\\python\\python311\\lib\\site-packages (from scikit-plot) (3.7.1)\n",
      "Requirement already satisfied: scikit-learn>=0.18 in c:\\users\\user\\appdata\\local\\programs\\python\\python311\\lib\\site-packages (from scikit-plot) (1.3.0)\n",
      "Requirement already satisfied: scipy>=0.9 in c:\\users\\user\\appdata\\local\\programs\\python\\python311\\lib\\site-packages (from scikit-plot) (1.10.1)\n",
      "Requirement already satisfied: joblib>=0.10 in c:\\users\\user\\appdata\\local\\programs\\python\\python311\\lib\\site-packages (from scikit-plot) (1.2.0)\n",
      "Requirement already satisfied: contourpy>=1.0.1 in c:\\users\\user\\appdata\\local\\programs\\python\\python311\\lib\\site-packages (from matplotlib>=1.4.0->scikit-plot) (1.0.7)\n",
      "Requirement already satisfied: cycler>=0.10 in c:\\users\\user\\appdata\\local\\programs\\python\\python311\\lib\\site-packages (from matplotlib>=1.4.0->scikit-plot) (0.11.0)\n",
      "Requirement already satisfied: fonttools>=4.22.0 in c:\\users\\user\\appdata\\local\\programs\\python\\python311\\lib\\site-packages (from matplotlib>=1.4.0->scikit-plot) (4.39.4)\n",
      "Requirement already satisfied: kiwisolver>=1.0.1 in c:\\users\\user\\appdata\\local\\programs\\python\\python311\\lib\\site-packages (from matplotlib>=1.4.0->scikit-plot) (1.4.4)\n",
      "Requirement already satisfied: numpy>=1.20 in c:\\users\\user\\appdata\\local\\programs\\python\\python311\\lib\\site-packages (from matplotlib>=1.4.0->scikit-plot) (1.24.3)\n",
      "Requirement already satisfied: packaging>=20.0 in c:\\users\\user\\appdata\\local\\programs\\python\\python311\\lib\\site-packages (from matplotlib>=1.4.0->scikit-plot) (23.1)\n",
      "Requirement already satisfied: pillow>=6.2.0 in c:\\users\\user\\appdata\\local\\programs\\python\\python311\\lib\\site-packages (from matplotlib>=1.4.0->scikit-plot) (9.5.0)\n",
      "Requirement already satisfied: pyparsing>=2.3.1 in c:\\users\\user\\appdata\\local\\programs\\python\\python311\\lib\\site-packages (from matplotlib>=1.4.0->scikit-plot) (3.0.9)\n",
      "Requirement already satisfied: python-dateutil>=2.7 in c:\\users\\user\\appdata\\local\\programs\\python\\python311\\lib\\site-packages (from matplotlib>=1.4.0->scikit-plot) (2.8.2)\n",
      "Requirement already satisfied: threadpoolctl>=2.0.0 in c:\\users\\user\\appdata\\local\\programs\\python\\python311\\lib\\site-packages (from scikit-learn>=0.18->scikit-plot) (3.1.0)\n",
      "Requirement already satisfied: six>=1.5 in c:\\users\\user\\appdata\\local\\programs\\python\\python311\\lib\\site-packages (from python-dateutil>=2.7->matplotlib>=1.4.0->scikit-plot) (1.16.0)\n"
     ]
    }
   ],
   "source": [
    "!pip  install scikit-plot"
   ]
  },
  {
   "cell_type": "code",
   "execution_count": 53,
   "id": "50791eb1",
   "metadata": {},
   "outputs": [
    {
     "name": "stdout",
     "output_type": "stream",
     "text": [
      "Requirement already satisfied: scikit-learn in c:\\users\\user\\appdata\\local\\programs\\python\\python311\\lib\\site-packages (1.3.0)\n",
      "Requirement already satisfied: numpy>=1.17.3 in c:\\users\\user\\appdata\\local\\programs\\python\\python311\\lib\\site-packages (from scikit-learn) (1.24.3)\n",
      "Requirement already satisfied: scipy>=1.5.0 in c:\\users\\user\\appdata\\local\\programs\\python\\python311\\lib\\site-packages (from scikit-learn) (1.10.1)\n",
      "Requirement already satisfied: joblib>=1.1.1 in c:\\users\\user\\appdata\\local\\programs\\python\\python311\\lib\\site-packages (from scikit-learn) (1.2.0)\n",
      "Requirement already satisfied: threadpoolctl>=2.0.0 in c:\\users\\user\\appdata\\local\\programs\\python\\python311\\lib\\site-packages (from scikit-learn) (3.1.0)\n"
     ]
    }
   ],
   "source": [
    "!pip install --upgrade scikit-learn"
   ]
  },
  {
   "cell_type": "code",
   "execution_count": 54,
   "id": "9c34bda0",
   "metadata": {},
   "outputs": [
    {
     "data": {
      "image/png": "[encoded data removed]",
      "text/plain": [
       "<Figure size 640x480 with 1 Axes>"
      ]
     },
     "metadata": {},
     "output_type": "display_data"
    }
   ],
   "source": [
    "#ROC\n",
    "import matplotlib.pyplot as plt\n",
    "from sklearn.metrics import roc_curve\n",
    "\n",
    "# Compute the predicted probabilities for the positive class\n",
    "y_pred_prob = dt.predict_proba(xtest)[:, 1]\n",
    "\n",
    "# Compute the false positive rate, true positive rate, and thresholds\n",
    "fpr, tpr, thresholds = roc_curve(ytest, y_pred_prob)\n",
    "\n",
    "# Plot the ROC curve\n",
    "plt.plot(fpr, tpr)\n",
    "plt.plot([0,1],[0,1])\n",
    "plt.xlabel('False Positive Rate')\n",
    "plt.ylabel('True Positive Rate')\n",
    "plt.title('ROC Curve ')\n",
    "plt.show()"
   ]
  },
  {
   "cell_type": "code",
   "execution_count": 55,
   "id": "81e906d4",
   "metadata": {},
   "outputs": [
    {
     "data": {
      "text/plain": [
       "0.6444444444444445"
      ]
     },
     "execution_count": 55,
     "metadata": {},
     "output_type": "execute_result"
    }
   ],
   "source": [
    "accuracy_score(ytest,pred)"
   ]
  },
  {
   "cell_type": "code",
   "execution_count": 56,
   "id": "14f6833b",
   "metadata": {},
   "outputs": [
    {
     "data": {
      "text/plain": [
       "0.6444444444444445"
      ]
     },
     "execution_count": 56,
     "metadata": {},
     "output_type": "execute_result"
    }
   ],
   "source": [
    "dt.score(xtest,ytest)"
   ]
  },
  {
   "cell_type": "markdown",
   "id": "86a48903",
   "metadata": {},
   "source": [
    "# Random Forest Classifier"
   ]
  },
  {
   "cell_type": "code",
   "execution_count": 57,
   "id": "0c6a5270",
   "metadata": {},
   "outputs": [],
   "source": [
    "from sklearn.ensemble import RandomForestClassifier\n",
    "rf = RandomForestClassifier()"
   ]
  },
  {
   "cell_type": "code",
   "execution_count": 58,
   "id": "bb6ecdcc",
   "metadata": {},
   "outputs": [
    {
     "data": {
      "text/html": [
       "<style>#sk-container-id-2 {color: black;}#sk-container-id-2 pre{padding: 0;}#sk-container-id-2 div.sk-toggleable {background-color: white;}#sk-container-id-2 label.sk-toggleable__label {cursor: pointer;display: block;width: 100%;margin-bottom: 0;padding: 0.3em;box-sizing: border-box;text-align: center;}#sk-container-id-2 label.sk-toggleable__label-arrow:before {content: \"▸\";float: left;margin-right: 0.25em;color: #696969;}#sk-container-id-2 label.sk-toggleable__label-arrow:hover:before {color: black;}#sk-container-id-2 div.sk-estimator:hover label.sk-toggleable__label-arrow:before {color: black;}#sk-container-id-2 div.sk-toggleable__content {max-height: 0;max-width: 0;overflow: hidden;text-align: left;background-color: #f0f8ff;}#sk-container-id-2 div.sk-toggleable__content pre {margin: 0.2em;color: black;border-radius: 0.25em;background-color: #f0f8ff;}#sk-container-id-2 input.sk-toggleable__control:checked~div.sk-toggleable__content {max-height: 200px;max-width: 100%;overflow: auto;}#sk-container-id-2 input.sk-toggleable__control:checked~label.sk-toggleable__label-arrow:before {content: \"▾\";}#sk-container-id-2 div.sk-estimator input.sk-toggleable__control:checked~label.sk-toggleable__label {background-color: #d4ebff;}#sk-container-id-2 div.sk-label input.sk-toggleable__control:checked~label.sk-toggleable__label {background-color: #d4ebff;}#sk-container-id-2 input.sk-hidden--visually {border: 0;clip: rect(1px 1px 1px 1px);clip: rect(1px, 1px, 1px, 1px);height: 1px;margin: -1px;overflow: hidden;padding: 0;position: absolute;width: 1px;}#sk-container-id-2 div.sk-estimator {font-family: monospace;background-color: #f0f8ff;border: 1px dotted black;border-radius: 0.25em;box-sizing: border-box;margin-bottom: 0.5em;}#sk-container-id-2 div.sk-estimator:hover {background-color: #d4ebff;}#sk-container-id-2 div.sk-parallel-item::after {content: \"\";width: 100%;border-bottom: 1px solid gray;flex-grow: 1;}#sk-container-id-2 div.sk-label:hover label.sk-toggleable__label {background-color: #d4ebff;}#sk-container-id-2 div.sk-serial::before {content: \"\";position: absolute;border-left: 1px solid gray;box-sizing: border-box;top: 0;bottom: 0;left: 50%;z-index: 0;}#sk-container-id-2 div.sk-serial {display: flex;flex-direction: column;align-items: center;background-color: white;padding-right: 0.2em;padding-left: 0.2em;position: relative;}#sk-container-id-2 div.sk-item {position: relative;z-index: 1;}#sk-container-id-2 div.sk-parallel {display: flex;align-items: stretch;justify-content: center;background-color: white;position: relative;}#sk-container-id-2 div.sk-item::before, #sk-container-id-2 div.sk-parallel-item::before {content: \"\";position: absolute;border-left: 1px solid gray;box-sizing: border-box;top: 0;bottom: 0;left: 50%;z-index: -1;}#sk-container-id-2 div.sk-parallel-item {display: flex;flex-direction: column;z-index: 1;position: relative;background-color: white;}#sk-container-id-2 div.sk-parallel-item:first-child::after {align-self: flex-end;width: 50%;}#sk-container-id-2 div.sk-parallel-item:last-child::after {align-self: flex-start;width: 50%;}#sk-container-id-2 div.sk-parallel-item:only-child::after {width: 0;}#sk-container-id-2 div.sk-dashed-wrapped {border: 1px dashed gray;margin: 0 0.4em 0.5em 0.4em;box-sizing: border-box;padding-bottom: 0.4em;background-color: white;}#sk-container-id-2 div.sk-label label {font-family: monospace;font-weight: bold;display: inline-block;line-height: 1.2em;}#sk-container-id-2 div.sk-label-container {text-align: center;}#sk-container-id-2 div.sk-container {/* jupyter's `normalize.less` sets `[hidden] { display: none; }` but bootstrap.min.css set `[hidden] { display: none !important; }` so we also need the `!important` here to be able to override the default hidden behavior on the sphinx rendered scikit-learn.org. See: https://github.com/scikit-learn/scikit-learn/issues/21755 */display: inline-block !important;position: relative;}#sk-container-id-2 div.sk-text-repr-fallback {display: none;}</style><div id=\"sk-container-id-2\" class=\"sk-top-container\"><div class=\"sk-text-repr-fallback\"><pre>RandomForestClassifier()</pre><b>In a Jupyter environment, please rerun this cell to show the HTML representation or trust the notebook. <br />On GitHub, the HTML representation is unable to render, please try loading this page with nbviewer.org.</b></div><div class=\"sk-container\" hidden><div class=\"sk-item\"><div class=\"sk-estimator sk-toggleable\"><input class=\"sk-toggleable__control sk-hidden--visually\" id=\"sk-estimator-id-2\" type=\"checkbox\" checked><label for=\"sk-estimator-id-2\" class=\"sk-toggleable__label sk-toggleable__label-arrow\">RandomForestClassifier</label><div class=\"sk-toggleable__content\"><pre>RandomForestClassifier()</pre></div></div></div></div></div>"
      ],
      "text/plain": [
       "RandomForestClassifier()"
      ]
     },
     "execution_count": 58,
     "metadata": {},
     "output_type": "execute_result"
    }
   ],
   "source": [
    "rf.fit(xtrain,ytrain)"
   ]
  },
  {
   "cell_type": "code",
   "execution_count": 59,
   "id": "85b9f5ef",
   "metadata": {},
   "outputs": [
    {
     "data": {
      "text/plain": [
       "0.7555555555555555"
      ]
     },
     "execution_count": 59,
     "metadata": {},
     "output_type": "execute_result"
    }
   ],
   "source": [
    "rf.score(xtest,ytest)"
   ]
  },
  {
   "cell_type": "markdown",
   "id": "2814b8d5",
   "metadata": {},
   "source": [
    "# Random Search CV"
   ]
  },
  {
   "cell_type": "code",
   "execution_count": 60,
   "id": "6df9d511",
   "metadata": {},
   "outputs": [],
   "source": [
    "from sklearn.model_selection import RandomizedSearchCV\n",
    "tree = np.random.randint(15,150,30) #15 theke 150 er moddhe 30 ta tree generate korbe"
   ]
  },
  {
   "cell_type": "code",
   "execution_count": 61,
   "id": "666e935a",
   "metadata": {},
   "outputs": [
    {
     "data": {
      "text/plain": [
       "array([ 95, 105, 113,  92, 141,  74,  20,  25,  57, 117,  77,  26,  46,\n",
       "        91,  80,  54, 131, 134,  48, 103, 104,  95,  59, 139, 140,  29,\n",
       "       139,  38, 130, 148])"
      ]
     },
     "execution_count": 61,
     "metadata": {},
     "output_type": "execute_result"
    }
   ],
   "source": [
    " tree"
   ]
  },
  {
   "cell_type": "code",
   "execution_count": 63,
   "id": "db0c3c01",
   "metadata": {},
   "outputs": [],
   "source": [
    "max_features = ['sqrt','log2']\n",
    "max_depth = np.random.randint(2,12,50) \n",
    "criterion = ['gini','entropy']\n",
    "min_samples_split = [2,3,4]\n",
    "\n",
    "grid = {\n",
    "    'n_estimators' : tree,\n",
    "    'criterion' : criterion,\n",
    "    'max_features' : max_features,\n",
    "    'max_depth' : max_depth,\n",
    "    'min_samples_split' : min_samples_split\n",
    "}"
   ]
  },
  {
   "cell_type": "code",
   "execution_count": 64,
   "id": "3457b6d0",
   "metadata": {},
   "outputs": [
    {
     "name": "stdout",
     "output_type": "stream",
     "text": [
      "{'n_estimators': array([ 95, 105, 113,  92, 141,  74,  20,  25,  57, 117,  77,  26,  46,\n",
      "        91,  80,  54, 131, 134,  48, 103, 104,  95,  59, 139, 140,  29,\n",
      "       139,  38, 130, 148]), 'criterion': ['gini', 'entropy'], 'max_features': ['sqrt', 'log2'], 'max_depth': array([ 3, 11,  6, 10,  3,  7, 11, 11,  9, 10,  8,  8,  2, 11,  4,  8,  7,\n",
      "        3,  3,  9,  2,  7,  3,  8,  8,  2,  6,  9,  5,  2, 10,  6,  5,  8,\n",
      "        5,  2, 10,  5, 11, 10, 10,  2,  9,  2, 10,  9,  6,  6,  2, 10]), 'min_samples_split': [2, 3, 4]}\n"
     ]
    }
   ],
   "source": [
    "print(grid)"
   ]
  },
  {
   "cell_type": "code",
   "execution_count": 65,
   "id": "8fd1755a",
   "metadata": {},
   "outputs": [],
   "source": [
    "rcv = RandomizedSearchCV(rf,grid,n_iter=100,cv=3)"
   ]
  },
  {
   "cell_type": "code",
   "execution_count": 66,
   "id": "b3cbfdfa",
   "metadata": {},
   "outputs": [
    {
     "data": {
      "text/html": [
       "<style>#sk-container-id-3 {color: black;}#sk-container-id-3 pre{padding: 0;}#sk-container-id-3 div.sk-toggleable {background-color: white;}#sk-container-id-3 label.sk-toggleable__label {cursor: pointer;display: block;width: 100%;margin-bottom: 0;padding: 0.3em;box-sizing: border-box;text-align: center;}#sk-container-id-3 label.sk-toggleable__label-arrow:before {content: \"▸\";float: left;margin-right: 0.25em;color: #696969;}#sk-container-id-3 label.sk-toggleable__label-arrow:hover:before {color: black;}#sk-container-id-3 div.sk-estimator:hover label.sk-toggleable__label-arrow:before {color: black;}#sk-container-id-3 div.sk-toggleable__content {max-height: 0;max-width: 0;overflow: hidden;text-align: left;background-color: #f0f8ff;}#sk-container-id-3 div.sk-toggleable__content pre {margin: 0.2em;color: black;border-radius: 0.25em;background-color: #f0f8ff;}#sk-container-id-3 input.sk-toggleable__control:checked~div.sk-toggleable__content {max-height: 200px;max-width: 100%;overflow: auto;}#sk-container-id-3 input.sk-toggleable__control:checked~label.sk-toggleable__label-arrow:before {content: \"▾\";}#sk-container-id-3 div.sk-estimator input.sk-toggleable__control:checked~label.sk-toggleable__label {background-color: #d4ebff;}#sk-container-id-3 div.sk-label input.sk-toggleable__control:checked~label.sk-toggleable__label {background-color: #d4ebff;}#sk-container-id-3 input.sk-hidden--visually {border: 0;clip: rect(1px 1px 1px 1px);clip: rect(1px, 1px, 1px, 1px);height: 1px;margin: -1px;overflow: hidden;padding: 0;position: absolute;width: 1px;}#sk-container-id-3 div.sk-estimator {font-family: monospace;background-color: #f0f8ff;border: 1px dotted black;border-radius: 0.25em;box-sizing: border-box;margin-bottom: 0.5em;}#sk-container-id-3 div.sk-estimator:hover {background-color: #d4ebff;}#sk-container-id-3 div.sk-parallel-item::after {content: \"\";width: 100%;border-bottom: 1px solid gray;flex-grow: 1;}#sk-container-id-3 div.sk-label:hover label.sk-toggleable__label {background-color: #d4ebff;}#sk-container-id-3 div.sk-serial::before {content: \"\";position: absolute;border-left: 1px solid gray;box-sizing: border-box;top: 0;bottom: 0;left: 50%;z-index: 0;}#sk-container-id-3 div.sk-serial {display: flex;flex-direction: column;align-items: center;background-color: white;padding-right: 0.2em;padding-left: 0.2em;position: relative;}#sk-container-id-3 div.sk-item {position: relative;z-index: 1;}#sk-container-id-3 div.sk-parallel {display: flex;align-items: stretch;justify-content: center;background-color: white;position: relative;}#sk-container-id-3 div.sk-item::before, #sk-container-id-3 div.sk-parallel-item::before {content: \"\";position: absolute;border-left: 1px solid gray;box-sizing: border-box;top: 0;bottom: 0;left: 50%;z-index: -1;}#sk-container-id-3 div.sk-parallel-item {display: flex;flex-direction: column;z-index: 1;position: relative;background-color: white;}#sk-container-id-3 div.sk-parallel-item:first-child::after {align-self: flex-end;width: 50%;}#sk-container-id-3 div.sk-parallel-item:last-child::after {align-self: flex-start;width: 50%;}#sk-container-id-3 div.sk-parallel-item:only-child::after {width: 0;}#sk-container-id-3 div.sk-dashed-wrapped {border: 1px dashed gray;margin: 0 0.4em 0.5em 0.4em;box-sizing: border-box;padding-bottom: 0.4em;background-color: white;}#sk-container-id-3 div.sk-label label {font-family: monospace;font-weight: bold;display: inline-block;line-height: 1.2em;}#sk-container-id-3 div.sk-label-container {text-align: center;}#sk-container-id-3 div.sk-container {/* jupyter's `normalize.less` sets `[hidden] { display: none; }` but bootstrap.min.css set `[hidden] { display: none !important; }` so we also need the `!important` here to be able to override the default hidden behavior on the sphinx rendered scikit-learn.org. See: https://github.com/scikit-learn/scikit-learn/issues/21755 */display: inline-block !important;position: relative;}#sk-container-id-3 div.sk-text-repr-fallback {display: none;}</style><div id=\"sk-container-id-3\" class=\"sk-top-container\"><div class=\"sk-text-repr-fallback\"><pre>RandomizedSearchCV(cv=3, estimator=RandomForestClassifier(), n_iter=100,\n",
       "                   param_distributions={&#x27;criterion&#x27;: [&#x27;gini&#x27;, &#x27;entropy&#x27;],\n",
       "                                        &#x27;max_depth&#x27;: array([ 3, 11,  6, 10,  3,  7, 11, 11,  9, 10,  8,  8,  2, 11,  4,  8,  7,\n",
       "        3,  3,  9,  2,  7,  3,  8,  8,  2,  6,  9,  5,  2, 10,  6,  5,  8,\n",
       "        5,  2, 10,  5, 11, 10, 10,  2,  9,  2, 10,  9,  6,  6,  2, 10]),\n",
       "                                        &#x27;max_features&#x27;: [&#x27;sqrt&#x27;, &#x27;log2&#x27;],\n",
       "                                        &#x27;min_samples_split&#x27;: [2, 3, 4],\n",
       "                                        &#x27;n_estimators&#x27;: array([ 95, 105, 113,  92, 141,  74,  20,  25,  57, 117,  77,  26,  46,\n",
       "        91,  80,  54, 131, 134,  48, 103, 104,  95,  59, 139, 140,  29,\n",
       "       139,  38, 130, 148])})</pre><b>In a Jupyter environment, please rerun this cell to show the HTML representation or trust the notebook. <br />On GitHub, the HTML representation is unable to render, please try loading this page with nbviewer.org.</b></div><div class=\"sk-container\" hidden><div class=\"sk-item sk-dashed-wrapped\"><div class=\"sk-label-container\"><div class=\"sk-label sk-toggleable\"><input class=\"sk-toggleable__control sk-hidden--visually\" id=\"sk-estimator-id-3\" type=\"checkbox\" ><label for=\"sk-estimator-id-3\" class=\"sk-toggleable__label sk-toggleable__label-arrow\">RandomizedSearchCV</label><div class=\"sk-toggleable__content\"><pre>RandomizedSearchCV(cv=3, estimator=RandomForestClassifier(), n_iter=100,\n",
       "                   param_distributions={&#x27;criterion&#x27;: [&#x27;gini&#x27;, &#x27;entropy&#x27;],\n",
       "                                        &#x27;max_depth&#x27;: array([ 3, 11,  6, 10,  3,  7, 11, 11,  9, 10,  8,  8,  2, 11,  4,  8,  7,\n",
       "        3,  3,  9,  2,  7,  3,  8,  8,  2,  6,  9,  5,  2, 10,  6,  5,  8,\n",
       "        5,  2, 10,  5, 11, 10, 10,  2,  9,  2, 10,  9,  6,  6,  2, 10]),\n",
       "                                        &#x27;max_features&#x27;: [&#x27;sqrt&#x27;, &#x27;log2&#x27;],\n",
       "                                        &#x27;min_samples_split&#x27;: [2, 3, 4],\n",
       "                                        &#x27;n_estimators&#x27;: array([ 95, 105, 113,  92, 141,  74,  20,  25,  57, 117,  77,  26,  46,\n",
       "        91,  80,  54, 131, 134,  48, 103, 104,  95,  59, 139, 140,  29,\n",
       "       139,  38, 130, 148])})</pre></div></div></div><div class=\"sk-parallel\"><div class=\"sk-parallel-item\"><div class=\"sk-item\"><div class=\"sk-label-container\"><div class=\"sk-label sk-toggleable\"><input class=\"sk-toggleable__control sk-hidden--visually\" id=\"sk-estimator-id-4\" type=\"checkbox\" ><label for=\"sk-estimator-id-4\" class=\"sk-toggleable__label sk-toggleable__label-arrow\">estimator: RandomForestClassifier</label><div class=\"sk-toggleable__content\"><pre>RandomForestClassifier()</pre></div></div></div><div class=\"sk-serial\"><div class=\"sk-item\"><div class=\"sk-estimator sk-toggleable\"><input class=\"sk-toggleable__control sk-hidden--visually\" id=\"sk-estimator-id-5\" type=\"checkbox\" ><label for=\"sk-estimator-id-5\" class=\"sk-toggleable__label sk-toggleable__label-arrow\">RandomForestClassifier</label><div class=\"sk-toggleable__content\"><pre>RandomForestClassifier()</pre></div></div></div></div></div></div></div></div></div></div>"
      ],
      "text/plain": [
       "RandomizedSearchCV(cv=3, estimator=RandomForestClassifier(), n_iter=100,\n",
       "                   param_distributions={'criterion': ['gini', 'entropy'],\n",
       "                                        'max_depth': array([ 3, 11,  6, 10,  3,  7, 11, 11,  9, 10,  8,  8,  2, 11,  4,  8,  7,\n",
       "        3,  3,  9,  2,  7,  3,  8,  8,  2,  6,  9,  5,  2, 10,  6,  5,  8,\n",
       "        5,  2, 10,  5, 11, 10, 10,  2,  9,  2, 10,  9,  6,  6,  2, 10]),\n",
       "                                        'max_features': ['sqrt', 'log2'],\n",
       "                                        'min_samples_split': [2, 3, 4],\n",
       "                                        'n_estimators': array([ 95, 105, 113,  92, 141,  74,  20,  25,  57, 117,  77,  26,  46,\n",
       "        91,  80,  54, 131, 134,  48, 103, 104,  95,  59, 139, 140,  29,\n",
       "       139,  38, 130, 148])})"
      ]
     },
     "execution_count": 66,
     "metadata": {},
     "output_type": "execute_result"
    }
   ],
   "source": [
    "rcv.fit(xtrain,ytrain)"
   ]
  },
  {
   "cell_type": "code",
   "execution_count": 67,
   "id": "7307fb11",
   "metadata": {},
   "outputs": [
    {
     "data": {
      "text/plain": [
       "{'mean_fit_time': array([0.02167153, 0.07601929, 0.05402104, 0.06709321, 0.08727622,\n",
       "        0.0628984 , 0.02700663, 0.10468149, 0.03446023, 0.06935398,\n",
       "        0.038402  , 0.07953294, 0.03634127, 0.01994777, 0.07249443,\n",
       "        0.02300493, 0.0452915 , 0.02067653, 0.05894272, 0.10882338,\n",
       "        0.11233163, 0.0440166 , 0.06009515, 0.10280983, 0.04053617,\n",
       "        0.0206871 , 0.08892282, 0.10487143, 0.07170725, 0.02900712,\n",
       "        0.10541844, 0.07028993, 0.08207393, 0.07807263, 0.07021077,\n",
       "        0.07892489, 0.09519506, 0.04267764, 0.10536838, 0.1130081 ,\n",
       "        0.02317309, 0.01881981, 0.0800058 , 0.03351029, 0.01650667,\n",
       "        0.09993903, 0.06929779, 0.08280651, 0.01968845, 0.09523606,\n",
       "        0.09488098, 0.11165675, 0.09808818, 0.10520824, 0.04084102,\n",
       "        0.02333951, 0.08743215, 0.0742135 , 0.02000483, 0.09699694,\n",
       "        0.07051849, 0.04608814, 0.07274437, 0.09953976, 0.08766524,\n",
       "        0.06287106, 0.10296329, 0.07975888, 0.06037585, 0.04470285,\n",
       "        0.09789745, 0.06688341, 0.0719769 , 0.01976379, 0.09271391,\n",
       "        0.08591382, 0.0336744 , 0.09768867, 0.0853529 , 0.07237736,\n",
       "        0.10284472, 0.04445004, 0.06768171, 0.08735307, 0.10153174,\n",
       "        0.09357754, 0.08606593, 0.05774204, 0.01558797, 0.08401863,\n",
       "        0.05602511, 0.10645215, 0.11068034, 0.02067129, 0.08635275,\n",
       "        0.09835768, 0.0897332 , 0.02000483, 0.0950218 , 0.04967817]),\n",
       " 'std_fit_time': array([9.42909340e-04, 3.03457309e-06, 1.17340271e-06, 9.77353985e-05,\n",
       "        5.21330778e-04, 6.78956618e-04, 6.74349576e-07, 4.66230849e-04,\n",
       "        4.25486499e-04, 8.49954718e-04, 4.39184899e-04, 8.38805430e-04,\n",
       "        4.71482786e-04, 3.35678176e-04, 6.61477509e-04, 1.12391596e-07,\n",
       "        2.09857593e-04, 4.76594797e-04, 1.28942700e-04, 5.00313926e-04,\n",
       "        1.12969437e-03, 9.60997439e-06, 6.37347561e-05, 7.13404706e-04,\n",
       "        7.12967258e-04, 4.69711750e-04, 8.21988990e-04, 1.61305244e-03,\n",
       "        4.46113209e-04, 1.07214749e-06, 9.52084886e-04, 5.50633178e-04,\n",
       "        1.36003119e-05, 1.34593336e-05, 2.30779196e-04, 6.44562530e-04,\n",
       "        5.11618909e-02, 4.71876367e-04, 2.78031844e-04, 8.12762218e-04,\n",
       "        2.37371131e-04, 6.04909268e-04, 8.45324480e-04, 4.08431246e-04,\n",
       "        4.07928406e-04, 6.64173922e-04, 5.19699165e-04, 3.55327644e-04,\n",
       "        4.70753015e-04, 8.64584886e-04, 2.52862683e-04, 7.36015578e-04,\n",
       "        6.84335040e-04, 6.73803422e-04, 2.40376408e-04, 4.71034185e-04,\n",
       "        4.50797017e-04, 2.00764017e-04, 2.24783192e-07, 3.69248593e-04,\n",
       "        4.09583597e-04, 9.17878157e-05, 9.57121124e-04, 4.00579116e-04,\n",
       "        2.55188850e-04, 2.10673662e-04, 4.38756278e-04, 5.34448771e-04,\n",
       "        4.88465087e-04, 4.70539078e-04, 2.77573864e-04, 6.41491031e-04,\n",
       "        7.45578800e-04, 3.44648843e-04, 4.97153195e-04, 1.49143775e-04,\n",
       "        4.71314168e-04, 4.71538951e-04, 1.24782965e-03, 4.57012631e-04,\n",
       "        6.08486720e-04, 4.19870529e-04, 4.71651423e-04, 4.71651343e-04,\n",
       "        6.10493324e-04, 4.06376540e-04, 2.61474163e-05, 5.34409252e-04,\n",
       "        4.25468864e-04, 2.97360213e-07, 1.76465543e-05, 9.42219473e-04,\n",
       "        5.87110515e-04, 4.71819920e-04, 4.71763734e-04, 1.24674892e-03,\n",
       "        1.00860235e-03, 2.97360213e-07, 9.90243016e-03, 3.29986547e-03]),\n",
       " 'mean_score_time': array([0.00400106, 0.00800212, 0.00633454, 0.00700363, 0.00966835,\n",
       "        0.00733296, 0.00433453, 0.01033703, 0.004668  , 0.00737786,\n",
       "        0.00500298, 0.00800244, 0.00500131, 0.00355911, 0.00733511,\n",
       "        0.00400114, 0.00516891, 0.0038379 , 0.0066692 , 0.01000245,\n",
       "        0.01000158, 0.00600139, 0.00667421, 0.0104386 , 0.00550532,\n",
       "        0.00367339, 0.00865308, 0.00990351, 0.00800594, 0.00400074,\n",
       "        0.01043542, 0.00800761, 0.00867875, 0.00851297, 0.00716742,\n",
       "        0.00783865, 0.00666793, 0.0053335 , 0.01000214, 0.01066542,\n",
       "        0.00366751, 0.00366791, 0.00833575, 0.00466768, 0.00300097,\n",
       "        0.01033711, 0.00700227, 0.00901182, 0.00333802, 0.00983191,\n",
       "        0.00979384, 0.01067154, 0.00925295, 0.01078288, 0.00533462,\n",
       "        0.00406607, 0.00901008, 0.00794784, 0.00366743, 0.0100023 ,\n",
       "        0.00766842, 0.00501331, 0.007092  , 0.01000214, 0.00899967,\n",
       "        0.00766921, 0.01017086, 0.00825159, 0.00700426, 0.00601498,\n",
       "        0.0096724 , 0.00733574, 0.00767072, 0.0030009 , 0.00933425,\n",
       "        0.00866914, 0.00500099, 0.00966891, 0.00900173, 0.00700196,\n",
       "        0.00998123, 0.00600322, 0.00700752, 0.00900197, 0.01000166,\n",
       "        0.01000492, 0.00911911, 0.00633534, 0.00333444, 0.00900237,\n",
       "        0.0063347 , 0.01001247, 0.01099761, 0.00366751, 0.00866858,\n",
       "        0.0100011 , 0.00966867, 0.00333381, 0.01133545, 0.00733487]),\n",
       " 'std_score_time': array([1.12391596e-07, 4.89903609e-07, 4.71370354e-04, 2.08152149e-06,\n",
       "        4.71204672e-04, 4.72950607e-04, 4.71314168e-04, 4.71426640e-04,\n",
       "        4.71707689e-04, 4.44187613e-04, 2.10565588e-06, 9.19964862e-07,\n",
       "        1.94667955e-07, 4.15877640e-04, 4.71595137e-04, 3.89335909e-07,\n",
       "        2.37033956e-04, 2.30009422e-04, 4.71651584e-04, 2.97360213e-07,\n",
       "        1.95961444e-06, 1.12391596e-07, 4.77385537e-04, 4.16260010e-04,\n",
       "        7.08244799e-04, 4.69417316e-04, 4.61385654e-04, 1.52965458e-04,\n",
       "        6.35683529e-06, 1.12391596e-07, 4.18968193e-04, 7.62028283e-06,\n",
       "        4.77864206e-04, 3.97139947e-04, 2.38515304e-04, 2.36327886e-04,\n",
       "        4.71426801e-04, 4.71820563e-04, 1.94667955e-07, 4.69033400e-04,\n",
       "        4.71314168e-04, 4.72101391e-04, 4.71258324e-04, 4.71651423e-04,\n",
       "        0.00000000e+00, 4.74236349e-04, 7.37000982e-07, 6.83651389e-07,\n",
       "        4.77327148e-04, 2.42261669e-04, 2.95084151e-04, 4.69459858e-04,\n",
       "        5.39691524e-04, 2.01773812e-04, 4.71539032e-04, 9.21613143e-05,\n",
       "        1.01227336e-05, 7.63141420e-05, 4.71089385e-04, 1.12391596e-07,\n",
       "        4.71651584e-04, 1.76465543e-05, 1.12462998e-04, 0.00000000e+00,\n",
       "        3.64363778e-06, 4.71033219e-04, 2.37259937e-04, 5.40354283e-04,\n",
       "        4.21580862e-06, 1.00708138e-05, 4.67661472e-04, 4.71145933e-04,\n",
       "        4.69741492e-04, 1.12391596e-07, 4.72269848e-04, 4.70864602e-04,\n",
       "        1.12391596e-07, 4.71595137e-04, 3.37174788e-07, 1.12391596e-07,\n",
       "        3.09101410e-05, 2.32245750e-06, 8.31697811e-06, 1.94667955e-07,\n",
       "        1.03008599e-06, 3.93370586e-06, 1.64654148e-04, 4.72325773e-04,\n",
       "        4.71763815e-04, 1.12391596e-07, 4.71258002e-04, 8.99132768e-07,\n",
       "        6.97099757e-06, 4.71651423e-04, 4.71651343e-04, 2.68566533e-06,\n",
       "        4.71258002e-04, 4.71201857e-04, 1.69976831e-03, 1.70017354e-03]),\n",
       " 'param_n_estimators': masked_array(data=[26, 103, 74, 95, 130, 92, 38, 139, 48, 91, 54, 105, 48,\n",
       "                    25, 95, 29, 59, 26, 77, 148, 148, 59, 80, 139, 54, 26,\n",
       "                    117, 140, 103, 38, 139, 95, 113, 105, 92, 103, 77, 59,\n",
       "                    141, 148, 29, 25, 117, 46, 20, 148, 92, 117, 26, 139,\n",
       "                    131, 148, 130, 141, 54, 29, 117, 104, 25, 139, 92, 59,\n",
       "                    95, 131, 117, 92, 148, 105, 80, 59, 131, 91, 95, 26,\n",
       "                    134, 113, 48, 130, 113, 95, 139, 59, 91, 117, 134, 139,\n",
       "                    117, 77, 20, 113, 74, 139, 148, 26, 113, 134, 131, 25,\n",
       "                    117, 48],\n",
       "              mask=[False, False, False, False, False, False, False, False,\n",
       "                    False, False, False, False, False, False, False, False,\n",
       "                    False, False, False, False, False, False, False, False,\n",
       "                    False, False, False, False, False, False, False, False,\n",
       "                    False, False, False, False, False, False, False, False,\n",
       "                    False, False, False, False, False, False, False, False,\n",
       "                    False, False, False, False, False, False, False, False,\n",
       "                    False, False, False, False, False, False, False, False,\n",
       "                    False, False, False, False, False, False, False, False,\n",
       "                    False, False, False, False, False, False, False, False,\n",
       "                    False, False, False, False, False, False, False, False,\n",
       "                    False, False, False, False, False, False, False, False,\n",
       "                    False, False, False, False],\n",
       "        fill_value='?',\n",
       "             dtype=object),\n",
       " 'param_min_samples_split': masked_array(data=[2, 2, 4, 4, 4, 4, 2, 2, 4, 2, 4, 4, 3, 4, 2, 2, 4, 4,\n",
       "                    3, 4, 3, 2, 3, 3, 4, 3, 2, 3, 3, 2, 2, 4, 3, 4, 2, 2,\n",
       "                    3, 2, 2, 2, 2, 2, 4, 3, 3, 3, 4, 4, 3, 4, 2, 4, 4, 2,\n",
       "                    4, 3, 2, 4, 4, 3, 2, 3, 4, 3, 2, 4, 4, 2, 2, 3, 2, 4,\n",
       "                    2, 2, 4, 2, 3, 3, 3, 2, 4, 3, 4, 2, 3, 3, 3, 2, 4, 3,\n",
       "                    3, 4, 2, 2, 2, 2, 3, 3, 4, 4],\n",
       "              mask=[False, False, False, False, False, False, False, False,\n",
       "                    False, False, False, False, False, False, False, False,\n",
       "                    False, False, False, False, False, False, False, False,\n",
       "                    False, False, False, False, False, False, False, False,\n",
       "                    False, False, False, False, False, False, False, False,\n",
       "                    False, False, False, False, False, False, False, False,\n",
       "                    False, False, False, False, False, False, False, False,\n",
       "                    False, False, False, False, False, False, False, False,\n",
       "                    False, False, False, False, False, False, False, False,\n",
       "                    False, False, False, False, False, False, False, False,\n",
       "                    False, False, False, False, False, False, False, False,\n",
       "                    False, False, False, False, False, False, False, False,\n",
       "                    False, False, False, False],\n",
       "        fill_value='?',\n",
       "             dtype=object),\n",
       " 'param_max_features': masked_array(data=['log2', 'sqrt', 'log2', 'sqrt', 'log2', 'sqrt', 'sqrt',\n",
       "                    'log2', 'log2', 'log2', 'sqrt', 'log2', 'sqrt', 'sqrt',\n",
       "                    'log2', 'sqrt', 'sqrt', 'log2', 'log2', 'log2', 'log2',\n",
       "                    'sqrt', 'sqrt', 'log2', 'log2', 'sqrt', 'sqrt', 'log2',\n",
       "                    'log2', 'log2', 'log2', 'log2', 'log2', 'log2', 'sqrt',\n",
       "                    'sqrt', 'log2', 'sqrt', 'sqrt', 'log2', 'log2', 'sqrt',\n",
       "                    'log2', 'sqrt', 'log2', 'log2', 'sqrt', 'log2', 'sqrt',\n",
       "                    'sqrt', 'sqrt', 'log2', 'log2', 'sqrt', 'sqrt', 'log2',\n",
       "                    'log2', 'sqrt', 'sqrt', 'log2', 'sqrt', 'sqrt', 'sqrt',\n",
       "                    'sqrt', 'log2', 'sqrt', 'sqrt', 'sqrt', 'log2', 'sqrt',\n",
       "                    'sqrt', 'sqrt', 'sqrt', 'sqrt', 'log2', 'log2', 'sqrt',\n",
       "                    'log2', 'log2', 'sqrt', 'sqrt', 'log2', 'log2', 'sqrt',\n",
       "                    'log2', 'sqrt', 'log2', 'sqrt', 'log2', 'sqrt', 'log2',\n",
       "                    'log2', 'log2', 'sqrt', 'log2', 'log2', 'log2', 'sqrt',\n",
       "                    'log2', 'log2'],\n",
       "              mask=[False, False, False, False, False, False, False, False,\n",
       "                    False, False, False, False, False, False, False, False,\n",
       "                    False, False, False, False, False, False, False, False,\n",
       "                    False, False, False, False, False, False, False, False,\n",
       "                    False, False, False, False, False, False, False, False,\n",
       "                    False, False, False, False, False, False, False, False,\n",
       "                    False, False, False, False, False, False, False, False,\n",
       "                    False, False, False, False, False, False, False, False,\n",
       "                    False, False, False, False, False, False, False, False,\n",
       "                    False, False, False, False, False, False, False, False,\n",
       "                    False, False, False, False, False, False, False, False,\n",
       "                    False, False, False, False, False, False, False, False,\n",
       "                    False, False, False, False],\n",
       "        fill_value='?',\n",
       "             dtype=object),\n",
       " 'param_max_depth': masked_array(data=[10, 6, 5, 3, 2, 2, 2, 8, 3, 8, 3, 9, 7, 8, 8, 10, 9, 6,\n",
       "                    11, 7, 8, 7, 9, 9, 8, 6, 11, 6, 3, 10, 10, 7, 5, 6, 10,\n",
       "                    10, 9, 3, 9, 11, 9, 3, 2, 3, 9, 2, 11, 3, 2, 2, 4, 8,\n",
       "                    7, 10, 10, 11, 8, 3, 10, 3, 8, 11, 10, 10, 8, 2, 3, 10,\n",
       "                    8, 5, 11, 5, 6, 2, 3, 11, 2, 6, 9, 6, 5, 9, 8, 6, 8, 2,\n",
       "                    5, 9, 3, 5, 11, 10, 6, 10, 8, 5, 2, 5, 10, 8],\n",
       "              mask=[False, False, False, False, False, False, False, False,\n",
       "                    False, False, False, False, False, False, False, False,\n",
       "                    False, False, False, False, False, False, False, False,\n",
       "                    False, False, False, False, False, False, False, False,\n",
       "                    False, False, False, False, False, False, False, False,\n",
       "                    False, False, False, False, False, False, False, False,\n",
       "                    False, False, False, False, False, False, False, False,\n",
       "                    False, False, False, False, False, False, False, False,\n",
       "                    False, False, False, False, False, False, False, False,\n",
       "                    False, False, False, False, False, False, False, False,\n",
       "                    False, False, False, False, False, False, False, False,\n",
       "                    False, False, False, False, False, False, False, False,\n",
       "                    False, False, False, False],\n",
       "        fill_value='?',\n",
       "             dtype=object),\n",
       " 'param_criterion': masked_array(data=['gini', 'gini', 'gini', 'entropy', 'gini', 'entropy',\n",
       "                    'gini', 'entropy', 'gini', 'entropy', 'gini',\n",
       "                    'entropy', 'gini', 'gini', 'entropy', 'entropy',\n",
       "                    'entropy', 'entropy', 'entropy', 'gini', 'entropy',\n",
       "                    'gini', 'gini', 'gini', 'gini', 'entropy', 'entropy',\n",
       "                    'gini', 'gini', 'gini', 'entropy', 'gini', 'gini',\n",
       "                    'entropy', 'entropy', 'entropy', 'entropy', 'entropy',\n",
       "                    'gini', 'entropy', 'gini', 'entropy', 'entropy',\n",
       "                    'entropy', 'gini', 'gini', 'gini', 'entropy',\n",
       "                    'entropy', 'entropy', 'entropy', 'entropy', 'entropy',\n",
       "                    'gini', 'gini', 'entropy', 'gini', 'entropy', 'gini',\n",
       "                    'gini', 'entropy', 'entropy', 'entropy', 'entropy',\n",
       "                    'gini', 'gini', 'gini', 'entropy', 'gini', 'entropy',\n",
       "                    'gini', 'gini', 'entropy', 'entropy', 'gini',\n",
       "                    'entropy', 'gini', 'entropy', 'entropy', 'entropy',\n",
       "                    'entropy', 'gini', 'gini', 'entropy', 'entropy',\n",
       "                    'gini', 'entropy', 'gini', 'entropy', 'entropy',\n",
       "                    'gini', 'entropy', 'entropy', 'gini', 'entropy',\n",
       "                    'gini', 'entropy', 'gini', 'gini', 'gini'],\n",
       "              mask=[False, False, False, False, False, False, False, False,\n",
       "                    False, False, False, False, False, False, False, False,\n",
       "                    False, False, False, False, False, False, False, False,\n",
       "                    False, False, False, False, False, False, False, False,\n",
       "                    False, False, False, False, False, False, False, False,\n",
       "                    False, False, False, False, False, False, False, False,\n",
       "                    False, False, False, False, False, False, False, False,\n",
       "                    False, False, False, False, False, False, False, False,\n",
       "                    False, False, False, False, False, False, False, False,\n",
       "                    False, False, False, False, False, False, False, False,\n",
       "                    False, False, False, False, False, False, False, False,\n",
       "                    False, False, False, False, False, False, False, False,\n",
       "                    False, False, False, False],\n",
       "        fill_value='?',\n",
       "             dtype=object),\n",
       " 'params': [{'n_estimators': 26,\n",
       "   'min_samples_split': 2,\n",
       "   'max_features': 'log2',\n",
       "   'max_depth': 10,\n",
       "   'criterion': 'gini'},\n",
       "  {'n_estimators': 103,\n",
       "   'min_samples_split': 2,\n",
       "   'max_features': 'sqrt',\n",
       "   'max_depth': 6,\n",
       "   'criterion': 'gini'},\n",
       "  {'n_estimators': 74,\n",
       "   'min_samples_split': 4,\n",
       "   'max_features': 'log2',\n",
       "   'max_depth': 5,\n",
       "   'criterion': 'gini'},\n",
       "  {'n_estimators': 95,\n",
       "   'min_samples_split': 4,\n",
       "   'max_features': 'sqrt',\n",
       "   'max_depth': 3,\n",
       "   'criterion': 'entropy'},\n",
       "  {'n_estimators': 130,\n",
       "   'min_samples_split': 4,\n",
       "   'max_features': 'log2',\n",
       "   'max_depth': 2,\n",
       "   'criterion': 'gini'},\n",
       "  {'n_estimators': 92,\n",
       "   'min_samples_split': 4,\n",
       "   'max_features': 'sqrt',\n",
       "   'max_depth': 2,\n",
       "   'criterion': 'entropy'},\n",
       "  {'n_estimators': 38,\n",
       "   'min_samples_split': 2,\n",
       "   'max_features': 'sqrt',\n",
       "   'max_depth': 2,\n",
       "   'criterion': 'gini'},\n",
       "  {'n_estimators': 139,\n",
       "   'min_samples_split': 2,\n",
       "   'max_features': 'log2',\n",
       "   'max_depth': 8,\n",
       "   'criterion': 'entropy'},\n",
       "  {'n_estimators': 48,\n",
       "   'min_samples_split': 4,\n",
       "   'max_features': 'log2',\n",
       "   'max_depth': 3,\n",
       "   'criterion': 'gini'},\n",
       "  {'n_estimators': 91,\n",
       "   'min_samples_split': 2,\n",
       "   'max_features': 'log2',\n",
       "   'max_depth': 8,\n",
       "   'criterion': 'entropy'},\n",
       "  {'n_estimators': 54,\n",
       "   'min_samples_split': 4,\n",
       "   'max_features': 'sqrt',\n",
       "   'max_depth': 3,\n",
       "   'criterion': 'gini'},\n",
       "  {'n_estimators': 105,\n",
       "   'min_samples_split': 4,\n",
       "   'max_features': 'log2',\n",
       "   'max_depth': 9,\n",
       "   'criterion': 'entropy'},\n",
       "  {'n_estimators': 48,\n",
       "   'min_samples_split': 3,\n",
       "   'max_features': 'sqrt',\n",
       "   'max_depth': 7,\n",
       "   'criterion': 'gini'},\n",
       "  {'n_estimators': 25,\n",
       "   'min_samples_split': 4,\n",
       "   'max_features': 'sqrt',\n",
       "   'max_depth': 8,\n",
       "   'criterion': 'gini'},\n",
       "  {'n_estimators': 95,\n",
       "   'min_samples_split': 2,\n",
       "   'max_features': 'log2',\n",
       "   'max_depth': 8,\n",
       "   'criterion': 'entropy'},\n",
       "  {'n_estimators': 29,\n",
       "   'min_samples_split': 2,\n",
       "   'max_features': 'sqrt',\n",
       "   'max_depth': 10,\n",
       "   'criterion': 'entropy'},\n",
       "  {'n_estimators': 59,\n",
       "   'min_samples_split': 4,\n",
       "   'max_features': 'sqrt',\n",
       "   'max_depth': 9,\n",
       "   'criterion': 'entropy'},\n",
       "  {'n_estimators': 26,\n",
       "   'min_samples_split': 4,\n",
       "   'max_features': 'log2',\n",
       "   'max_depth': 6,\n",
       "   'criterion': 'entropy'},\n",
       "  {'n_estimators': 77,\n",
       "   'min_samples_split': 3,\n",
       "   'max_features': 'log2',\n",
       "   'max_depth': 11,\n",
       "   'criterion': 'entropy'},\n",
       "  {'n_estimators': 148,\n",
       "   'min_samples_split': 4,\n",
       "   'max_features': 'log2',\n",
       "   'max_depth': 7,\n",
       "   'criterion': 'gini'},\n",
       "  {'n_estimators': 148,\n",
       "   'min_samples_split': 3,\n",
       "   'max_features': 'log2',\n",
       "   'max_depth': 8,\n",
       "   'criterion': 'entropy'},\n",
       "  {'n_estimators': 59,\n",
       "   'min_samples_split': 2,\n",
       "   'max_features': 'sqrt',\n",
       "   'max_depth': 7,\n",
       "   'criterion': 'gini'},\n",
       "  {'n_estimators': 80,\n",
       "   'min_samples_split': 3,\n",
       "   'max_features': 'sqrt',\n",
       "   'max_depth': 9,\n",
       "   'criterion': 'gini'},\n",
       "  {'n_estimators': 139,\n",
       "   'min_samples_split': 3,\n",
       "   'max_features': 'log2',\n",
       "   'max_depth': 9,\n",
       "   'criterion': 'gini'},\n",
       "  {'n_estimators': 54,\n",
       "   'min_samples_split': 4,\n",
       "   'max_features': 'log2',\n",
       "   'max_depth': 8,\n",
       "   'criterion': 'gini'},\n",
       "  {'n_estimators': 26,\n",
       "   'min_samples_split': 3,\n",
       "   'max_features': 'sqrt',\n",
       "   'max_depth': 6,\n",
       "   'criterion': 'entropy'},\n",
       "  {'n_estimators': 117,\n",
       "   'min_samples_split': 2,\n",
       "   'max_features': 'sqrt',\n",
       "   'max_depth': 11,\n",
       "   'criterion': 'entropy'},\n",
       "  {'n_estimators': 140,\n",
       "   'min_samples_split': 3,\n",
       "   'max_features': 'log2',\n",
       "   'max_depth': 6,\n",
       "   'criterion': 'gini'},\n",
       "  {'n_estimators': 103,\n",
       "   'min_samples_split': 3,\n",
       "   'max_features': 'log2',\n",
       "   'max_depth': 3,\n",
       "   'criterion': 'gini'},\n",
       "  {'n_estimators': 38,\n",
       "   'min_samples_split': 2,\n",
       "   'max_features': 'log2',\n",
       "   'max_depth': 10,\n",
       "   'criterion': 'gini'},\n",
       "  {'n_estimators': 139,\n",
       "   'min_samples_split': 2,\n",
       "   'max_features': 'log2',\n",
       "   'max_depth': 10,\n",
       "   'criterion': 'entropy'},\n",
       "  {'n_estimators': 95,\n",
       "   'min_samples_split': 4,\n",
       "   'max_features': 'log2',\n",
       "   'max_depth': 7,\n",
       "   'criterion': 'gini'},\n",
       "  {'n_estimators': 113,\n",
       "   'min_samples_split': 3,\n",
       "   'max_features': 'log2',\n",
       "   'max_depth': 5,\n",
       "   'criterion': 'gini'},\n",
       "  {'n_estimators': 105,\n",
       "   'min_samples_split': 4,\n",
       "   'max_features': 'log2',\n",
       "   'max_depth': 6,\n",
       "   'criterion': 'entropy'},\n",
       "  {'n_estimators': 92,\n",
       "   'min_samples_split': 2,\n",
       "   'max_features': 'sqrt',\n",
       "   'max_depth': 10,\n",
       "   'criterion': 'entropy'},\n",
       "  {'n_estimators': 103,\n",
       "   'min_samples_split': 2,\n",
       "   'max_features': 'sqrt',\n",
       "   'max_depth': 10,\n",
       "   'criterion': 'entropy'},\n",
       "  {'n_estimators': 77,\n",
       "   'min_samples_split': 3,\n",
       "   'max_features': 'log2',\n",
       "   'max_depth': 9,\n",
       "   'criterion': 'entropy'},\n",
       "  {'n_estimators': 59,\n",
       "   'min_samples_split': 2,\n",
       "   'max_features': 'sqrt',\n",
       "   'max_depth': 3,\n",
       "   'criterion': 'entropy'},\n",
       "  {'n_estimators': 141,\n",
       "   'min_samples_split': 2,\n",
       "   'max_features': 'sqrt',\n",
       "   'max_depth': 9,\n",
       "   'criterion': 'gini'},\n",
       "  {'n_estimators': 148,\n",
       "   'min_samples_split': 2,\n",
       "   'max_features': 'log2',\n",
       "   'max_depth': 11,\n",
       "   'criterion': 'entropy'},\n",
       "  {'n_estimators': 29,\n",
       "   'min_samples_split': 2,\n",
       "   'max_features': 'log2',\n",
       "   'max_depth': 9,\n",
       "   'criterion': 'gini'},\n",
       "  {'n_estimators': 25,\n",
       "   'min_samples_split': 2,\n",
       "   'max_features': 'sqrt',\n",
       "   'max_depth': 3,\n",
       "   'criterion': 'entropy'},\n",
       "  {'n_estimators': 117,\n",
       "   'min_samples_split': 4,\n",
       "   'max_features': 'log2',\n",
       "   'max_depth': 2,\n",
       "   'criterion': 'entropy'},\n",
       "  {'n_estimators': 46,\n",
       "   'min_samples_split': 3,\n",
       "   'max_features': 'sqrt',\n",
       "   'max_depth': 3,\n",
       "   'criterion': 'entropy'},\n",
       "  {'n_estimators': 20,\n",
       "   'min_samples_split': 3,\n",
       "   'max_features': 'log2',\n",
       "   'max_depth': 9,\n",
       "   'criterion': 'gini'},\n",
       "  {'n_estimators': 148,\n",
       "   'min_samples_split': 3,\n",
       "   'max_features': 'log2',\n",
       "   'max_depth': 2,\n",
       "   'criterion': 'gini'},\n",
       "  {'n_estimators': 92,\n",
       "   'min_samples_split': 4,\n",
       "   'max_features': 'sqrt',\n",
       "   'max_depth': 11,\n",
       "   'criterion': 'gini'},\n",
       "  {'n_estimators': 117,\n",
       "   'min_samples_split': 4,\n",
       "   'max_features': 'log2',\n",
       "   'max_depth': 3,\n",
       "   'criterion': 'entropy'},\n",
       "  {'n_estimators': 26,\n",
       "   'min_samples_split': 3,\n",
       "   'max_features': 'sqrt',\n",
       "   'max_depth': 2,\n",
       "   'criterion': 'entropy'},\n",
       "  {'n_estimators': 139,\n",
       "   'min_samples_split': 4,\n",
       "   'max_features': 'sqrt',\n",
       "   'max_depth': 2,\n",
       "   'criterion': 'entropy'},\n",
       "  {'n_estimators': 131,\n",
       "   'min_samples_split': 2,\n",
       "   'max_features': 'sqrt',\n",
       "   'max_depth': 4,\n",
       "   'criterion': 'entropy'},\n",
       "  {'n_estimators': 148,\n",
       "   'min_samples_split': 4,\n",
       "   'max_features': 'log2',\n",
       "   'max_depth': 8,\n",
       "   'criterion': 'entropy'},\n",
       "  {'n_estimators': 130,\n",
       "   'min_samples_split': 4,\n",
       "   'max_features': 'log2',\n",
       "   'max_depth': 7,\n",
       "   'criterion': 'entropy'},\n",
       "  {'n_estimators': 141,\n",
       "   'min_samples_split': 2,\n",
       "   'max_features': 'sqrt',\n",
       "   'max_depth': 10,\n",
       "   'criterion': 'gini'},\n",
       "  {'n_estimators': 54,\n",
       "   'min_samples_split': 4,\n",
       "   'max_features': 'sqrt',\n",
       "   'max_depth': 10,\n",
       "   'criterion': 'gini'},\n",
       "  {'n_estimators': 29,\n",
       "   'min_samples_split': 3,\n",
       "   'max_features': 'log2',\n",
       "   'max_depth': 11,\n",
       "   'criterion': 'entropy'},\n",
       "  {'n_estimators': 117,\n",
       "   'min_samples_split': 2,\n",
       "   'max_features': 'log2',\n",
       "   'max_depth': 8,\n",
       "   'criterion': 'gini'},\n",
       "  {'n_estimators': 104,\n",
       "   'min_samples_split': 4,\n",
       "   'max_features': 'sqrt',\n",
       "   'max_depth': 3,\n",
       "   'criterion': 'entropy'},\n",
       "  {'n_estimators': 25,\n",
       "   'min_samples_split': 4,\n",
       "   'max_features': 'sqrt',\n",
       "   'max_depth': 10,\n",
       "   'criterion': 'gini'},\n",
       "  {'n_estimators': 139,\n",
       "   'min_samples_split': 3,\n",
       "   'max_features': 'log2',\n",
       "   'max_depth': 3,\n",
       "   'criterion': 'gini'},\n",
       "  {'n_estimators': 92,\n",
       "   'min_samples_split': 2,\n",
       "   'max_features': 'sqrt',\n",
       "   'max_depth': 8,\n",
       "   'criterion': 'entropy'},\n",
       "  {'n_estimators': 59,\n",
       "   'min_samples_split': 3,\n",
       "   'max_features': 'sqrt',\n",
       "   'max_depth': 11,\n",
       "   'criterion': 'entropy'},\n",
       "  {'n_estimators': 95,\n",
       "   'min_samples_split': 4,\n",
       "   'max_features': 'sqrt',\n",
       "   'max_depth': 10,\n",
       "   'criterion': 'entropy'},\n",
       "  {'n_estimators': 131,\n",
       "   'min_samples_split': 3,\n",
       "   'max_features': 'sqrt',\n",
       "   'max_depth': 10,\n",
       "   'criterion': 'entropy'},\n",
       "  {'n_estimators': 117,\n",
       "   'min_samples_split': 2,\n",
       "   'max_features': 'log2',\n",
       "   'max_depth': 8,\n",
       "   'criterion': 'gini'},\n",
       "  {'n_estimators': 92,\n",
       "   'min_samples_split': 4,\n",
       "   'max_features': 'sqrt',\n",
       "   'max_depth': 2,\n",
       "   'criterion': 'gini'},\n",
       "  {'n_estimators': 148,\n",
       "   'min_samples_split': 4,\n",
       "   'max_features': 'sqrt',\n",
       "   'max_depth': 3,\n",
       "   'criterion': 'gini'},\n",
       "  {'n_estimators': 105,\n",
       "   'min_samples_split': 2,\n",
       "   'max_features': 'sqrt',\n",
       "   'max_depth': 10,\n",
       "   'criterion': 'entropy'},\n",
       "  {'n_estimators': 80,\n",
       "   'min_samples_split': 2,\n",
       "   'max_features': 'log2',\n",
       "   'max_depth': 8,\n",
       "   'criterion': 'gini'},\n",
       "  {'n_estimators': 59,\n",
       "   'min_samples_split': 3,\n",
       "   'max_features': 'sqrt',\n",
       "   'max_depth': 5,\n",
       "   'criterion': 'entropy'},\n",
       "  {'n_estimators': 131,\n",
       "   'min_samples_split': 2,\n",
       "   'max_features': 'sqrt',\n",
       "   'max_depth': 11,\n",
       "   'criterion': 'gini'},\n",
       "  {'n_estimators': 91,\n",
       "   'min_samples_split': 4,\n",
       "   'max_features': 'sqrt',\n",
       "   'max_depth': 5,\n",
       "   'criterion': 'gini'},\n",
       "  {'n_estimators': 95,\n",
       "   'min_samples_split': 2,\n",
       "   'max_features': 'sqrt',\n",
       "   'max_depth': 6,\n",
       "   'criterion': 'entropy'},\n",
       "  {'n_estimators': 26,\n",
       "   'min_samples_split': 2,\n",
       "   'max_features': 'sqrt',\n",
       "   'max_depth': 2,\n",
       "   'criterion': 'entropy'},\n",
       "  {'n_estimators': 134,\n",
       "   'min_samples_split': 4,\n",
       "   'max_features': 'log2',\n",
       "   'max_depth': 3,\n",
       "   'criterion': 'gini'},\n",
       "  {'n_estimators': 113,\n",
       "   'min_samples_split': 2,\n",
       "   'max_features': 'log2',\n",
       "   'max_depth': 11,\n",
       "   'criterion': 'entropy'},\n",
       "  {'n_estimators': 48,\n",
       "   'min_samples_split': 3,\n",
       "   'max_features': 'sqrt',\n",
       "   'max_depth': 2,\n",
       "   'criterion': 'gini'},\n",
       "  {'n_estimators': 130,\n",
       "   'min_samples_split': 3,\n",
       "   'max_features': 'log2',\n",
       "   'max_depth': 6,\n",
       "   'criterion': 'entropy'},\n",
       "  {'n_estimators': 113,\n",
       "   'min_samples_split': 3,\n",
       "   'max_features': 'log2',\n",
       "   'max_depth': 9,\n",
       "   'criterion': 'entropy'},\n",
       "  {'n_estimators': 95,\n",
       "   'min_samples_split': 2,\n",
       "   'max_features': 'sqrt',\n",
       "   'max_depth': 6,\n",
       "   'criterion': 'entropy'},\n",
       "  {'n_estimators': 139,\n",
       "   'min_samples_split': 4,\n",
       "   'max_features': 'sqrt',\n",
       "   'max_depth': 5,\n",
       "   'criterion': 'entropy'},\n",
       "  {'n_estimators': 59,\n",
       "   'min_samples_split': 3,\n",
       "   'max_features': 'log2',\n",
       "   'max_depth': 9,\n",
       "   'criterion': 'gini'},\n",
       "  {'n_estimators': 91,\n",
       "   'min_samples_split': 4,\n",
       "   'max_features': 'log2',\n",
       "   'max_depth': 8,\n",
       "   'criterion': 'gini'},\n",
       "  {'n_estimators': 117,\n",
       "   'min_samples_split': 2,\n",
       "   'max_features': 'sqrt',\n",
       "   'max_depth': 6,\n",
       "   'criterion': 'entropy'},\n",
       "  {'n_estimators': 134,\n",
       "   'min_samples_split': 3,\n",
       "   'max_features': 'log2',\n",
       "   'max_depth': 8,\n",
       "   'criterion': 'entropy'},\n",
       "  {'n_estimators': 139,\n",
       "   'min_samples_split': 3,\n",
       "   'max_features': 'sqrt',\n",
       "   'max_depth': 2,\n",
       "   'criterion': 'gini'},\n",
       "  {'n_estimators': 117,\n",
       "   'min_samples_split': 3,\n",
       "   'max_features': 'log2',\n",
       "   'max_depth': 5,\n",
       "   'criterion': 'entropy'},\n",
       "  {'n_estimators': 77,\n",
       "   'min_samples_split': 2,\n",
       "   'max_features': 'sqrt',\n",
       "   'max_depth': 9,\n",
       "   'criterion': 'gini'},\n",
       "  {'n_estimators': 20,\n",
       "   'min_samples_split': 4,\n",
       "   'max_features': 'log2',\n",
       "   'max_depth': 3,\n",
       "   'criterion': 'entropy'},\n",
       "  {'n_estimators': 113,\n",
       "   'min_samples_split': 3,\n",
       "   'max_features': 'sqrt',\n",
       "   'max_depth': 5,\n",
       "   'criterion': 'entropy'},\n",
       "  {'n_estimators': 74,\n",
       "   'min_samples_split': 3,\n",
       "   'max_features': 'log2',\n",
       "   'max_depth': 11,\n",
       "   'criterion': 'gini'},\n",
       "  {'n_estimators': 139,\n",
       "   'min_samples_split': 4,\n",
       "   'max_features': 'log2',\n",
       "   'max_depth': 10,\n",
       "   'criterion': 'entropy'},\n",
       "  {'n_estimators': 148,\n",
       "   'min_samples_split': 2,\n",
       "   'max_features': 'log2',\n",
       "   'max_depth': 6,\n",
       "   'criterion': 'entropy'},\n",
       "  {'n_estimators': 26,\n",
       "   'min_samples_split': 2,\n",
       "   'max_features': 'sqrt',\n",
       "   'max_depth': 10,\n",
       "   'criterion': 'gini'},\n",
       "  {'n_estimators': 113,\n",
       "   'min_samples_split': 2,\n",
       "   'max_features': 'log2',\n",
       "   'max_depth': 8,\n",
       "   'criterion': 'entropy'},\n",
       "  {'n_estimators': 134,\n",
       "   'min_samples_split': 2,\n",
       "   'max_features': 'log2',\n",
       "   'max_depth': 5,\n",
       "   'criterion': 'gini'},\n",
       "  {'n_estimators': 131,\n",
       "   'min_samples_split': 3,\n",
       "   'max_features': 'log2',\n",
       "   'max_depth': 2,\n",
       "   'criterion': 'entropy'},\n",
       "  {'n_estimators': 25,\n",
       "   'min_samples_split': 3,\n",
       "   'max_features': 'sqrt',\n",
       "   'max_depth': 5,\n",
       "   'criterion': 'gini'},\n",
       "  {'n_estimators': 117,\n",
       "   'min_samples_split': 4,\n",
       "   'max_features': 'log2',\n",
       "   'max_depth': 10,\n",
       "   'criterion': 'gini'},\n",
       "  {'n_estimators': 48,\n",
       "   'min_samples_split': 4,\n",
       "   'max_features': 'log2',\n",
       "   'max_depth': 8,\n",
       "   'criterion': 'gini'}],\n",
       " 'split0_test_score': array([0.82857143, 0.78571429, 0.82857143, 0.81428571, 0.81428571,\n",
       "        0.81428571, 0.8       , 0.82857143, 0.78571429, 0.82857143,\n",
       "        0.81428571, 0.81428571, 0.82857143, 0.81428571, 0.81428571,\n",
       "        0.81428571, 0.8       , 0.8       , 0.81428571, 0.82857143,\n",
       "        0.82857143, 0.81428571, 0.82857143, 0.82857143, 0.81428571,\n",
       "        0.82857143, 0.85714286, 0.8       , 0.82857143, 0.81428571,\n",
       "        0.84285714, 0.81428571, 0.8       , 0.81428571, 0.82857143,\n",
       "        0.82857143, 0.82857143, 0.82857143, 0.78571429, 0.8       ,\n",
       "        0.81428571, 0.75714286, 0.8       , 0.8       , 0.82857143,\n",
       "        0.82857143, 0.8       , 0.82857143, 0.81428571, 0.82857143,\n",
       "        0.78571429, 0.81428571, 0.78571429, 0.82857143, 0.81428571,\n",
       "        0.82857143, 0.8       , 0.82857143, 0.82857143, 0.81428571,\n",
       "        0.78571429, 0.77142857, 0.82857143, 0.82857143, 0.8       ,\n",
       "        0.78571429, 0.82857143, 0.8       , 0.84285714, 0.81428571,\n",
       "        0.81428571, 0.78571429, 0.84285714, 0.77142857, 0.82857143,\n",
       "        0.81428571, 0.82857143, 0.82857143, 0.8       , 0.81428571,\n",
       "        0.82857143, 0.81428571, 0.81428571, 0.82857143, 0.84285714,\n",
       "        0.77142857, 0.8       , 0.8       , 0.82857143, 0.82857143,\n",
       "        0.82857143, 0.84285714, 0.8       , 0.81428571, 0.82857143,\n",
       "        0.81428571, 0.81428571, 0.84285714, 0.81428571, 0.8       ]),\n",
       " 'split1_test_score': array([0.91428571, 0.91428571, 0.94285714, 0.94285714, 0.91428571,\n",
       "        0.9       , 0.87142857, 0.92857143, 0.91428571, 0.94285714,\n",
       "        0.92857143, 0.94285714, 0.94285714, 0.92857143, 0.92857143,\n",
       "        0.9       , 0.91428571, 0.92857143, 0.91428571, 0.92857143,\n",
       "        0.95714286, 0.92857143, 0.94285714, 0.95714286, 0.94285714,\n",
       "        0.91428571, 0.92857143, 0.91428571, 0.95714286, 0.92857143,\n",
       "        0.92857143, 0.94285714, 0.92857143, 0.94285714, 0.92857143,\n",
       "        0.92857143, 0.94285714, 0.95714286, 0.91428571, 0.95714286,\n",
       "        0.97142857, 0.91428571, 0.87142857, 0.94285714, 0.91428571,\n",
       "        0.9       , 0.92857143, 0.97142857, 0.88571429, 0.91428571,\n",
       "        0.95714286, 0.92857143, 0.95714286, 0.94285714, 0.94285714,\n",
       "        0.91428571, 0.92857143, 0.95714286, 0.94285714, 0.91428571,\n",
       "        0.9       , 0.92857143, 0.94285714, 0.94285714, 0.92857143,\n",
       "        0.9       , 0.95714286, 0.92857143, 0.91428571, 0.92857143,\n",
       "        0.92857143, 0.92857143, 0.92857143, 0.88571429, 0.92857143,\n",
       "        0.92857143, 0.85714286, 0.94285714, 0.94285714, 0.92857143,\n",
       "        0.92857143, 0.94285714, 0.92857143, 0.92857143, 0.94285714,\n",
       "        0.85714286, 0.95714286, 0.92857143, 0.88571429, 0.95714286,\n",
       "        0.92857143, 0.94285714, 0.92857143, 0.92857143, 0.92857143,\n",
       "        0.95714286, 0.87142857, 0.88571429, 0.94285714, 0.91428571]),\n",
       " 'split2_test_score': array([0.85507246, 0.82608696, 0.85507246, 0.84057971, 0.82608696,\n",
       "        0.82608696, 0.8115942 , 0.85507246, 0.84057971, 0.84057971,\n",
       "        0.79710145, 0.84057971, 0.82608696, 0.82608696, 0.85507246,\n",
       "        0.84057971, 0.82608696, 0.84057971, 0.85507246, 0.84057971,\n",
       "        0.85507246, 0.85507246, 0.86956522, 0.85507246, 0.85507246,\n",
       "        0.79710145, 0.84057971, 0.85507246, 0.86956522, 0.84057971,\n",
       "        0.82608696, 0.8115942 , 0.84057971, 0.84057971, 0.84057971,\n",
       "        0.84057971, 0.84057971, 0.84057971, 0.85507246, 0.85507246,\n",
       "        0.86956522, 0.85507246, 0.8115942 , 0.84057971, 0.8115942 ,\n",
       "        0.82608696, 0.84057971, 0.85507246, 0.79710145, 0.84057971,\n",
       "        0.84057971, 0.85507246, 0.8115942 , 0.85507246, 0.84057971,\n",
       "        0.84057971, 0.85507246, 0.85507246, 0.79710145, 0.85507246,\n",
       "        0.85507246, 0.85507246, 0.84057971, 0.85507246, 0.85507246,\n",
       "        0.85507246, 0.85507246, 0.84057971, 0.84057971, 0.84057971,\n",
       "        0.82608696, 0.82608696, 0.85507246, 0.84057971, 0.85507246,\n",
       "        0.84057971, 0.85507246, 0.84057971, 0.84057971, 0.85507246,\n",
       "        0.84057971, 0.86956522, 0.86956522, 0.88405797, 0.82608696,\n",
       "        0.86956522, 0.84057971, 0.84057971, 0.84057971, 0.85507246,\n",
       "        0.86956522, 0.85507246, 0.85507246, 0.86956522, 0.84057971,\n",
       "        0.84057971, 0.8115942 , 0.85507246, 0.85507246, 0.84057971]),\n",
       " 'mean_test_score': array([0.86597654, 0.84202899, 0.87550035, 0.86590752, 0.8515528 ,\n",
       "        0.84679089, 0.82767426, 0.87073844, 0.8468599 , 0.87066943,\n",
       "        0.84665286, 0.86590752, 0.86583851, 0.8563147 , 0.86597654,\n",
       "        0.85162181, 0.84679089, 0.85638371, 0.86121463, 0.86590752,\n",
       "        0.88026225, 0.86597654, 0.88033126, 0.88026225, 0.87073844,\n",
       "        0.84665286, 0.87543133, 0.85645273, 0.88509317, 0.86114562,\n",
       "        0.86583851, 0.85624569, 0.85638371, 0.86590752, 0.86590752,\n",
       "        0.86590752, 0.87066943, 0.87543133, 0.85169082, 0.87073844,\n",
       "        0.88509317, 0.84216701, 0.82767426, 0.86114562, 0.85148378,\n",
       "        0.8515528 , 0.85638371, 0.88502415, 0.83236715, 0.86114562,\n",
       "        0.86114562, 0.86597654, 0.85148378, 0.87550035, 0.86590752,\n",
       "        0.86114562, 0.86121463, 0.88026225, 0.85617667, 0.86121463,\n",
       "        0.84692892, 0.85169082, 0.87066943, 0.87550035, 0.86121463,\n",
       "        0.84692892, 0.88026225, 0.85638371, 0.86590752, 0.86114562,\n",
       "        0.8563147 , 0.84679089, 0.87550035, 0.83257419, 0.87073844,\n",
       "        0.86114562, 0.84692892, 0.87066943, 0.86114562, 0.86597654,\n",
       "        0.86590752, 0.87556936, 0.87080745, 0.88040028, 0.87060041,\n",
       "        0.83271222, 0.86590752, 0.85638371, 0.85162181, 0.88026225,\n",
       "        0.87556936, 0.88026225, 0.86121463, 0.87080745, 0.86590752,\n",
       "        0.87066943, 0.83243616, 0.86121463, 0.87073844, 0.85162181]),\n",
       " 'std_test_score': array([0.0358321 , 0.0536859 , 0.04884178, 0.05546036, 0.04461974,\n",
       "        0.03793173, 0.03129895, 0.04230104, 0.05267658, 0.0512793 ,\n",
       "        0.05834845, 0.05546036, 0.05446984, 0.05131987, 0.04728975,\n",
       "        0.03585323, 0.04889987, 0.05366549, 0.0410552 , 0.04458044,\n",
       "        0.05542892, 0.04728975, 0.04727393, 0.05542892, 0.05364526,\n",
       "        0.0495193 , 0.03817929, 0.04666715, 0.05362519, 0.04887074,\n",
       "        0.0448841 , 0.0612534 , 0.05366549, 0.05546036, 0.04458044,\n",
       "        0.04458044, 0.0512793 , 0.05798638, 0.0525435 , 0.06510267,\n",
       "        0.06508613, 0.06479909, 0.03129895, 0.06010689, 0.04494529,\n",
       "        0.03427236, 0.05366549, 0.06204766, 0.03836893, 0.03789417,\n",
       "        0.07148033, 0.04728975, 0.07545561, 0.04884178, 0.05546036,\n",
       "        0.03789417, 0.05266845, 0.05542892, 0.06262437, 0.0410552 ,\n",
       "        0.04701095, 0.06419785, 0.0512793 , 0.04884178, 0.05266845,\n",
       "        0.04701095, 0.05542892, 0.05366549, 0.03422118, 0.04887074,\n",
       "        0.05131987, 0.06013058, 0.03785682, 0.0469991 , 0.04230104,\n",
       "        0.04887074, 0.01300819, 0.0512793 , 0.06010689, 0.04728975,\n",
       "        0.04458044, 0.05266049, 0.04666522, 0.04090667, 0.05154988,\n",
       "        0.04362983, 0.06660627, 0.05366549, 0.02460044, 0.05542892,\n",
       "        0.04104499, 0.04454132, 0.05266845, 0.04666522, 0.04458044,\n",
       "        0.06208104, 0.02759368, 0.01802736, 0.05364526, 0.04730576]),\n",
       " 'rank_test_score': array([33, 94, 14, 38, 80, 88, 99, 22, 87, 27, 91, 38, 49, 71, 33, 77, 88,\n",
       "        66, 51, 38,  6, 33,  5,  6, 22, 91, 18, 65,  1, 57, 49, 73, 66, 38,\n",
       "        38, 38, 27, 18, 76, 22,  2, 93, 99, 57, 82, 80, 66,  3, 98, 57, 57,\n",
       "        33, 82, 14, 38, 57, 51,  6, 74, 51, 84, 75, 27, 14, 51, 84,  6, 66,\n",
       "        38, 57, 71, 88, 14, 96, 22, 57, 84, 27, 57, 33, 38, 12, 20,  4, 32,\n",
       "        95, 38, 66, 77,  6, 12,  6, 51, 20, 38, 27, 97, 51, 22, 77])}"
      ]
     },
     "execution_count": 67,
     "metadata": {},
     "output_type": "execute_result"
    }
   ],
   "source": [
    "rcv.cv_results_"
   ]
  },
  {
   "cell_type": "code",
   "execution_count": 68,
   "id": "5389adf9",
   "metadata": {},
   "outputs": [],
   "source": [
    "tuning_result = pd.DataFrame(rcv.cv_results_)"
   ]
  },
  {
   "cell_type": "code",
   "execution_count": 69,
   "id": "8e01d297",
   "metadata": {},
   "outputs": [
    {
     "data": {
      "text/html": [
       "<div>\n",
       "<style scoped>\n",
       "    .dataframe tbody tr th:only-of-type {\n",
       "        vertical-align: middle;\n",
       "    }\n",
       "\n",
       "    .dataframe tbody tr th {\n",
       "        vertical-align: top;\n",
       "    }\n",
       "\n",
       "    .dataframe thead th {\n",
       "        text-align: right;\n",
       "    }\n",
       "</style>\n",
       "<table border=\"1\" class=\"dataframe\">\n",
       "  <thead>\n",
       "    <tr style=\"text-align: right;\">\n",
       "      <th></th>\n",
       "      <th>mean_fit_time</th>\n",
       "      <th>std_fit_time</th>\n",
       "      <th>mean_score_time</th>\n",
       "      <th>std_score_time</th>\n",
       "      <th>param_n_estimators</th>\n",
       "      <th>param_min_samples_split</th>\n",
       "      <th>param_max_features</th>\n",
       "      <th>param_max_depth</th>\n",
       "      <th>param_criterion</th>\n",
       "      <th>params</th>\n",
       "      <th>split0_test_score</th>\n",
       "      <th>split1_test_score</th>\n",
       "      <th>split2_test_score</th>\n",
       "      <th>mean_test_score</th>\n",
       "      <th>std_test_score</th>\n",
       "      <th>rank_test_score</th>\n",
       "    </tr>\n",
       "  </thead>\n",
       "  <tbody>\n",
       "    <tr>\n",
       "      <th>0</th>\n",
       "      <td>0.021672</td>\n",
       "      <td>9.429093e-04</td>\n",
       "      <td>0.004001</td>\n",
       "      <td>1.123916e-07</td>\n",
       "      <td>26</td>\n",
       "      <td>2</td>\n",
       "      <td>log2</td>\n",
       "      <td>10</td>\n",
       "      <td>gini</td>\n",
       "      <td>{'n_estimators': 26, 'min_samples_split': 2, '...</td>\n",
       "      <td>0.828571</td>\n",
       "      <td>0.914286</td>\n",
       "      <td>0.855072</td>\n",
       "      <td>0.865977</td>\n",
       "      <td>0.035832</td>\n",
       "      <td>33</td>\n",
       "    </tr>\n",
       "    <tr>\n",
       "      <th>1</th>\n",
       "      <td>0.076019</td>\n",
       "      <td>3.034573e-06</td>\n",
       "      <td>0.008002</td>\n",
       "      <td>4.899036e-07</td>\n",
       "      <td>103</td>\n",
       "      <td>2</td>\n",
       "      <td>sqrt</td>\n",
       "      <td>6</td>\n",
       "      <td>gini</td>\n",
       "      <td>{'n_estimators': 103, 'min_samples_split': 2, ...</td>\n",
       "      <td>0.785714</td>\n",
       "      <td>0.914286</td>\n",
       "      <td>0.826087</td>\n",
       "      <td>0.842029</td>\n",
       "      <td>0.053686</td>\n",
       "      <td>94</td>\n",
       "    </tr>\n",
       "    <tr>\n",
       "      <th>2</th>\n",
       "      <td>0.054021</td>\n",
       "      <td>1.173403e-06</td>\n",
       "      <td>0.006335</td>\n",
       "      <td>4.713704e-04</td>\n",
       "      <td>74</td>\n",
       "      <td>4</td>\n",
       "      <td>log2</td>\n",
       "      <td>5</td>\n",
       "      <td>gini</td>\n",
       "      <td>{'n_estimators': 74, 'min_samples_split': 4, '...</td>\n",
       "      <td>0.828571</td>\n",
       "      <td>0.942857</td>\n",
       "      <td>0.855072</td>\n",
       "      <td>0.875500</td>\n",
       "      <td>0.048842</td>\n",
       "      <td>14</td>\n",
       "    </tr>\n",
       "    <tr>\n",
       "      <th>3</th>\n",
       "      <td>0.067093</td>\n",
       "      <td>9.773540e-05</td>\n",
       "      <td>0.007004</td>\n",
       "      <td>2.081521e-06</td>\n",
       "      <td>95</td>\n",
       "      <td>4</td>\n",
       "      <td>sqrt</td>\n",
       "      <td>3</td>\n",
       "      <td>entropy</td>\n",
       "      <td>{'n_estimators': 95, 'min_samples_split': 4, '...</td>\n",
       "      <td>0.814286</td>\n",
       "      <td>0.942857</td>\n",
       "      <td>0.840580</td>\n",
       "      <td>0.865908</td>\n",
       "      <td>0.055460</td>\n",
       "      <td>38</td>\n",
       "    </tr>\n",
       "    <tr>\n",
       "      <th>4</th>\n",
       "      <td>0.087276</td>\n",
       "      <td>5.213308e-04</td>\n",
       "      <td>0.009668</td>\n",
       "      <td>4.712047e-04</td>\n",
       "      <td>130</td>\n",
       "      <td>4</td>\n",
       "      <td>log2</td>\n",
       "      <td>2</td>\n",
       "      <td>gini</td>\n",
       "      <td>{'n_estimators': 130, 'min_samples_split': 4, ...</td>\n",
       "      <td>0.814286</td>\n",
       "      <td>0.914286</td>\n",
       "      <td>0.826087</td>\n",
       "      <td>0.851553</td>\n",
       "      <td>0.044620</td>\n",
       "      <td>80</td>\n",
       "    </tr>\n",
       "    <tr>\n",
       "      <th>...</th>\n",
       "      <td>...</td>\n",
       "      <td>...</td>\n",
       "      <td>...</td>\n",
       "      <td>...</td>\n",
       "      <td>...</td>\n",
       "      <td>...</td>\n",
       "      <td>...</td>\n",
       "      <td>...</td>\n",
       "      <td>...</td>\n",
       "      <td>...</td>\n",
       "      <td>...</td>\n",
       "      <td>...</td>\n",
       "      <td>...</td>\n",
       "      <td>...</td>\n",
       "      <td>...</td>\n",
       "      <td>...</td>\n",
       "    </tr>\n",
       "    <tr>\n",
       "      <th>95</th>\n",
       "      <td>0.098358</td>\n",
       "      <td>1.246749e-03</td>\n",
       "      <td>0.010001</td>\n",
       "      <td>2.685665e-06</td>\n",
       "      <td>134</td>\n",
       "      <td>2</td>\n",
       "      <td>log2</td>\n",
       "      <td>5</td>\n",
       "      <td>gini</td>\n",
       "      <td>{'n_estimators': 134, 'min_samples_split': 2, ...</td>\n",
       "      <td>0.814286</td>\n",
       "      <td>0.957143</td>\n",
       "      <td>0.840580</td>\n",
       "      <td>0.870669</td>\n",
       "      <td>0.062081</td>\n",
       "      <td>27</td>\n",
       "    </tr>\n",
       "    <tr>\n",
       "      <th>96</th>\n",
       "      <td>0.089733</td>\n",
       "      <td>1.008602e-03</td>\n",
       "      <td>0.009669</td>\n",
       "      <td>4.712580e-04</td>\n",
       "      <td>131</td>\n",
       "      <td>3</td>\n",
       "      <td>log2</td>\n",
       "      <td>2</td>\n",
       "      <td>entropy</td>\n",
       "      <td>{'n_estimators': 131, 'min_samples_split': 3, ...</td>\n",
       "      <td>0.814286</td>\n",
       "      <td>0.871429</td>\n",
       "      <td>0.811594</td>\n",
       "      <td>0.832436</td>\n",
       "      <td>0.027594</td>\n",
       "      <td>97</td>\n",
       "    </tr>\n",
       "    <tr>\n",
       "      <th>97</th>\n",
       "      <td>0.020005</td>\n",
       "      <td>2.973602e-07</td>\n",
       "      <td>0.003334</td>\n",
       "      <td>4.712019e-04</td>\n",
       "      <td>25</td>\n",
       "      <td>3</td>\n",
       "      <td>sqrt</td>\n",
       "      <td>5</td>\n",
       "      <td>gini</td>\n",
       "      <td>{'n_estimators': 25, 'min_samples_split': 3, '...</td>\n",
       "      <td>0.842857</td>\n",
       "      <td>0.885714</td>\n",
       "      <td>0.855072</td>\n",
       "      <td>0.861215</td>\n",
       "      <td>0.018027</td>\n",
       "      <td>51</td>\n",
       "    </tr>\n",
       "    <tr>\n",
       "      <th>98</th>\n",
       "      <td>0.095022</td>\n",
       "      <td>9.902430e-03</td>\n",
       "      <td>0.011335</td>\n",
       "      <td>1.699768e-03</td>\n",
       "      <td>117</td>\n",
       "      <td>4</td>\n",
       "      <td>log2</td>\n",
       "      <td>10</td>\n",
       "      <td>gini</td>\n",
       "      <td>{'n_estimators': 117, 'min_samples_split': 4, ...</td>\n",
       "      <td>0.814286</td>\n",
       "      <td>0.942857</td>\n",
       "      <td>0.855072</td>\n",
       "      <td>0.870738</td>\n",
       "      <td>0.053645</td>\n",
       "      <td>22</td>\n",
       "    </tr>\n",
       "    <tr>\n",
       "      <th>99</th>\n",
       "      <td>0.049678</td>\n",
       "      <td>3.299865e-03</td>\n",
       "      <td>0.007335</td>\n",
       "      <td>1.700174e-03</td>\n",
       "      <td>48</td>\n",
       "      <td>4</td>\n",
       "      <td>log2</td>\n",
       "      <td>8</td>\n",
       "      <td>gini</td>\n",
       "      <td>{'n_estimators': 48, 'min_samples_split': 4, '...</td>\n",
       "      <td>0.800000</td>\n",
       "      <td>0.914286</td>\n",
       "      <td>0.840580</td>\n",
       "      <td>0.851622</td>\n",
       "      <td>0.047306</td>\n",
       "      <td>77</td>\n",
       "    </tr>\n",
       "  </tbody>\n",
       "</table>\n",
       "<p>100 rows × 16 columns</p>\n",
       "</div>"
      ],
      "text/plain": [
       "    mean_fit_time  std_fit_time  mean_score_time  std_score_time  \\\n",
       "0        0.021672  9.429093e-04         0.004001    1.123916e-07   \n",
       "1        0.076019  3.034573e-06         0.008002    4.899036e-07   \n",
       "2        0.054021  1.173403e-06         0.006335    4.713704e-04   \n",
       "3        0.067093  9.773540e-05         0.007004    2.081521e-06   \n",
       "4        0.087276  5.213308e-04         0.009668    4.712047e-04   \n",
       "..            ...           ...              ...             ...   \n",
       "95       0.098358  1.246749e-03         0.010001    2.685665e-06   \n",
       "96       0.089733  1.008602e-03         0.009669    4.712580e-04   \n",
       "97       0.020005  2.973602e-07         0.003334    4.712019e-04   \n",
       "98       0.095022  9.902430e-03         0.011335    1.699768e-03   \n",
       "99       0.049678  3.299865e-03         0.007335    1.700174e-03   \n",
       "\n",
       "   param_n_estimators param_min_samples_split param_max_features  \\\n",
       "0                  26                       2               log2   \n",
       "1                 103                       2               sqrt   \n",
       "2                  74                       4               log2   \n",
       "3                  95                       4               sqrt   \n",
       "4                 130                       4               log2   \n",
       "..                ...                     ...                ...   \n",
       "95                134                       2               log2   \n",
       "96                131                       3               log2   \n",
       "97                 25                       3               sqrt   \n",
       "98                117                       4               log2   \n",
       "99                 48                       4               log2   \n",
       "\n",
       "   param_max_depth param_criterion  \\\n",
       "0               10            gini   \n",
       "1                6            gini   \n",
       "2                5            gini   \n",
       "3                3         entropy   \n",
       "4                2            gini   \n",
       "..             ...             ...   \n",
       "95               5            gini   \n",
       "96               2         entropy   \n",
       "97               5            gini   \n",
       "98              10            gini   \n",
       "99               8            gini   \n",
       "\n",
       "                                               params  split0_test_score  \\\n",
       "0   {'n_estimators': 26, 'min_samples_split': 2, '...           0.828571   \n",
       "1   {'n_estimators': 103, 'min_samples_split': 2, ...           0.785714   \n",
       "2   {'n_estimators': 74, 'min_samples_split': 4, '...           0.828571   \n",
       "3   {'n_estimators': 95, 'min_samples_split': 4, '...           0.814286   \n",
       "4   {'n_estimators': 130, 'min_samples_split': 4, ...           0.814286   \n",
       "..                                                ...                ...   \n",
       "95  {'n_estimators': 134, 'min_samples_split': 2, ...           0.814286   \n",
       "96  {'n_estimators': 131, 'min_samples_split': 3, ...           0.814286   \n",
       "97  {'n_estimators': 25, 'min_samples_split': 3, '...           0.842857   \n",
       "98  {'n_estimators': 117, 'min_samples_split': 4, ...           0.814286   \n",
       "99  {'n_estimators': 48, 'min_samples_split': 4, '...           0.800000   \n",
       "\n",
       "    split1_test_score  split2_test_score  mean_test_score  std_test_score  \\\n",
       "0            0.914286           0.855072         0.865977        0.035832   \n",
       "1            0.914286           0.826087         0.842029        0.053686   \n",
       "2            0.942857           0.855072         0.875500        0.048842   \n",
       "3            0.942857           0.840580         0.865908        0.055460   \n",
       "4            0.914286           0.826087         0.851553        0.044620   \n",
       "..                ...                ...              ...             ...   \n",
       "95           0.957143           0.840580         0.870669        0.062081   \n",
       "96           0.871429           0.811594         0.832436        0.027594   \n",
       "97           0.885714           0.855072         0.861215        0.018027   \n",
       "98           0.942857           0.855072         0.870738        0.053645   \n",
       "99           0.914286           0.840580         0.851622        0.047306   \n",
       "\n",
       "    rank_test_score  \n",
       "0                33  \n",
       "1                94  \n",
       "2                14  \n",
       "3                38  \n",
       "4                80  \n",
       "..              ...  \n",
       "95               27  \n",
       "96               97  \n",
       "97               51  \n",
       "98               22  \n",
       "99               77  \n",
       "\n",
       "[100 rows x 16 columns]"
      ]
     },
     "execution_count": 69,
     "metadata": {},
     "output_type": "execute_result"
    }
   ],
   "source": [
    "tuning_result"
   ]
  },
  {
   "cell_type": "code",
   "execution_count": 71,
   "id": "9d0cfb11",
   "metadata": {},
   "outputs": [
    {
     "data": {
      "text/plain": [
       "0.8850931677018634"
      ]
     },
     "execution_count": 71,
     "metadata": {},
     "output_type": "execute_result"
    }
   ],
   "source": [
    "rcv.best_score_"
   ]
  },
  {
   "cell_type": "code",
   "execution_count": 72,
   "id": "aeb9f88e",
   "metadata": {},
   "outputs": [
    {
     "data": {
      "text/plain": [
       "{'n_estimators': 103,\n",
       " 'min_samples_split': 3,\n",
       " 'max_features': 'log2',\n",
       " 'max_depth': 3,\n",
       " 'criterion': 'gini'}"
      ]
     },
     "execution_count": 72,
     "metadata": {},
     "output_type": "execute_result"
    }
   ],
   "source": [
    "rcv.best_params_"
   ]
  },
  {
   "cell_type": "code",
   "execution_count": 77,
   "id": "78fae422",
   "metadata": {},
   "outputs": [
    {
     "data": {
      "text/html": [
       "<style>#sk-container-id-5 {color: black;}#sk-container-id-5 pre{padding: 0;}#sk-container-id-5 div.sk-toggleable {background-color: white;}#sk-container-id-5 label.sk-toggleable__label {cursor: pointer;display: block;width: 100%;margin-bottom: 0;padding: 0.3em;box-sizing: border-box;text-align: center;}#sk-container-id-5 label.sk-toggleable__label-arrow:before {content: \"▸\";float: left;margin-right: 0.25em;color: #696969;}#sk-container-id-5 label.sk-toggleable__label-arrow:hover:before {color: black;}#sk-container-id-5 div.sk-estimator:hover label.sk-toggleable__label-arrow:before {color: black;}#sk-container-id-5 div.sk-toggleable__content {max-height: 0;max-width: 0;overflow: hidden;text-align: left;background-color: #f0f8ff;}#sk-container-id-5 div.sk-toggleable__content pre {margin: 0.2em;color: black;border-radius: 0.25em;background-color: #f0f8ff;}#sk-container-id-5 input.sk-toggleable__control:checked~div.sk-toggleable__content {max-height: 200px;max-width: 100%;overflow: auto;}#sk-container-id-5 input.sk-toggleable__control:checked~label.sk-toggleable__label-arrow:before {content: \"▾\";}#sk-container-id-5 div.sk-estimator input.sk-toggleable__control:checked~label.sk-toggleable__label {background-color: #d4ebff;}#sk-container-id-5 div.sk-label input.sk-toggleable__control:checked~label.sk-toggleable__label {background-color: #d4ebff;}#sk-container-id-5 input.sk-hidden--visually {border: 0;clip: rect(1px 1px 1px 1px);clip: rect(1px, 1px, 1px, 1px);height: 1px;margin: -1px;overflow: hidden;padding: 0;position: absolute;width: 1px;}#sk-container-id-5 div.sk-estimator {font-family: monospace;background-color: #f0f8ff;border: 1px dotted black;border-radius: 0.25em;box-sizing: border-box;margin-bottom: 0.5em;}#sk-container-id-5 div.sk-estimator:hover {background-color: #d4ebff;}#sk-container-id-5 div.sk-parallel-item::after {content: \"\";width: 100%;border-bottom: 1px solid gray;flex-grow: 1;}#sk-container-id-5 div.sk-label:hover label.sk-toggleable__label {background-color: #d4ebff;}#sk-container-id-5 div.sk-serial::before {content: \"\";position: absolute;border-left: 1px solid gray;box-sizing: border-box;top: 0;bottom: 0;left: 50%;z-index: 0;}#sk-container-id-5 div.sk-serial {display: flex;flex-direction: column;align-items: center;background-color: white;padding-right: 0.2em;padding-left: 0.2em;position: relative;}#sk-container-id-5 div.sk-item {position: relative;z-index: 1;}#sk-container-id-5 div.sk-parallel {display: flex;align-items: stretch;justify-content: center;background-color: white;position: relative;}#sk-container-id-5 div.sk-item::before, #sk-container-id-5 div.sk-parallel-item::before {content: \"\";position: absolute;border-left: 1px solid gray;box-sizing: border-box;top: 0;bottom: 0;left: 50%;z-index: -1;}#sk-container-id-5 div.sk-parallel-item {display: flex;flex-direction: column;z-index: 1;position: relative;background-color: white;}#sk-container-id-5 div.sk-parallel-item:first-child::after {align-self: flex-end;width: 50%;}#sk-container-id-5 div.sk-parallel-item:last-child::after {align-self: flex-start;width: 50%;}#sk-container-id-5 div.sk-parallel-item:only-child::after {width: 0;}#sk-container-id-5 div.sk-dashed-wrapped {border: 1px dashed gray;margin: 0 0.4em 0.5em 0.4em;box-sizing: border-box;padding-bottom: 0.4em;background-color: white;}#sk-container-id-5 div.sk-label label {font-family: monospace;font-weight: bold;display: inline-block;line-height: 1.2em;}#sk-container-id-5 div.sk-label-container {text-align: center;}#sk-container-id-5 div.sk-container {/* jupyter's `normalize.less` sets `[hidden] { display: none; }` but bootstrap.min.css set `[hidden] { display: none !important; }` so we also need the `!important` here to be able to override the default hidden behavior on the sphinx rendered scikit-learn.org. See: https://github.com/scikit-learn/scikit-learn/issues/21755 */display: inline-block !important;position: relative;}#sk-container-id-5 div.sk-text-repr-fallback {display: none;}</style><div id=\"sk-container-id-5\" class=\"sk-top-container\"><div class=\"sk-text-repr-fallback\"><pre>RandomForestClassifier(max_depth=3, max_features=&#x27;log2&#x27;, min_samples_split=3,\n",
       "                       n_estimators=103)</pre><b>In a Jupyter environment, please rerun this cell to show the HTML representation or trust the notebook. <br />On GitHub, the HTML representation is unable to render, please try loading this page with nbviewer.org.</b></div><div class=\"sk-container\" hidden><div class=\"sk-item\"><div class=\"sk-estimator sk-toggleable\"><input class=\"sk-toggleable__control sk-hidden--visually\" id=\"sk-estimator-id-7\" type=\"checkbox\" checked><label for=\"sk-estimator-id-7\" class=\"sk-toggleable__label sk-toggleable__label-arrow\">RandomForestClassifier</label><div class=\"sk-toggleable__content\"><pre>RandomForestClassifier(max_depth=3, max_features=&#x27;log2&#x27;, min_samples_split=3,\n",
       "                       n_estimators=103)</pre></div></div></div></div></div>"
      ],
      "text/plain": [
       "RandomForestClassifier(max_depth=3, max_features='log2', min_samples_split=3,\n",
       "                       n_estimators=103)"
      ]
     },
     "execution_count": 77,
     "metadata": {},
     "output_type": "execute_result"
    }
   ],
   "source": [
    "rcv2 = rcv.best_estimator_\n",
    "rcv2"
   ]
  },
  {
   "cell_type": "code",
   "execution_count": 86,
   "id": "efe1cc62",
   "metadata": {},
   "outputs": [
    {
     "data": {
      "text/html": [
       "<style>#sk-container-id-9 {color: black;}#sk-container-id-9 pre{padding: 0;}#sk-container-id-9 div.sk-toggleable {background-color: white;}#sk-container-id-9 label.sk-toggleable__label {cursor: pointer;display: block;width: 100%;margin-bottom: 0;padding: 0.3em;box-sizing: border-box;text-align: center;}#sk-container-id-9 label.sk-toggleable__label-arrow:before {content: \"▸\";float: left;margin-right: 0.25em;color: #696969;}#sk-container-id-9 label.sk-toggleable__label-arrow:hover:before {color: black;}#sk-container-id-9 div.sk-estimator:hover label.sk-toggleable__label-arrow:before {color: black;}#sk-container-id-9 div.sk-toggleable__content {max-height: 0;max-width: 0;overflow: hidden;text-align: left;background-color: #f0f8ff;}#sk-container-id-9 div.sk-toggleable__content pre {margin: 0.2em;color: black;border-radius: 0.25em;background-color: #f0f8ff;}#sk-container-id-9 input.sk-toggleable__control:checked~div.sk-toggleable__content {max-height: 200px;max-width: 100%;overflow: auto;}#sk-container-id-9 input.sk-toggleable__control:checked~label.sk-toggleable__label-arrow:before {content: \"▾\";}#sk-container-id-9 div.sk-estimator input.sk-toggleable__control:checked~label.sk-toggleable__label {background-color: #d4ebff;}#sk-container-id-9 div.sk-label input.sk-toggleable__control:checked~label.sk-toggleable__label {background-color: #d4ebff;}#sk-container-id-9 input.sk-hidden--visually {border: 0;clip: rect(1px 1px 1px 1px);clip: rect(1px, 1px, 1px, 1px);height: 1px;margin: -1px;overflow: hidden;padding: 0;position: absolute;width: 1px;}#sk-container-id-9 div.sk-estimator {font-family: monospace;background-color: #f0f8ff;border: 1px dotted black;border-radius: 0.25em;box-sizing: border-box;margin-bottom: 0.5em;}#sk-container-id-9 div.sk-estimator:hover {background-color: #d4ebff;}#sk-container-id-9 div.sk-parallel-item::after {content: \"\";width: 100%;border-bottom: 1px solid gray;flex-grow: 1;}#sk-container-id-9 div.sk-label:hover label.sk-toggleable__label {background-color: #d4ebff;}#sk-container-id-9 div.sk-serial::before {content: \"\";position: absolute;border-left: 1px solid gray;box-sizing: border-box;top: 0;bottom: 0;left: 50%;z-index: 0;}#sk-container-id-9 div.sk-serial {display: flex;flex-direction: column;align-items: center;background-color: white;padding-right: 0.2em;padding-left: 0.2em;position: relative;}#sk-container-id-9 div.sk-item {position: relative;z-index: 1;}#sk-container-id-9 div.sk-parallel {display: flex;align-items: stretch;justify-content: center;background-color: white;position: relative;}#sk-container-id-9 div.sk-item::before, #sk-container-id-9 div.sk-parallel-item::before {content: \"\";position: absolute;border-left: 1px solid gray;box-sizing: border-box;top: 0;bottom: 0;left: 50%;z-index: -1;}#sk-container-id-9 div.sk-parallel-item {display: flex;flex-direction: column;z-index: 1;position: relative;background-color: white;}#sk-container-id-9 div.sk-parallel-item:first-child::after {align-self: flex-end;width: 50%;}#sk-container-id-9 div.sk-parallel-item:last-child::after {align-self: flex-start;width: 50%;}#sk-container-id-9 div.sk-parallel-item:only-child::after {width: 0;}#sk-container-id-9 div.sk-dashed-wrapped {border: 1px dashed gray;margin: 0 0.4em 0.5em 0.4em;box-sizing: border-box;padding-bottom: 0.4em;background-color: white;}#sk-container-id-9 div.sk-label label {font-family: monospace;font-weight: bold;display: inline-block;line-height: 1.2em;}#sk-container-id-9 div.sk-label-container {text-align: center;}#sk-container-id-9 div.sk-container {/* jupyter's `normalize.less` sets `[hidden] { display: none; }` but bootstrap.min.css set `[hidden] { display: none !important; }` so we also need the `!important` here to be able to override the default hidden behavior on the sphinx rendered scikit-learn.org. See: https://github.com/scikit-learn/scikit-learn/issues/21755 */display: inline-block !important;position: relative;}#sk-container-id-9 div.sk-text-repr-fallback {display: none;}</style><div id=\"sk-container-id-9\" class=\"sk-top-container\"><div class=\"sk-text-repr-fallback\"><pre>RandomForestClassifier(max_depth=3, max_features=&#x27;log2&#x27;, min_samples_split=3,\n",
       "                       n_estimators=103)</pre><b>In a Jupyter environment, please rerun this cell to show the HTML representation or trust the notebook. <br />On GitHub, the HTML representation is unable to render, please try loading this page with nbviewer.org.</b></div><div class=\"sk-container\" hidden><div class=\"sk-item\"><div class=\"sk-estimator sk-toggleable\"><input class=\"sk-toggleable__control sk-hidden--visually\" id=\"sk-estimator-id-11\" type=\"checkbox\" checked><label for=\"sk-estimator-id-11\" class=\"sk-toggleable__label sk-toggleable__label-arrow\">RandomForestClassifier</label><div class=\"sk-toggleable__content\"><pre>RandomForestClassifier(max_depth=3, max_features=&#x27;log2&#x27;, min_samples_split=3,\n",
       "                       n_estimators=103)</pre></div></div></div></div></div>"
      ],
      "text/plain": [
       "RandomForestClassifier(max_depth=3, max_features='log2', min_samples_split=3,\n",
       "                       n_estimators=103)"
      ]
     },
     "execution_count": 86,
     "metadata": {},
     "output_type": "execute_result"
    }
   ],
   "source": [
    "rcv2.fit(xtrain,ytrain)"
   ]
  },
  {
   "cell_type": "code",
   "execution_count": 87,
   "id": "4e7c46a1",
   "metadata": {},
   "outputs": [
    {
     "data": {
      "text/plain": [
       "0.7666666666666667"
      ]
     },
     "execution_count": 87,
     "metadata": {},
     "output_type": "execute_result"
    }
   ],
   "source": [
    "rcv2.score(xtest,ytest)"
   ]
  },
  {
   "cell_type": "code",
   "execution_count": null,
   "id": "f70d44d7",
   "metadata": {},
   "outputs": [],
   "source": []
  }
 ],
 "metadata": {
  "kernelspec": {
   "display_name": "Python 3 (ipykernel)",
   "language": "python",
   "name": "python3"
  },
  "language_info": {
   "codemirror_mode": {
    "name": "ipython",
    "version": 3
   },
   "file_extension": ".py",
   "mimetype": "text/x-python",
   "name": "python",
   "nbconvert_exporter": "python",
   "pygments_lexer": "ipython3",
   "version": "3.11.3"
  }
 },
 "nbformat": 4,
 "nbformat_minor": 5
}
