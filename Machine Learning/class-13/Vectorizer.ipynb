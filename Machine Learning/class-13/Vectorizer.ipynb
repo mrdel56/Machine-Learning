{
 "cells": [
  {
   "cell_type": "markdown",
   "id": "3914edd9",
   "metadata": {},
   "source": [
    "# Vectorizer"
   ]
  },
  {
   "cell_type": "code",
   "execution_count": 1,
   "id": "744b10fc",
   "metadata": {},
   "outputs": [],
   "source": [
    "import pandas as pd\n",
    "import numpy as np\n",
    "import warnings \n",
    "warnings.filterwarnings('ignore')\n",
    "\n",
    "from sklearn.feature_extraction.text import CountVectorizer, TfidfVectorizer"
   ]
  },
  {
   "cell_type": "code",
   "execution_count": 3,
   "id": "962b7abd",
   "metadata": {},
   "outputs": [],
   "source": [
    "df = pd.read_excel('data.xlsx')"
   ]
  },
  {
   "cell_type": "code",
   "execution_count": 4,
   "id": "668d248a",
   "metadata": {},
   "outputs": [
    {
     "data": {
      "text/html": [
       "<div>\n",
       "<style scoped>\n",
       "    .dataframe tbody tr th:only-of-type {\n",
       "        vertical-align: middle;\n",
       "    }\n",
       "\n",
       "    .dataframe tbody tr th {\n",
       "        vertical-align: top;\n",
       "    }\n",
       "\n",
       "    .dataframe thead th {\n",
       "        text-align: right;\n",
       "    }\n",
       "</style>\n",
       "<table border=\"1\" class=\"dataframe\">\n",
       "  <thead>\n",
       "    <tr style=\"text-align: right;\">\n",
       "      <th></th>\n",
       "      <th>test</th>\n",
       "      <th>class</th>\n",
       "    </tr>\n",
       "  </thead>\n",
       "  <tbody>\n",
       "    <tr>\n",
       "      <th>0</th>\n",
       "      <td>I love Bangladesh</td>\n",
       "      <td>1</td>\n",
       "    </tr>\n",
       "    <tr>\n",
       "      <th>1</th>\n",
       "      <td>Could you give me an iphone?</td>\n",
       "      <td>0</td>\n",
       "    </tr>\n",
       "    <tr>\n",
       "      <th>2</th>\n",
       "      <td>Hello how are you?</td>\n",
       "      <td>1</td>\n",
       "    </tr>\n",
       "    <tr>\n",
       "      <th>3</th>\n",
       "      <td>I want to talk you.</td>\n",
       "      <td>1</td>\n",
       "    </tr>\n",
       "  </tbody>\n",
       "</table>\n",
       "</div>"
      ],
      "text/plain": [
       "                           test  class\n",
       "0             I love Bangladesh      1\n",
       "1  Could you give me an iphone?      0\n",
       "2            Hello how are you?      1\n",
       "3           I want to talk you.      1"
      ]
     },
     "execution_count": 4,
     "metadata": {},
     "output_type": "execute_result"
    }
   ],
   "source": [
    "df.head()"
   ]
  },
  {
   "cell_type": "markdown",
   "id": "ebdbc297",
   "metadata": {},
   "source": [
    "# Count Vectorizer"
   ]
  },
  {
   "cell_type": "code",
   "execution_count": 5,
   "id": "79680b6f",
   "metadata": {},
   "outputs": [],
   "source": [
    "cv = CountVectorizer()"
   ]
  },
  {
   "cell_type": "code",
   "execution_count": 7,
   "id": "947f7391",
   "metadata": {},
   "outputs": [],
   "source": [
    "x = cv.fit_transform(df['test'])"
   ]
  },
  {
   "cell_type": "code",
   "execution_count": 8,
   "id": "9e48e817",
   "metadata": {},
   "outputs": [
    {
     "data": {
      "text/plain": [
       "<4x14 sparse matrix of type '<class 'numpy.int64'>'\n",
       "\twith 16 stored elements in Compressed Sparse Row format>"
      ]
     },
     "execution_count": 8,
     "metadata": {},
     "output_type": "execute_result"
    }
   ],
   "source": [
    "x"
   ]
  },
  {
   "cell_type": "code",
   "execution_count": 9,
   "id": "a212f489",
   "metadata": {},
   "outputs": [
    {
     "data": {
      "text/plain": [
       "array([[0, 0, 1, 0, 0, 0, 0, 0, 1, 0, 0, 0, 0, 0],\n",
       "       [1, 0, 0, 1, 1, 0, 0, 1, 0, 1, 0, 0, 0, 1],\n",
       "       [0, 1, 0, 0, 0, 1, 1, 0, 0, 0, 0, 0, 0, 1],\n",
       "       [0, 0, 0, 0, 0, 0, 0, 0, 0, 0, 1, 1, 1, 1]], dtype=int64)"
      ]
     },
     "execution_count": 9,
     "metadata": {},
     "output_type": "execute_result"
    }
   ],
   "source": [
    "x.toarray()"
   ]
  },
  {
   "cell_type": "code",
   "execution_count": 10,
   "id": "ef31b179",
   "metadata": {},
   "outputs": [
    {
     "data": {
      "text/html": [
       "<div>\n",
       "<style scoped>\n",
       "    .dataframe tbody tr th:only-of-type {\n",
       "        vertical-align: middle;\n",
       "    }\n",
       "\n",
       "    .dataframe tbody tr th {\n",
       "        vertical-align: top;\n",
       "    }\n",
       "\n",
       "    .dataframe thead th {\n",
       "        text-align: right;\n",
       "    }\n",
       "</style>\n",
       "<table border=\"1\" class=\"dataframe\">\n",
       "  <thead>\n",
       "    <tr style=\"text-align: right;\">\n",
       "      <th></th>\n",
       "      <th>test</th>\n",
       "      <th>class</th>\n",
       "    </tr>\n",
       "  </thead>\n",
       "  <tbody>\n",
       "    <tr>\n",
       "      <th>0</th>\n",
       "      <td>I love Bangladesh</td>\n",
       "      <td>1</td>\n",
       "    </tr>\n",
       "    <tr>\n",
       "      <th>1</th>\n",
       "      <td>Could you give me an iphone?</td>\n",
       "      <td>0</td>\n",
       "    </tr>\n",
       "    <tr>\n",
       "      <th>2</th>\n",
       "      <td>Hello how are you?</td>\n",
       "      <td>1</td>\n",
       "    </tr>\n",
       "    <tr>\n",
       "      <th>3</th>\n",
       "      <td>I want to talk you.</td>\n",
       "      <td>1</td>\n",
       "    </tr>\n",
       "  </tbody>\n",
       "</table>\n",
       "</div>"
      ],
      "text/plain": [
       "                           test  class\n",
       "0             I love Bangladesh      1\n",
       "1  Could you give me an iphone?      0\n",
       "2            Hello how are you?      1\n",
       "3           I want to talk you.      1"
      ]
     },
     "execution_count": 10,
     "metadata": {},
     "output_type": "execute_result"
    }
   ],
   "source": [
    "df.head()"
   ]
  },
  {
   "cell_type": "code",
   "execution_count": 11,
   "id": "5ce8a589",
   "metadata": {},
   "outputs": [],
   "source": [
    "df3 = df.copy()"
   ]
  },
  {
   "cell_type": "code",
   "execution_count": 17,
   "id": "1e6ed4d5",
   "metadata": {},
   "outputs": [],
   "source": [
    "df2 = pd.DataFrame(x.toarray(), index = df['test'], columns=cv.get_feature_names_out() )"
   ]
  },
  {
   "cell_type": "code",
   "execution_count": 18,
   "id": "ea7943ce",
   "metadata": {},
   "outputs": [
    {
     "data": {
      "text/html": [
       "<div>\n",
       "<style scoped>\n",
       "    .dataframe tbody tr th:only-of-type {\n",
       "        vertical-align: middle;\n",
       "    }\n",
       "\n",
       "    .dataframe tbody tr th {\n",
       "        vertical-align: top;\n",
       "    }\n",
       "\n",
       "    .dataframe thead th {\n",
       "        text-align: right;\n",
       "    }\n",
       "</style>\n",
       "<table border=\"1\" class=\"dataframe\">\n",
       "  <thead>\n",
       "    <tr style=\"text-align: right;\">\n",
       "      <th></th>\n",
       "      <th>an</th>\n",
       "      <th>are</th>\n",
       "      <th>bangladesh</th>\n",
       "      <th>could</th>\n",
       "      <th>give</th>\n",
       "      <th>hello</th>\n",
       "      <th>how</th>\n",
       "      <th>iphone</th>\n",
       "      <th>love</th>\n",
       "      <th>me</th>\n",
       "      <th>talk</th>\n",
       "      <th>to</th>\n",
       "      <th>want</th>\n",
       "      <th>you</th>\n",
       "    </tr>\n",
       "    <tr>\n",
       "      <th>test</th>\n",
       "      <th></th>\n",
       "      <th></th>\n",
       "      <th></th>\n",
       "      <th></th>\n",
       "      <th></th>\n",
       "      <th></th>\n",
       "      <th></th>\n",
       "      <th></th>\n",
       "      <th></th>\n",
       "      <th></th>\n",
       "      <th></th>\n",
       "      <th></th>\n",
       "      <th></th>\n",
       "      <th></th>\n",
       "    </tr>\n",
       "  </thead>\n",
       "  <tbody>\n",
       "    <tr>\n",
       "      <th>I love Bangladesh</th>\n",
       "      <td>0</td>\n",
       "      <td>0</td>\n",
       "      <td>1</td>\n",
       "      <td>0</td>\n",
       "      <td>0</td>\n",
       "      <td>0</td>\n",
       "      <td>0</td>\n",
       "      <td>0</td>\n",
       "      <td>1</td>\n",
       "      <td>0</td>\n",
       "      <td>0</td>\n",
       "      <td>0</td>\n",
       "      <td>0</td>\n",
       "      <td>0</td>\n",
       "    </tr>\n",
       "    <tr>\n",
       "      <th>Could you give me an iphone?</th>\n",
       "      <td>1</td>\n",
       "      <td>0</td>\n",
       "      <td>0</td>\n",
       "      <td>1</td>\n",
       "      <td>1</td>\n",
       "      <td>0</td>\n",
       "      <td>0</td>\n",
       "      <td>1</td>\n",
       "      <td>0</td>\n",
       "      <td>1</td>\n",
       "      <td>0</td>\n",
       "      <td>0</td>\n",
       "      <td>0</td>\n",
       "      <td>1</td>\n",
       "    </tr>\n",
       "    <tr>\n",
       "      <th>Hello how are you?</th>\n",
       "      <td>0</td>\n",
       "      <td>1</td>\n",
       "      <td>0</td>\n",
       "      <td>0</td>\n",
       "      <td>0</td>\n",
       "      <td>1</td>\n",
       "      <td>1</td>\n",
       "      <td>0</td>\n",
       "      <td>0</td>\n",
       "      <td>0</td>\n",
       "      <td>0</td>\n",
       "      <td>0</td>\n",
       "      <td>0</td>\n",
       "      <td>1</td>\n",
       "    </tr>\n",
       "    <tr>\n",
       "      <th>I want to talk you.</th>\n",
       "      <td>0</td>\n",
       "      <td>0</td>\n",
       "      <td>0</td>\n",
       "      <td>0</td>\n",
       "      <td>0</td>\n",
       "      <td>0</td>\n",
       "      <td>0</td>\n",
       "      <td>0</td>\n",
       "      <td>0</td>\n",
       "      <td>0</td>\n",
       "      <td>1</td>\n",
       "      <td>1</td>\n",
       "      <td>1</td>\n",
       "      <td>1</td>\n",
       "    </tr>\n",
       "  </tbody>\n",
       "</table>\n",
       "</div>"
      ],
      "text/plain": [
       "                              an  are  bangladesh  could  give  hello  how  \\\n",
       "test                                                                         \n",
       "I love Bangladesh              0    0           1      0     0      0    0   \n",
       "Could you give me an iphone?   1    0           0      1     1      0    0   \n",
       "Hello how are you?             0    1           0      0     0      1    1   \n",
       "I want to talk you.            0    0           0      0     0      0    0   \n",
       "\n",
       "                              iphone  love  me  talk  to  want  you  \n",
       "test                                                                 \n",
       "I love Bangladesh                  0     1   0     0   0     0    0  \n",
       "Could you give me an iphone?       1     0   1     0   0     0    1  \n",
       "Hello how are you?                 0     0   0     0   0     0    1  \n",
       "I want to talk you.                0     0   0     1   1     1    1  "
      ]
     },
     "execution_count": 18,
     "metadata": {},
     "output_type": "execute_result"
    }
   ],
   "source": [
    "df2.head()"
   ]
  },
  {
   "cell_type": "code",
   "execution_count": 19,
   "id": "4019ea94",
   "metadata": {},
   "outputs": [],
   "source": [
    "columns = cv.get_feature_names_out()"
   ]
  },
  {
   "cell_type": "code",
   "execution_count": 20,
   "id": "7177dd22",
   "metadata": {},
   "outputs": [
    {
     "data": {
      "text/plain": [
       "array(['an', 'are', 'bangladesh', 'could', 'give', 'hello', 'how',\n",
       "       'iphone', 'love', 'me', 'talk', 'to', 'want', 'you'], dtype=object)"
      ]
     },
     "execution_count": 20,
     "metadata": {},
     "output_type": "execute_result"
    }
   ],
   "source": [
    "columns"
   ]
  },
  {
   "cell_type": "markdown",
   "id": "1631b73b",
   "metadata": {},
   "source": [
    "# TF_IDF vectorizer"
   ]
  },
  {
   "cell_type": "code",
   "execution_count": 21,
   "id": "778179f3",
   "metadata": {},
   "outputs": [],
   "source": [
    "idf = TfidfVectorizer()"
   ]
  },
  {
   "cell_type": "code",
   "execution_count": 22,
   "id": "2986e03f",
   "metadata": {},
   "outputs": [],
   "source": [
    "x = idf.fit_transform(df3['test'])"
   ]
  },
  {
   "cell_type": "code",
   "execution_count": 23,
   "id": "ae08f820",
   "metadata": {},
   "outputs": [
    {
     "data": {
      "text/plain": [
       "<4x14 sparse matrix of type '<class 'numpy.float64'>'\n",
       "\twith 16 stored elements in Compressed Sparse Row format>"
      ]
     },
     "execution_count": 23,
     "metadata": {},
     "output_type": "execute_result"
    }
   ],
   "source": [
    "x"
   ]
  },
  {
   "cell_type": "code",
   "execution_count": 24,
   "id": "ac595d30",
   "metadata": {},
   "outputs": [
    {
     "data": {
      "text/plain": [
       "array([[0.        , 0.        , 0.70710678, 0.        , 0.        ,\n",
       "        0.        , 0.        , 0.        , 0.70710678, 0.        ,\n",
       "        0.        , 0.        , 0.        , 0.        ],\n",
       "       [0.43003652, 0.        , 0.        , 0.43003652, 0.43003652,\n",
       "        0.        , 0.        , 0.43003652, 0.        , 0.43003652,\n",
       "        0.        , 0.        , 0.        , 0.27448674],\n",
       "       [0.        , 0.5417361 , 0.        , 0.        , 0.        ,\n",
       "        0.5417361 , 0.5417361 , 0.        , 0.        , 0.        ,\n",
       "        0.        , 0.        , 0.        , 0.34578314],\n",
       "       [0.        , 0.        , 0.        , 0.        , 0.        ,\n",
       "        0.        , 0.        , 0.        , 0.        , 0.        ,\n",
       "        0.5417361 , 0.5417361 , 0.5417361 , 0.34578314]])"
      ]
     },
     "execution_count": 24,
     "metadata": {},
     "output_type": "execute_result"
    }
   ],
   "source": [
    "x.toarray()"
   ]
  },
  {
   "cell_type": "code",
   "execution_count": 27,
   "id": "69154e1d",
   "metadata": {},
   "outputs": [],
   "source": [
    "df4 = pd.DataFrame(x.toarray(), index= df3['test'],columns=idf.get_feature_names_out())"
   ]
  },
  {
   "cell_type": "code",
   "execution_count": 28,
   "id": "db545100",
   "metadata": {},
   "outputs": [
    {
     "data": {
      "text/html": [
       "<div>\n",
       "<style scoped>\n",
       "    .dataframe tbody tr th:only-of-type {\n",
       "        vertical-align: middle;\n",
       "    }\n",
       "\n",
       "    .dataframe tbody tr th {\n",
       "        vertical-align: top;\n",
       "    }\n",
       "\n",
       "    .dataframe thead th {\n",
       "        text-align: right;\n",
       "    }\n",
       "</style>\n",
       "<table border=\"1\" class=\"dataframe\">\n",
       "  <thead>\n",
       "    <tr style=\"text-align: right;\">\n",
       "      <th></th>\n",
       "      <th>an</th>\n",
       "      <th>are</th>\n",
       "      <th>bangladesh</th>\n",
       "      <th>could</th>\n",
       "      <th>give</th>\n",
       "      <th>hello</th>\n",
       "      <th>how</th>\n",
       "      <th>iphone</th>\n",
       "      <th>love</th>\n",
       "      <th>me</th>\n",
       "      <th>talk</th>\n",
       "      <th>to</th>\n",
       "      <th>want</th>\n",
       "      <th>you</th>\n",
       "    </tr>\n",
       "    <tr>\n",
       "      <th>test</th>\n",
       "      <th></th>\n",
       "      <th></th>\n",
       "      <th></th>\n",
       "      <th></th>\n",
       "      <th></th>\n",
       "      <th></th>\n",
       "      <th></th>\n",
       "      <th></th>\n",
       "      <th></th>\n",
       "      <th></th>\n",
       "      <th></th>\n",
       "      <th></th>\n",
       "      <th></th>\n",
       "      <th></th>\n",
       "    </tr>\n",
       "  </thead>\n",
       "  <tbody>\n",
       "    <tr>\n",
       "      <th>I love Bangladesh</th>\n",
       "      <td>0.000000</td>\n",
       "      <td>0.000000</td>\n",
       "      <td>0.707107</td>\n",
       "      <td>0.000000</td>\n",
       "      <td>0.000000</td>\n",
       "      <td>0.000000</td>\n",
       "      <td>0.000000</td>\n",
       "      <td>0.000000</td>\n",
       "      <td>0.707107</td>\n",
       "      <td>0.000000</td>\n",
       "      <td>0.000000</td>\n",
       "      <td>0.000000</td>\n",
       "      <td>0.000000</td>\n",
       "      <td>0.000000</td>\n",
       "    </tr>\n",
       "    <tr>\n",
       "      <th>Could you give me an iphone?</th>\n",
       "      <td>0.430037</td>\n",
       "      <td>0.000000</td>\n",
       "      <td>0.000000</td>\n",
       "      <td>0.430037</td>\n",
       "      <td>0.430037</td>\n",
       "      <td>0.000000</td>\n",
       "      <td>0.000000</td>\n",
       "      <td>0.430037</td>\n",
       "      <td>0.000000</td>\n",
       "      <td>0.430037</td>\n",
       "      <td>0.000000</td>\n",
       "      <td>0.000000</td>\n",
       "      <td>0.000000</td>\n",
       "      <td>0.274487</td>\n",
       "    </tr>\n",
       "    <tr>\n",
       "      <th>Hello how are you?</th>\n",
       "      <td>0.000000</td>\n",
       "      <td>0.541736</td>\n",
       "      <td>0.000000</td>\n",
       "      <td>0.000000</td>\n",
       "      <td>0.000000</td>\n",
       "      <td>0.541736</td>\n",
       "      <td>0.541736</td>\n",
       "      <td>0.000000</td>\n",
       "      <td>0.000000</td>\n",
       "      <td>0.000000</td>\n",
       "      <td>0.000000</td>\n",
       "      <td>0.000000</td>\n",
       "      <td>0.000000</td>\n",
       "      <td>0.345783</td>\n",
       "    </tr>\n",
       "    <tr>\n",
       "      <th>I want to talk you.</th>\n",
       "      <td>0.000000</td>\n",
       "      <td>0.000000</td>\n",
       "      <td>0.000000</td>\n",
       "      <td>0.000000</td>\n",
       "      <td>0.000000</td>\n",
       "      <td>0.000000</td>\n",
       "      <td>0.000000</td>\n",
       "      <td>0.000000</td>\n",
       "      <td>0.000000</td>\n",
       "      <td>0.000000</td>\n",
       "      <td>0.541736</td>\n",
       "      <td>0.541736</td>\n",
       "      <td>0.541736</td>\n",
       "      <td>0.345783</td>\n",
       "    </tr>\n",
       "  </tbody>\n",
       "</table>\n",
       "</div>"
      ],
      "text/plain": [
       "                                    an       are  bangladesh     could  \\\n",
       "test                                                                     \n",
       "I love Bangladesh             0.000000  0.000000    0.707107  0.000000   \n",
       "Could you give me an iphone?  0.430037  0.000000    0.000000  0.430037   \n",
       "Hello how are you?            0.000000  0.541736    0.000000  0.000000   \n",
       "I want to talk you.           0.000000  0.000000    0.000000  0.000000   \n",
       "\n",
       "                                  give     hello       how    iphone  \\\n",
       "test                                                                   \n",
       "I love Bangladesh             0.000000  0.000000  0.000000  0.000000   \n",
       "Could you give me an iphone?  0.430037  0.000000  0.000000  0.430037   \n",
       "Hello how are you?            0.000000  0.541736  0.541736  0.000000   \n",
       "I want to talk you.           0.000000  0.000000  0.000000  0.000000   \n",
       "\n",
       "                                  love        me      talk        to  \\\n",
       "test                                                                   \n",
       "I love Bangladesh             0.707107  0.000000  0.000000  0.000000   \n",
       "Could you give me an iphone?  0.000000  0.430037  0.000000  0.000000   \n",
       "Hello how are you?            0.000000  0.000000  0.000000  0.000000   \n",
       "I want to talk you.           0.000000  0.000000  0.541736  0.541736   \n",
       "\n",
       "                                  want       you  \n",
       "test                                              \n",
       "I love Bangladesh             0.000000  0.000000  \n",
       "Could you give me an iphone?  0.000000  0.274487  \n",
       "Hello how are you?            0.000000  0.345783  \n",
       "I want to talk you.           0.541736  0.345783  "
      ]
     },
     "execution_count": 28,
     "metadata": {},
     "output_type": "execute_result"
    }
   ],
   "source": [
    "df4.head()"
   ]
  },
  {
   "cell_type": "markdown",
   "id": "94fb3680",
   "metadata": {},
   "source": [
    "# Word2Vec"
   ]
  },
  {
   "cell_type": "code",
   "execution_count": 29,
   "id": "86a4cd7a",
   "metadata": {},
   "outputs": [
    {
     "name": "stdout",
     "output_type": "stream",
     "text": [
      "Collecting gensim\n",
      "  Downloading gensim-4.3.1-cp311-cp311-win_amd64.whl (23.9 MB)\n",
      "                                              0.0/23.9 MB ? eta -:--:--\n",
      "                                              0.0/23.9 MB ? eta -:--:--\n",
      "                                              0.1/23.9 MB 1.3 MB/s eta 0:00:19\n",
      "                                              0.2/23.9 MB 1.6 MB/s eta 0:00:15\n",
      "                                              0.2/23.9 MB 2.1 MB/s eta 0:00:12\n",
      "                                              0.4/23.9 MB 2.3 MB/s eta 0:00:11\n",
      "                                              0.5/23.9 MB 2.4 MB/s eta 0:00:10\n",
      "     -                                        0.7/23.9 MB 3.0 MB/s eta 0:00:08\n",
      "     -                                        1.1/23.9 MB 4.2 MB/s eta 0:00:06\n",
      "     --                                       1.3/23.9 MB 4.4 MB/s eta 0:00:06\n",
      "     --                                       1.3/23.9 MB 4.4 MB/s eta 0:00:06\n",
      "     --                                       1.3/23.9 MB 4.4 MB/s eta 0:00:06\n",
      "     --                                       1.4/23.9 MB 3.4 MB/s eta 0:00:07\n",
      "     --                                       1.5/23.9 MB 3.4 MB/s eta 0:00:07\n",
      "     --                                       1.5/23.9 MB 3.4 MB/s eta 0:00:07\n",
      "     --                                       1.5/23.9 MB 2.9 MB/s eta 0:00:08\n",
      "     --                                       1.6/23.9 MB 2.9 MB/s eta 0:00:08\n",
      "     ---                                      1.8/23.9 MB 3.1 MB/s eta 0:00:08\n",
      "     ---                                      1.9/23.9 MB 3.1 MB/s eta 0:00:08\n",
      "     ---                                      1.9/23.9 MB 3.1 MB/s eta 0:00:08\n",
      "     ---                                      2.0/23.9 MB 2.8 MB/s eta 0:00:08\n",
      "     ---                                      2.1/23.9 MB 2.9 MB/s eta 0:00:08\n",
      "     ---                                      2.2/23.9 MB 2.9 MB/s eta 0:00:08\n",
      "     ---                                      2.3/23.9 MB 2.9 MB/s eta 0:00:08\n",
      "     ---                                      2.3/23.9 MB 2.9 MB/s eta 0:00:08\n",
      "     ---                                      2.3/23.9 MB 2.7 MB/s eta 0:00:09\n",
      "     ----                                     2.5/23.9 MB 2.8 MB/s eta 0:00:08\n",
      "     ----                                     2.6/23.9 MB 2.8 MB/s eta 0:00:08\n",
      "     ----                                     2.6/23.9 MB 2.7 MB/s eta 0:00:08\n",
      "     ----                                     2.6/23.9 MB 2.7 MB/s eta 0:00:08\n",
      "     ----                                     2.7/23.9 MB 2.6 MB/s eta 0:00:09\n",
      "     ----                                     2.9/23.9 MB 2.7 MB/s eta 0:00:08\n",
      "     -----                                    3.0/23.9 MB 2.7 MB/s eta 0:00:08\n",
      "     -----                                    3.0/23.9 MB 2.7 MB/s eta 0:00:08\n",
      "     -----                                    3.0/23.9 MB 2.7 MB/s eta 0:00:08\n",
      "     -----                                    3.0/23.9 MB 2.5 MB/s eta 0:00:09\n",
      "     -----                                    3.0/23.9 MB 2.5 MB/s eta 0:00:09\n",
      "     -----                                    3.3/23.9 MB 2.5 MB/s eta 0:00:09\n",
      "     -----                                    3.4/23.9 MB 2.5 MB/s eta 0:00:09\n",
      "     -----                                    3.5/23.9 MB 2.5 MB/s eta 0:00:09\n",
      "     -----                                    3.5/23.9 MB 2.5 MB/s eta 0:00:09\n",
      "     ------                                   3.6/23.9 MB 2.5 MB/s eta 0:00:09\n",
      "     ------                                   3.8/23.9 MB 2.6 MB/s eta 0:00:08\n",
      "     ------                                   3.9/23.9 MB 2.6 MB/s eta 0:00:08\n",
      "     ------                                   4.0/23.9 MB 2.6 MB/s eta 0:00:08\n",
      "     ------                                   4.0/23.9 MB 2.6 MB/s eta 0:00:08\n",
      "     ------                                   4.0/23.9 MB 2.6 MB/s eta 0:00:08\n",
      "     ------                                   4.1/23.9 MB 2.5 MB/s eta 0:00:08\n",
      "     -------                                  4.4/23.9 MB 2.6 MB/s eta 0:00:08\n",
      "     -------                                  4.4/23.9 MB 2.6 MB/s eta 0:00:08\n",
      "     -------                                  4.5/23.9 MB 2.6 MB/s eta 0:00:08\n",
      "     -------                                  4.6/23.9 MB 2.6 MB/s eta 0:00:08\n",
      "     -------                                  4.7/23.9 MB 2.6 MB/s eta 0:00:08\n",
      "     --------                                 4.8/23.9 MB 2.6 MB/s eta 0:00:08\n",
      "     --------                                 4.9/23.9 MB 2.6 MB/s eta 0:00:08\n",
      "     --------                                 5.0/23.9 MB 2.6 MB/s eta 0:00:08\n",
      "     --------                                 5.1/23.9 MB 2.6 MB/s eta 0:00:08\n",
      "     --------                                 5.2/23.9 MB 2.6 MB/s eta 0:00:08\n",
      "     --------                                 5.3/23.9 MB 2.6 MB/s eta 0:00:08\n",
      "     --------                                 5.3/23.9 MB 2.6 MB/s eta 0:00:08\n",
      "     ---------                                5.4/23.9 MB 2.6 MB/s eta 0:00:08\n",
      "     ---------                                5.5/23.9 MB 2.6 MB/s eta 0:00:08\n",
      "     ---------                                5.6/23.9 MB 2.6 MB/s eta 0:00:08\n",
      "     ---------                                5.7/23.9 MB 2.6 MB/s eta 0:00:08\n",
      "     ---------                                5.8/23.9 MB 2.6 MB/s eta 0:00:08\n",
      "     ---------                                5.9/23.9 MB 2.6 MB/s eta 0:00:08\n",
      "     ---------                                6.0/23.9 MB 2.6 MB/s eta 0:00:07\n",
      "     ----------                               6.1/23.9 MB 2.6 MB/s eta 0:00:07\n",
      "     ----------                               6.2/23.9 MB 2.6 MB/s eta 0:00:07\n",
      "     ----------                               6.2/23.9 MB 2.6 MB/s eta 0:00:07\n",
      "     ----------                               6.3/23.9 MB 2.6 MB/s eta 0:00:07\n",
      "     ----------                               6.4/23.9 MB 2.6 MB/s eta 0:00:07\n",
      "     ----------                               6.5/23.9 MB 2.6 MB/s eta 0:00:07\n",
      "     -----------                              6.6/23.9 MB 2.6 MB/s eta 0:00:07\n",
      "     -----------                              6.7/23.9 MB 2.6 MB/s eta 0:00:07\n",
      "     -----------                              6.8/23.9 MB 2.6 MB/s eta 0:00:07\n",
      "     -----------                              6.9/23.9 MB 2.6 MB/s eta 0:00:07\n",
      "     -----------                              7.0/23.9 MB 2.6 MB/s eta 0:00:07\n",
      "     -----------                              7.0/23.9 MB 2.6 MB/s eta 0:00:07\n",
      "     -----------                              7.1/23.9 MB 2.6 MB/s eta 0:00:07\n",
      "     ------------                             7.2/23.9 MB 2.6 MB/s eta 0:00:07\n",
      "     ------------                             7.3/23.9 MB 2.6 MB/s eta 0:00:07\n",
      "     ------------                             7.4/23.9 MB 2.6 MB/s eta 0:00:07\n",
      "     ------------                             7.5/23.9 MB 2.6 MB/s eta 0:00:07\n",
      "     ------------                             7.6/23.9 MB 2.6 MB/s eta 0:00:07\n",
      "     ------------                             7.7/23.9 MB 2.6 MB/s eta 0:00:07\n",
      "     ------------                             7.8/23.9 MB 2.6 MB/s eta 0:00:07\n",
      "     -------------                            7.9/23.9 MB 2.6 MB/s eta 0:00:07\n",
      "     -------------                            8.0/23.9 MB 2.6 MB/s eta 0:00:07\n",
      "     -------------                            8.0/23.9 MB 2.6 MB/s eta 0:00:07\n",
      "     -------------                            8.1/23.9 MB 2.6 MB/s eta 0:00:07\n",
      "     -------------                            8.2/23.9 MB 2.6 MB/s eta 0:00:07\n",
      "     -------------                            8.3/23.9 MB 2.6 MB/s eta 0:00:07\n",
      "     --------------                           8.4/23.9 MB 2.6 MB/s eta 0:00:07\n",
      "     --------------                           8.5/23.9 MB 2.6 MB/s eta 0:00:07\n",
      "     --------------                           8.6/23.9 MB 2.6 MB/s eta 0:00:06\n",
      "     --------------                           8.7/23.9 MB 2.6 MB/s eta 0:00:06\n",
      "     --------------                           8.8/23.9 MB 2.6 MB/s eta 0:00:06\n",
      "     --------------                           8.9/23.9 MB 2.6 MB/s eta 0:00:06\n",
      "     --------------                           8.9/23.9 MB 2.6 MB/s eta 0:00:06\n",
      "     ---------------                          9.0/23.9 MB 2.6 MB/s eta 0:00:06\n",
      "     ---------------                          9.1/23.9 MB 2.6 MB/s eta 0:00:06\n",
      "     ---------------                          9.2/23.9 MB 2.6 MB/s eta 0:00:06\n",
      "     ---------------                          9.3/23.9 MB 2.6 MB/s eta 0:00:06\n",
      "     ---------------                          9.4/23.9 MB 2.6 MB/s eta 0:00:06\n",
      "     ---------------                          9.5/23.9 MB 2.6 MB/s eta 0:00:06\n",
      "     ----------------                         9.6/23.9 MB 2.6 MB/s eta 0:00:06\n",
      "     ----------------                         9.7/23.9 MB 2.6 MB/s eta 0:00:06\n",
      "     ----------------                         9.8/23.9 MB 2.6 MB/s eta 0:00:06\n",
      "     ----------------                         9.9/23.9 MB 2.6 MB/s eta 0:00:06\n",
      "     ----------------                         10.0/23.9 MB 2.6 MB/s eta 0:00:06\n",
      "     ----------------                         10.0/23.9 MB 2.6 MB/s eta 0:00:06\n",
      "     ----------------                         10.1/23.9 MB 2.6 MB/s eta 0:00:06\n",
      "     -----------------                        10.2/23.9 MB 2.6 MB/s eta 0:00:06\n",
      "     -----------------                        10.3/23.9 MB 2.6 MB/s eta 0:00:06\n",
      "     -----------------                        10.4/23.9 MB 2.6 MB/s eta 0:00:06\n",
      "     -----------------                        10.5/23.9 MB 2.6 MB/s eta 0:00:06\n",
      "     -----------------                        10.6/23.9 MB 2.6 MB/s eta 0:00:06\n",
      "     -----------------                        10.7/23.9 MB 2.6 MB/s eta 0:00:06\n",
      "     -----------------                        10.8/23.9 MB 2.6 MB/s eta 0:00:06\n",
      "     ------------------                       10.9/23.9 MB 2.5 MB/s eta 0:00:06\n",
      "     ------------------                       10.9/23.9 MB 2.5 MB/s eta 0:00:06\n",
      "     ------------------                       11.0/23.9 MB 2.5 MB/s eta 0:00:06\n",
      "     ------------------                       11.1/23.9 MB 2.5 MB/s eta 0:00:06\n",
      "     ------------------                       11.2/23.9 MB 2.5 MB/s eta 0:00:06\n",
      "     ------------------                       11.3/23.9 MB 2.5 MB/s eta 0:00:06\n",
      "     -------------------                      11.4/23.9 MB 2.5 MB/s eta 0:00:06\n",
      "     -------------------                      11.5/23.9 MB 2.4 MB/s eta 0:00:06\n",
      "     -------------------                      11.6/23.9 MB 2.5 MB/s eta 0:00:05\n",
      "     -------------------                      11.7/23.9 MB 2.5 MB/s eta 0:00:05\n",
      "     -------------------                      11.8/23.9 MB 2.5 MB/s eta 0:00:05\n",
      "     -------------------                      11.8/23.9 MB 2.5 MB/s eta 0:00:05\n",
      "     -------------------                      11.8/23.9 MB 2.5 MB/s eta 0:00:05\n",
      "     -------------------                      11.8/23.9 MB 2.5 MB/s eta 0:00:05\n",
      "     --------------------                     12.1/23.9 MB 2.5 MB/s eta 0:00:05\n",
      "     --------------------                     12.2/23.9 MB 2.5 MB/s eta 0:00:05\n",
      "     --------------------                     12.3/23.9 MB 2.5 MB/s eta 0:00:05\n",
      "     --------------------                     12.4/23.9 MB 2.5 MB/s eta 0:00:05\n",
      "     --------------------                     12.5/23.9 MB 2.5 MB/s eta 0:00:05\n",
      "     --------------------                     12.6/23.9 MB 2.5 MB/s eta 0:00:05\n",
      "     ---------------------                    12.7/23.9 MB 2.5 MB/s eta 0:00:05\n",
      "     ---------------------                    12.7/23.9 MB 2.5 MB/s eta 0:00:05\n",
      "     ---------------------                    12.8/23.9 MB 2.5 MB/s eta 0:00:05\n",
      "     ---------------------                    12.9/23.9 MB 2.6 MB/s eta 0:00:05\n",
      "     ---------------------                    13.0/23.9 MB 2.5 MB/s eta 0:00:05\n",
      "     ---------------------                    13.1/23.9 MB 2.5 MB/s eta 0:00:05\n",
      "     ----------------------                   13.2/23.9 MB 2.5 MB/s eta 0:00:05\n",
      "     ----------------------                   13.3/23.9 MB 2.6 MB/s eta 0:00:05\n",
      "     ----------------------                   13.4/23.9 MB 2.6 MB/s eta 0:00:05\n",
      "     ----------------------                   13.5/23.9 MB 2.6 MB/s eta 0:00:05\n",
      "     ----------------------                   13.6/23.9 MB 2.6 MB/s eta 0:00:05\n",
      "     ----------------------                   13.7/23.9 MB 2.6 MB/s eta 0:00:04\n",
      "     ----------------------                   13.7/23.9 MB 2.6 MB/s eta 0:00:04\n",
      "     -----------------------                  13.8/23.9 MB 2.6 MB/s eta 0:00:04\n",
      "     -----------------------                  13.9/23.9 MB 2.6 MB/s eta 0:00:04\n",
      "     -----------------------                  14.0/23.9 MB 2.6 MB/s eta 0:00:04\n",
      "     -----------------------                  14.1/23.9 MB 2.5 MB/s eta 0:00:04\n",
      "     -----------------------                  14.2/23.9 MB 2.5 MB/s eta 0:00:04\n",
      "     -----------------------                  14.3/23.9 MB 2.6 MB/s eta 0:00:04\n",
      "     ------------------------                 14.4/23.9 MB 2.6 MB/s eta 0:00:04\n",
      "     ------------------------                 14.5/23.9 MB 2.6 MB/s eta 0:00:04\n",
      "     ------------------------                 14.6/23.9 MB 2.5 MB/s eta 0:00:04\n",
      "     ------------------------                 14.7/23.9 MB 2.5 MB/s eta 0:00:04\n",
      "     ------------------------                 14.7/23.9 MB 2.5 MB/s eta 0:00:04\n",
      "     ------------------------                 14.8/23.9 MB 2.5 MB/s eta 0:00:04\n",
      "     ------------------------                 14.9/23.9 MB 2.6 MB/s eta 0:00:04\n",
      "     -------------------------                15.0/23.9 MB 2.6 MB/s eta 0:00:04\n",
      "     -------------------------                15.1/23.9 MB 2.5 MB/s eta 0:00:04\n",
      "     -------------------------                15.2/23.9 MB 2.5 MB/s eta 0:00:04\n",
      "     -------------------------                15.3/23.9 MB 2.6 MB/s eta 0:00:04\n",
      "     -------------------------                15.4/23.9 MB 2.5 MB/s eta 0:00:04\n",
      "     -------------------------                15.5/23.9 MB 2.5 MB/s eta 0:00:04\n",
      "     -------------------------                15.6/23.9 MB 2.5 MB/s eta 0:00:04\n",
      "     --------------------------               15.6/23.9 MB 2.5 MB/s eta 0:00:04\n",
      "     --------------------------               15.7/23.9 MB 2.5 MB/s eta 0:00:04\n",
      "     --------------------------               15.8/23.9 MB 2.5 MB/s eta 0:00:04\n",
      "     --------------------------               15.9/23.9 MB 2.5 MB/s eta 0:00:04\n",
      "     --------------------------               16.0/23.9 MB 2.5 MB/s eta 0:00:04\n",
      "     --------------------------               16.1/23.9 MB 2.5 MB/s eta 0:00:04\n",
      "     ---------------------------              16.2/23.9 MB 2.5 MB/s eta 0:00:04\n",
      "     ---------------------------              16.3/23.9 MB 2.6 MB/s eta 0:00:03\n",
      "     ---------------------------              16.4/23.9 MB 2.5 MB/s eta 0:00:03\n",
      "     ---------------------------              16.5/23.9 MB 2.5 MB/s eta 0:00:03\n",
      "     ---------------------------              16.5/23.9 MB 2.5 MB/s eta 0:00:03\n",
      "     ---------------------------              16.7/23.9 MB 2.6 MB/s eta 0:00:03\n",
      "     ---------------------------              16.7/23.9 MB 2.6 MB/s eta 0:00:03\n",
      "     ----------------------------             16.8/23.9 MB 2.5 MB/s eta 0:00:03\n",
      "     ----------------------------             16.9/23.9 MB 2.6 MB/s eta 0:00:03\n",
      "     ----------------------------             17.0/23.9 MB 2.6 MB/s eta 0:00:03\n",
      "     ----------------------------             17.1/23.9 MB 2.5 MB/s eta 0:00:03\n",
      "     ----------------------------             17.2/23.9 MB 2.5 MB/s eta 0:00:03\n",
      "     ----------------------------             17.3/23.9 MB 2.5 MB/s eta 0:00:03\n",
      "     -----------------------------            17.4/23.9 MB 2.6 MB/s eta 0:00:03\n",
      "     -----------------------------            17.4/23.9 MB 2.6 MB/s eta 0:00:03\n",
      "     -----------------------------            17.5/23.9 MB 2.5 MB/s eta 0:00:03\n",
      "     -----------------------------            17.6/23.9 MB 2.5 MB/s eta 0:00:03\n",
      "     -----------------------------            17.7/23.9 MB 2.5 MB/s eta 0:00:03\n",
      "     -----------------------------            17.8/23.9 MB 2.5 MB/s eta 0:00:03\n",
      "     -----------------------------            17.9/23.9 MB 2.5 MB/s eta 0:00:03\n",
      "     ------------------------------           18.0/23.9 MB 2.6 MB/s eta 0:00:03\n",
      "     ------------------------------           18.1/23.9 MB 2.5 MB/s eta 0:00:03\n",
      "     ------------------------------           18.2/23.9 MB 2.5 MB/s eta 0:00:03\n",
      "     ------------------------------           18.3/23.9 MB 2.5 MB/s eta 0:00:03\n",
      "     ------------------------------           18.4/23.9 MB 2.5 MB/s eta 0:00:03\n",
      "     ------------------------------           18.5/23.9 MB 2.5 MB/s eta 0:00:03\n",
      "     ------------------------------           18.5/23.9 MB 2.5 MB/s eta 0:00:03\n",
      "     -------------------------------          18.6/23.9 MB 2.6 MB/s eta 0:00:03\n",
      "     -------------------------------          18.7/23.9 MB 2.6 MB/s eta 0:00:03\n",
      "     -------------------------------          18.8/23.9 MB 2.5 MB/s eta 0:00:03\n",
      "     -------------------------------          18.9/23.9 MB 2.5 MB/s eta 0:00:02\n",
      "     -------------------------------          19.0/23.9 MB 2.5 MB/s eta 0:00:02\n",
      "     -------------------------------          19.1/23.9 MB 2.5 MB/s eta 0:00:02\n",
      "     --------------------------------         19.2/23.9 MB 2.5 MB/s eta 0:00:02\n",
      "     --------------------------------         19.3/23.9 MB 2.5 MB/s eta 0:00:02\n",
      "     --------------------------------         19.4/23.9 MB 2.6 MB/s eta 0:00:02\n",
      "     --------------------------------         19.4/23.9 MB 2.5 MB/s eta 0:00:02\n",
      "     --------------------------------         19.5/23.9 MB 2.5 MB/s eta 0:00:02\n",
      "     --------------------------------         19.6/23.9 MB 2.5 MB/s eta 0:00:02\n",
      "     --------------------------------         19.7/23.9 MB 2.6 MB/s eta 0:00:02\n",
      "     ---------------------------------        19.8/23.9 MB 2.5 MB/s eta 0:00:02\n",
      "     ---------------------------------        19.9/23.9 MB 2.5 MB/s eta 0:00:02\n",
      "     ---------------------------------        20.0/23.9 MB 2.6 MB/s eta 0:00:02\n",
      "     ---------------------------------        20.1/23.9 MB 2.5 MB/s eta 0:00:02\n",
      "     ---------------------------------        20.1/23.9 MB 2.6 MB/s eta 0:00:02\n",
      "     ---------------------------------        20.1/23.9 MB 2.6 MB/s eta 0:00:02\n",
      "     ---------------------------------        20.3/23.9 MB 2.5 MB/s eta 0:00:02\n",
      "     ----------------------------------       20.4/23.9 MB 2.6 MB/s eta 0:00:02\n",
      "     ----------------------------------       20.5/23.9 MB 2.5 MB/s eta 0:00:02\n",
      "     ----------------------------------       20.6/23.9 MB 2.5 MB/s eta 0:00:02\n",
      "     ----------------------------------       20.7/23.9 MB 2.5 MB/s eta 0:00:02\n",
      "     ----------------------------------       20.8/23.9 MB 2.5 MB/s eta 0:00:02\n",
      "     ----------------------------------       20.9/23.9 MB 2.5 MB/s eta 0:00:02\n",
      "     -----------------------------------      21.0/23.9 MB 2.5 MB/s eta 0:00:02\n",
      "     -----------------------------------      21.1/23.9 MB 2.6 MB/s eta 0:00:02\n",
      "     -----------------------------------      21.2/23.9 MB 2.5 MB/s eta 0:00:02\n",
      "     -----------------------------------      21.3/23.9 MB 2.5 MB/s eta 0:00:02\n",
      "     -----------------------------------      21.3/23.9 MB 2.5 MB/s eta 0:00:02\n",
      "     -----------------------------------      21.4/23.9 MB 2.5 MB/s eta 0:00:01\n",
      "     -----------------------------------      21.5/23.9 MB 2.5 MB/s eta 0:00:01\n",
      "     ------------------------------------     21.6/23.9 MB 2.5 MB/s eta 0:00:01\n",
      "     ------------------------------------     21.7/23.9 MB 2.6 MB/s eta 0:00:01\n",
      "     ------------------------------------     21.8/23.9 MB 2.5 MB/s eta 0:00:01\n",
      "     ------------------------------------     21.9/23.9 MB 2.5 MB/s eta 0:00:01\n",
      "     ------------------------------------     22.0/23.9 MB 2.5 MB/s eta 0:00:01\n",
      "     ------------------------------------     22.1/23.9 MB 2.6 MB/s eta 0:00:01\n",
      "     ------------------------------------     22.1/23.9 MB 2.6 MB/s eta 0:00:01\n",
      "     -------------------------------------    22.2/23.9 MB 2.6 MB/s eta 0:00:01\n",
      "     -------------------------------------    22.3/23.9 MB 2.6 MB/s eta 0:00:01\n",
      "     -------------------------------------    22.4/23.9 MB 2.6 MB/s eta 0:00:01\n",
      "     -------------------------------------    22.5/23.9 MB 2.5 MB/s eta 0:00:01\n",
      "     -------------------------------------    22.6/23.9 MB 2.6 MB/s eta 0:00:01\n",
      "     -------------------------------------    22.7/23.9 MB 2.6 MB/s eta 0:00:01\n",
      "     --------------------------------------   22.8/23.9 MB 2.5 MB/s eta 0:00:01\n",
      "     --------------------------------------   22.9/23.9 MB 2.6 MB/s eta 0:00:01\n",
      "     --------------------------------------   23.0/23.9 MB 2.6 MB/s eta 0:00:01\n",
      "     --------------------------------------   23.1/23.9 MB 2.5 MB/s eta 0:00:01\n",
      "     --------------------------------------   23.2/23.9 MB 2.5 MB/s eta 0:00:01\n",
      "     --------------------------------------   23.2/23.9 MB 2.5 MB/s eta 0:00:01\n",
      "     --------------------------------------   23.3/23.9 MB 2.5 MB/s eta 0:00:01\n",
      "     ---------------------------------------  23.4/23.9 MB 2.5 MB/s eta 0:00:01\n",
      "     ---------------------------------------  23.5/23.9 MB 2.5 MB/s eta 0:00:01\n",
      "     ---------------------------------------  23.6/23.9 MB 2.6 MB/s eta 0:00:01\n",
      "     ---------------------------------------  23.7/23.9 MB 2.6 MB/s eta 0:00:01\n",
      "     ---------------------------------------  23.8/23.9 MB 2.5 MB/s eta 0:00:01\n",
      "     ---------------------------------------  23.9/23.9 MB 2.5 MB/s eta 0:00:01\n",
      "     ---------------------------------------  23.9/23.9 MB 2.6 MB/s eta 0:00:01\n",
      "     ---------------------------------------  23.9/23.9 MB 2.6 MB/s eta 0:00:01\n",
      "     ---------------------------------------  23.9/23.9 MB 2.6 MB/s eta 0:00:01\n",
      "     ---------------------------------------- 23.9/23.9 MB 2.5 MB/s eta 0:00:00\n",
      "Requirement already satisfied: numpy>=1.18.5 in c:\\users\\user\\appdata\\local\\programs\\python\\python311\\lib\\site-packages (from gensim) (1.24.3)\n",
      "Requirement already satisfied: scipy>=1.7.0 in c:\\users\\user\\appdata\\local\\programs\\python\\python311\\lib\\site-packages (from gensim) (1.10.1)\n",
      "Collecting smart-open>=1.8.1 (from gensim)\n",
      "  Downloading smart_open-6.3.0-py3-none-any.whl (56 kB)\n",
      "                                              0.0/56.8 kB ? eta -:--:--\n",
      "     ---------------------------------------- 56.8/56.8 kB 2.9 MB/s eta 0:00:00\n",
      "Installing collected packages: smart-open, gensim\n",
      "Successfully installed gensim-4.3.1 smart-open-6.3.0\n"
     ]
    }
   ],
   "source": [
    "!pip install gensim"
   ]
  },
  {
   "cell_type": "code",
   "execution_count": 37,
   "id": "7e179d5b",
   "metadata": {},
   "outputs": [],
   "source": [
    "import gensim\n",
    "from gensim.models import Word2Vec\n",
    "import nltk"
   ]
  },
  {
   "cell_type": "code",
   "execution_count": 38,
   "id": "37ad0e8d",
   "metadata": {},
   "outputs": [],
   "source": [
    "from nltk.tokenize import word_tokenize"
   ]
  },
  {
   "cell_type": "code",
   "execution_count": 39,
   "id": "2bf083b7",
   "metadata": {},
   "outputs": [],
   "source": [
    "text_vsc = [nltk.word_tokenize(test) for test in df['test']]"
   ]
  },
  {
   "cell_type": "code",
   "execution_count": 40,
   "id": "8deeb827",
   "metadata": {},
   "outputs": [
    {
     "data": {
      "text/plain": [
       "[['I', 'love', 'Bangladesh'],\n",
       " ['Could', 'you', 'give', 'me', 'an', 'iphone', '?'],\n",
       " ['Hello', 'how', 'are', 'you', '?'],\n",
       " ['I', 'want', 'to', 'talk', 'you', '.']]"
      ]
     },
     "execution_count": 40,
     "metadata": {},
     "output_type": "execute_result"
    }
   ],
   "source": [
    "text_vsc"
   ]
  },
  {
   "cell_type": "code",
   "execution_count": 42,
   "id": "a2851dc8",
   "metadata": {},
   "outputs": [],
   "source": [
    "#another way\n",
    "text=[]\n",
    "for test in df['test']:\n",
    "    text.append(nltk.word_tokenize(test))"
   ]
  },
  {
   "cell_type": "code",
   "execution_count": 43,
   "id": "f1742f8b",
   "metadata": {},
   "outputs": [
    {
     "data": {
      "text/plain": [
       "[['I', 'love', 'Bangladesh'],\n",
       " ['Could', 'you', 'give', 'me', 'an', 'iphone', '?'],\n",
       " ['Hello', 'how', 'are', 'you', '?'],\n",
       " ['I', 'want', 'to', 'talk', 'you', '.']]"
      ]
     },
     "execution_count": 43,
     "metadata": {},
     "output_type": "execute_result"
    }
   ],
   "source": [
    "text"
   ]
  },
  {
   "cell_type": "code",
   "execution_count": 44,
   "id": "40fc28ae",
   "metadata": {},
   "outputs": [],
   "source": [
    "model = Word2Vec(text,min_count=1)"
   ]
  },
  {
   "cell_type": "code",
   "execution_count": 45,
   "id": "3bdd40a2",
   "metadata": {},
   "outputs": [
    {
     "data": {
      "text/plain": [
       "[('?', 0.17272651195526123),\n",
       " ('Bangladesh', 0.16695065796375275),\n",
       " ('give', 0.11118055880069733),\n",
       " ('talk', 0.10947782546281815),\n",
       " ('you', 0.07967711985111237),\n",
       " ('an', 0.04130832105875015),\n",
       " ('me', 0.037714049220085144),\n",
       " ('to', 0.0132435392588377),\n",
       " ('I', 0.008316040970385075),\n",
       " ('love', -0.005900950636714697)]"
      ]
     },
     "execution_count": 45,
     "metadata": {},
     "output_type": "execute_result"
    }
   ],
   "source": [
    "model.wv.most_similar('Hello')"
   ]
  },
  {
   "cell_type": "code",
   "execution_count": null,
   "id": "8a1850da",
   "metadata": {},
   "outputs": [],
   "source": []
  }
 ],
 "metadata": {
  "kernelspec": {
   "display_name": "Python 3 (ipykernel)",
   "language": "python",
   "name": "python3"
  },
  "language_info": {
   "codemirror_mode": {
    "name": "ipython",
    "version": 3
   },
   "file_extension": ".py",
   "mimetype": "text/x-python",
   "name": "python",
   "nbconvert_exporter": "python",
   "pygments_lexer": "ipython3",
   "version": "3.11.3"
  }
 },
 "nbformat": 4,
 "nbformat_minor": 5
}
