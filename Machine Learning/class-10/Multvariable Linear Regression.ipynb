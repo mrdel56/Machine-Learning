{
 "cells": [
  {
   "cell_type": "code",
   "execution_count": 1,
   "id": "4d76b00f",
   "metadata": {},
   "outputs": [],
   "source": [
    "import pandas as pd\n",
    "import numpy as np\n",
    "import matplotlib.pyplot as plt\n",
    "import seaborn as sns"
   ]
  },
  {
   "cell_type": "code",
   "execution_count": 2,
   "id": "96d73361",
   "metadata": {},
   "outputs": [],
   "source": [
    "df = pd.read_excel('insurance.xlsx')"
   ]
  },
  {
   "cell_type": "code",
   "execution_count": 3,
   "id": "21f94a08",
   "metadata": {},
   "outputs": [
    {
     "data": {
      "text/html": [
       "<div>\n",
       "<style scoped>\n",
       "    .dataframe tbody tr th:only-of-type {\n",
       "        vertical-align: middle;\n",
       "    }\n",
       "\n",
       "    .dataframe tbody tr th {\n",
       "        vertical-align: top;\n",
       "    }\n",
       "\n",
       "    .dataframe thead th {\n",
       "        text-align: right;\n",
       "    }\n",
       "</style>\n",
       "<table border=\"1\" class=\"dataframe\">\n",
       "  <thead>\n",
       "    <tr style=\"text-align: right;\">\n",
       "      <th></th>\n",
       "      <th>age</th>\n",
       "      <th>sex</th>\n",
       "      <th>bmi</th>\n",
       "      <th>children</th>\n",
       "      <th>smoker</th>\n",
       "      <th>region</th>\n",
       "      <th>charges</th>\n",
       "    </tr>\n",
       "  </thead>\n",
       "  <tbody>\n",
       "    <tr>\n",
       "      <th>0</th>\n",
       "      <td>19</td>\n",
       "      <td>female</td>\n",
       "      <td>27.900</td>\n",
       "      <td>0</td>\n",
       "      <td>yes</td>\n",
       "      <td>southwest</td>\n",
       "      <td>16884.92400</td>\n",
       "    </tr>\n",
       "    <tr>\n",
       "      <th>1</th>\n",
       "      <td>18</td>\n",
       "      <td>male</td>\n",
       "      <td>33.770</td>\n",
       "      <td>1</td>\n",
       "      <td>no</td>\n",
       "      <td>southeast</td>\n",
       "      <td>1725.55230</td>\n",
       "    </tr>\n",
       "    <tr>\n",
       "      <th>2</th>\n",
       "      <td>28</td>\n",
       "      <td>male</td>\n",
       "      <td>33.000</td>\n",
       "      <td>3</td>\n",
       "      <td>no</td>\n",
       "      <td>southeast</td>\n",
       "      <td>4449.46200</td>\n",
       "    </tr>\n",
       "    <tr>\n",
       "      <th>3</th>\n",
       "      <td>33</td>\n",
       "      <td>male</td>\n",
       "      <td>22.705</td>\n",
       "      <td>0</td>\n",
       "      <td>no</td>\n",
       "      <td>northwest</td>\n",
       "      <td>21984.47061</td>\n",
       "    </tr>\n",
       "    <tr>\n",
       "      <th>4</th>\n",
       "      <td>32</td>\n",
       "      <td>male</td>\n",
       "      <td>28.880</td>\n",
       "      <td>0</td>\n",
       "      <td>no</td>\n",
       "      <td>northwest</td>\n",
       "      <td>3866.85520</td>\n",
       "    </tr>\n",
       "  </tbody>\n",
       "</table>\n",
       "</div>"
      ],
      "text/plain": [
       "   age     sex     bmi  children smoker     region      charges\n",
       "0   19  female  27.900         0    yes  southwest  16884.92400\n",
       "1   18    male  33.770         1     no  southeast   1725.55230\n",
       "2   28    male  33.000         3     no  southeast   4449.46200\n",
       "3   33    male  22.705         0     no  northwest  21984.47061\n",
       "4   32    male  28.880         0     no  northwest   3866.85520"
      ]
     },
     "execution_count": 3,
     "metadata": {},
     "output_type": "execute_result"
    }
   ],
   "source": [
    "df.head()"
   ]
  },
  {
   "cell_type": "code",
   "execution_count": 4,
   "id": "c0b045bf",
   "metadata": {},
   "outputs": [
    {
     "name": "stdout",
     "output_type": "stream",
     "text": [
      "<class 'pandas.core.frame.DataFrame'>\n",
      "RangeIndex: 1338 entries, 0 to 1337\n",
      "Data columns (total 7 columns):\n",
      " #   Column    Non-Null Count  Dtype  \n",
      "---  ------    --------------  -----  \n",
      " 0   age       1338 non-null   int64  \n",
      " 1   sex       1338 non-null   object \n",
      " 2   bmi       1338 non-null   float64\n",
      " 3   children  1338 non-null   int64  \n",
      " 4   smoker    1338 non-null   object \n",
      " 5   region    1338 non-null   object \n",
      " 6   charges   1338 non-null   float64\n",
      "dtypes: float64(2), int64(2), object(3)\n",
      "memory usage: 73.3+ KB\n"
     ]
    }
   ],
   "source": [
    "df.info()"
   ]
  },
  {
   "cell_type": "code",
   "execution_count": 5,
   "id": "38fa089e",
   "metadata": {},
   "outputs": [
    {
     "data": {
      "text/plain": [
       "age         0\n",
       "sex         0\n",
       "bmi         0\n",
       "children    0\n",
       "smoker      0\n",
       "region      0\n",
       "charges     0\n",
       "dtype: int64"
      ]
     },
     "execution_count": 5,
     "metadata": {},
     "output_type": "execute_result"
    }
   ],
   "source": [
    "df.isna().sum()"
   ]
  },
  {
   "cell_type": "code",
   "execution_count": 6,
   "id": "c08ee514",
   "metadata": {},
   "outputs": [
    {
     "data": {
      "text/plain": [
       "age           47\n",
       "sex            2\n",
       "bmi          548\n",
       "children       6\n",
       "smoker         2\n",
       "region         4\n",
       "charges     1337\n",
       "dtype: int64"
      ]
     },
     "execution_count": 6,
     "metadata": {},
     "output_type": "execute_result"
    }
   ],
   "source": [
    "df.nunique()"
   ]
  },
  {
   "cell_type": "code",
   "execution_count": 7,
   "id": "d7f01f11",
   "metadata": {},
   "outputs": [],
   "source": [
    "df = pd.get_dummies(df,drop_first='True').astype(int)"
   ]
  },
  {
   "cell_type": "code",
   "execution_count": 8,
   "id": "319c3ea9",
   "metadata": {},
   "outputs": [
    {
     "data": {
      "text/html": [
       "<div>\n",
       "<style scoped>\n",
       "    .dataframe tbody tr th:only-of-type {\n",
       "        vertical-align: middle;\n",
       "    }\n",
       "\n",
       "    .dataframe tbody tr th {\n",
       "        vertical-align: top;\n",
       "    }\n",
       "\n",
       "    .dataframe thead th {\n",
       "        text-align: right;\n",
       "    }\n",
       "</style>\n",
       "<table border=\"1\" class=\"dataframe\">\n",
       "  <thead>\n",
       "    <tr style=\"text-align: right;\">\n",
       "      <th></th>\n",
       "      <th>age</th>\n",
       "      <th>bmi</th>\n",
       "      <th>children</th>\n",
       "      <th>charges</th>\n",
       "      <th>sex_male</th>\n",
       "      <th>smoker_yes</th>\n",
       "      <th>region_northwest</th>\n",
       "      <th>region_southeast</th>\n",
       "      <th>region_southwest</th>\n",
       "    </tr>\n",
       "  </thead>\n",
       "  <tbody>\n",
       "    <tr>\n",
       "      <th>0</th>\n",
       "      <td>19</td>\n",
       "      <td>27</td>\n",
       "      <td>0</td>\n",
       "      <td>16884</td>\n",
       "      <td>0</td>\n",
       "      <td>1</td>\n",
       "      <td>0</td>\n",
       "      <td>0</td>\n",
       "      <td>1</td>\n",
       "    </tr>\n",
       "    <tr>\n",
       "      <th>1</th>\n",
       "      <td>18</td>\n",
       "      <td>33</td>\n",
       "      <td>1</td>\n",
       "      <td>1725</td>\n",
       "      <td>1</td>\n",
       "      <td>0</td>\n",
       "      <td>0</td>\n",
       "      <td>1</td>\n",
       "      <td>0</td>\n",
       "    </tr>\n",
       "    <tr>\n",
       "      <th>2</th>\n",
       "      <td>28</td>\n",
       "      <td>33</td>\n",
       "      <td>3</td>\n",
       "      <td>4449</td>\n",
       "      <td>1</td>\n",
       "      <td>0</td>\n",
       "      <td>0</td>\n",
       "      <td>1</td>\n",
       "      <td>0</td>\n",
       "    </tr>\n",
       "    <tr>\n",
       "      <th>3</th>\n",
       "      <td>33</td>\n",
       "      <td>22</td>\n",
       "      <td>0</td>\n",
       "      <td>21984</td>\n",
       "      <td>1</td>\n",
       "      <td>0</td>\n",
       "      <td>1</td>\n",
       "      <td>0</td>\n",
       "      <td>0</td>\n",
       "    </tr>\n",
       "    <tr>\n",
       "      <th>4</th>\n",
       "      <td>32</td>\n",
       "      <td>28</td>\n",
       "      <td>0</td>\n",
       "      <td>3866</td>\n",
       "      <td>1</td>\n",
       "      <td>0</td>\n",
       "      <td>1</td>\n",
       "      <td>0</td>\n",
       "      <td>0</td>\n",
       "    </tr>\n",
       "  </tbody>\n",
       "</table>\n",
       "</div>"
      ],
      "text/plain": [
       "   age  bmi  children  charges  sex_male  smoker_yes  region_northwest  \\\n",
       "0   19   27         0    16884         0           1                 0   \n",
       "1   18   33         1     1725         1           0                 0   \n",
       "2   28   33         3     4449         1           0                 0   \n",
       "3   33   22         0    21984         1           0                 1   \n",
       "4   32   28         0     3866         1           0                 1   \n",
       "\n",
       "   region_southeast  region_southwest  \n",
       "0                 0                 1  \n",
       "1                 1                 0  \n",
       "2                 1                 0  \n",
       "3                 0                 0  \n",
       "4                 0                 0  "
      ]
     },
     "execution_count": 8,
     "metadata": {},
     "output_type": "execute_result"
    }
   ],
   "source": [
    "df.head()"
   ]
  },
  {
   "cell_type": "code",
   "execution_count": 9,
   "id": "3f5fc956",
   "metadata": {},
   "outputs": [
    {
     "data": {
      "text/html": [
       "<div>\n",
       "<style scoped>\n",
       "    .dataframe tbody tr th:only-of-type {\n",
       "        vertical-align: middle;\n",
       "    }\n",
       "\n",
       "    .dataframe tbody tr th {\n",
       "        vertical-align: top;\n",
       "    }\n",
       "\n",
       "    .dataframe thead th {\n",
       "        text-align: right;\n",
       "    }\n",
       "</style>\n",
       "<table border=\"1\" class=\"dataframe\">\n",
       "  <thead>\n",
       "    <tr style=\"text-align: right;\">\n",
       "      <th></th>\n",
       "      <th>age</th>\n",
       "      <th>bmi</th>\n",
       "      <th>children</th>\n",
       "      <th>charges</th>\n",
       "      <th>sex_male</th>\n",
       "      <th>smoker_yes</th>\n",
       "      <th>region_northwest</th>\n",
       "      <th>region_southeast</th>\n",
       "      <th>region_southwest</th>\n",
       "    </tr>\n",
       "  </thead>\n",
       "  <tbody>\n",
       "    <tr>\n",
       "      <th>count</th>\n",
       "      <td>1338.000000</td>\n",
       "      <td>1338.000000</td>\n",
       "      <td>1338.000000</td>\n",
       "      <td>1338.000000</td>\n",
       "      <td>1338.000000</td>\n",
       "      <td>1338.000000</td>\n",
       "      <td>1338.000000</td>\n",
       "      <td>1338.000000</td>\n",
       "      <td>1338.000000</td>\n",
       "    </tr>\n",
       "    <tr>\n",
       "      <th>mean</th>\n",
       "      <td>39.207025</td>\n",
       "      <td>30.169656</td>\n",
       "      <td>1.094918</td>\n",
       "      <td>13269.928999</td>\n",
       "      <td>0.505232</td>\n",
       "      <td>0.204783</td>\n",
       "      <td>0.242900</td>\n",
       "      <td>0.272048</td>\n",
       "      <td>0.242900</td>\n",
       "    </tr>\n",
       "    <tr>\n",
       "      <th>std</th>\n",
       "      <td>14.049960</td>\n",
       "      <td>6.119875</td>\n",
       "      <td>1.205493</td>\n",
       "      <td>12110.012755</td>\n",
       "      <td>0.500160</td>\n",
       "      <td>0.403694</td>\n",
       "      <td>0.428995</td>\n",
       "      <td>0.445181</td>\n",
       "      <td>0.428995</td>\n",
       "    </tr>\n",
       "    <tr>\n",
       "      <th>min</th>\n",
       "      <td>18.000000</td>\n",
       "      <td>15.000000</td>\n",
       "      <td>0.000000</td>\n",
       "      <td>1121.000000</td>\n",
       "      <td>0.000000</td>\n",
       "      <td>0.000000</td>\n",
       "      <td>0.000000</td>\n",
       "      <td>0.000000</td>\n",
       "      <td>0.000000</td>\n",
       "    </tr>\n",
       "    <tr>\n",
       "      <th>25%</th>\n",
       "      <td>27.000000</td>\n",
       "      <td>26.000000</td>\n",
       "      <td>0.000000</td>\n",
       "      <td>4740.000000</td>\n",
       "      <td>0.000000</td>\n",
       "      <td>0.000000</td>\n",
       "      <td>0.000000</td>\n",
       "      <td>0.000000</td>\n",
       "      <td>0.000000</td>\n",
       "    </tr>\n",
       "    <tr>\n",
       "      <th>50%</th>\n",
       "      <td>39.000000</td>\n",
       "      <td>30.000000</td>\n",
       "      <td>1.000000</td>\n",
       "      <td>9381.500000</td>\n",
       "      <td>1.000000</td>\n",
       "      <td>0.000000</td>\n",
       "      <td>0.000000</td>\n",
       "      <td>0.000000</td>\n",
       "      <td>0.000000</td>\n",
       "    </tr>\n",
       "    <tr>\n",
       "      <th>75%</th>\n",
       "      <td>51.000000</td>\n",
       "      <td>34.000000</td>\n",
       "      <td>2.000000</td>\n",
       "      <td>16639.250000</td>\n",
       "      <td>1.000000</td>\n",
       "      <td>0.000000</td>\n",
       "      <td>0.000000</td>\n",
       "      <td>1.000000</td>\n",
       "      <td>0.000000</td>\n",
       "    </tr>\n",
       "    <tr>\n",
       "      <th>max</th>\n",
       "      <td>64.000000</td>\n",
       "      <td>53.000000</td>\n",
       "      <td>5.000000</td>\n",
       "      <td>63770.000000</td>\n",
       "      <td>1.000000</td>\n",
       "      <td>1.000000</td>\n",
       "      <td>1.000000</td>\n",
       "      <td>1.000000</td>\n",
       "      <td>1.000000</td>\n",
       "    </tr>\n",
       "  </tbody>\n",
       "</table>\n",
       "</div>"
      ],
      "text/plain": [
       "               age          bmi     children       charges     sex_male  \\\n",
       "count  1338.000000  1338.000000  1338.000000   1338.000000  1338.000000   \n",
       "mean     39.207025    30.169656     1.094918  13269.928999     0.505232   \n",
       "std      14.049960     6.119875     1.205493  12110.012755     0.500160   \n",
       "min      18.000000    15.000000     0.000000   1121.000000     0.000000   \n",
       "25%      27.000000    26.000000     0.000000   4740.000000     0.000000   \n",
       "50%      39.000000    30.000000     1.000000   9381.500000     1.000000   \n",
       "75%      51.000000    34.000000     2.000000  16639.250000     1.000000   \n",
       "max      64.000000    53.000000     5.000000  63770.000000     1.000000   \n",
       "\n",
       "        smoker_yes  region_northwest  region_southeast  region_southwest  \n",
       "count  1338.000000       1338.000000       1338.000000       1338.000000  \n",
       "mean      0.204783          0.242900          0.272048          0.242900  \n",
       "std       0.403694          0.428995          0.445181          0.428995  \n",
       "min       0.000000          0.000000          0.000000          0.000000  \n",
       "25%       0.000000          0.000000          0.000000          0.000000  \n",
       "50%       0.000000          0.000000          0.000000          0.000000  \n",
       "75%       0.000000          0.000000          1.000000          0.000000  \n",
       "max       1.000000          1.000000          1.000000          1.000000  "
      ]
     },
     "execution_count": 9,
     "metadata": {},
     "output_type": "execute_result"
    }
   ],
   "source": [
    "df.describe()"
   ]
  },
  {
   "cell_type": "code",
   "execution_count": 10,
   "id": "721ea20e",
   "metadata": {},
   "outputs": [
    {
     "data": {
      "text/html": [
       "<div>\n",
       "<style scoped>\n",
       "    .dataframe tbody tr th:only-of-type {\n",
       "        vertical-align: middle;\n",
       "    }\n",
       "\n",
       "    .dataframe tbody tr th {\n",
       "        vertical-align: top;\n",
       "    }\n",
       "\n",
       "    .dataframe thead th {\n",
       "        text-align: right;\n",
       "    }\n",
       "</style>\n",
       "<table border=\"1\" class=\"dataframe\">\n",
       "  <thead>\n",
       "    <tr style=\"text-align: right;\">\n",
       "      <th></th>\n",
       "      <th>count</th>\n",
       "      <th>mean</th>\n",
       "      <th>std</th>\n",
       "      <th>min</th>\n",
       "      <th>25%</th>\n",
       "      <th>50%</th>\n",
       "      <th>75%</th>\n",
       "      <th>max</th>\n",
       "    </tr>\n",
       "  </thead>\n",
       "  <tbody>\n",
       "    <tr>\n",
       "      <th>age</th>\n",
       "      <td>1338.0</td>\n",
       "      <td>39.207025</td>\n",
       "      <td>14.049960</td>\n",
       "      <td>18.0</td>\n",
       "      <td>27.0</td>\n",
       "      <td>39.0</td>\n",
       "      <td>51.00</td>\n",
       "      <td>64.0</td>\n",
       "    </tr>\n",
       "    <tr>\n",
       "      <th>bmi</th>\n",
       "      <td>1338.0</td>\n",
       "      <td>30.169656</td>\n",
       "      <td>6.119875</td>\n",
       "      <td>15.0</td>\n",
       "      <td>26.0</td>\n",
       "      <td>30.0</td>\n",
       "      <td>34.00</td>\n",
       "      <td>53.0</td>\n",
       "    </tr>\n",
       "    <tr>\n",
       "      <th>children</th>\n",
       "      <td>1338.0</td>\n",
       "      <td>1.094918</td>\n",
       "      <td>1.205493</td>\n",
       "      <td>0.0</td>\n",
       "      <td>0.0</td>\n",
       "      <td>1.0</td>\n",
       "      <td>2.00</td>\n",
       "      <td>5.0</td>\n",
       "    </tr>\n",
       "    <tr>\n",
       "      <th>charges</th>\n",
       "      <td>1338.0</td>\n",
       "      <td>13269.928999</td>\n",
       "      <td>12110.012755</td>\n",
       "      <td>1121.0</td>\n",
       "      <td>4740.0</td>\n",
       "      <td>9381.5</td>\n",
       "      <td>16639.25</td>\n",
       "      <td>63770.0</td>\n",
       "    </tr>\n",
       "    <tr>\n",
       "      <th>sex_male</th>\n",
       "      <td>1338.0</td>\n",
       "      <td>0.505232</td>\n",
       "      <td>0.500160</td>\n",
       "      <td>0.0</td>\n",
       "      <td>0.0</td>\n",
       "      <td>1.0</td>\n",
       "      <td>1.00</td>\n",
       "      <td>1.0</td>\n",
       "    </tr>\n",
       "    <tr>\n",
       "      <th>smoker_yes</th>\n",
       "      <td>1338.0</td>\n",
       "      <td>0.204783</td>\n",
       "      <td>0.403694</td>\n",
       "      <td>0.0</td>\n",
       "      <td>0.0</td>\n",
       "      <td>0.0</td>\n",
       "      <td>0.00</td>\n",
       "      <td>1.0</td>\n",
       "    </tr>\n",
       "    <tr>\n",
       "      <th>region_northwest</th>\n",
       "      <td>1338.0</td>\n",
       "      <td>0.242900</td>\n",
       "      <td>0.428995</td>\n",
       "      <td>0.0</td>\n",
       "      <td>0.0</td>\n",
       "      <td>0.0</td>\n",
       "      <td>0.00</td>\n",
       "      <td>1.0</td>\n",
       "    </tr>\n",
       "    <tr>\n",
       "      <th>region_southeast</th>\n",
       "      <td>1338.0</td>\n",
       "      <td>0.272048</td>\n",
       "      <td>0.445181</td>\n",
       "      <td>0.0</td>\n",
       "      <td>0.0</td>\n",
       "      <td>0.0</td>\n",
       "      <td>1.00</td>\n",
       "      <td>1.0</td>\n",
       "    </tr>\n",
       "    <tr>\n",
       "      <th>region_southwest</th>\n",
       "      <td>1338.0</td>\n",
       "      <td>0.242900</td>\n",
       "      <td>0.428995</td>\n",
       "      <td>0.0</td>\n",
       "      <td>0.0</td>\n",
       "      <td>0.0</td>\n",
       "      <td>0.00</td>\n",
       "      <td>1.0</td>\n",
       "    </tr>\n",
       "  </tbody>\n",
       "</table>\n",
       "</div>"
      ],
      "text/plain": [
       "                   count          mean           std     min     25%     50%  \\\n",
       "age               1338.0     39.207025     14.049960    18.0    27.0    39.0   \n",
       "bmi               1338.0     30.169656      6.119875    15.0    26.0    30.0   \n",
       "children          1338.0      1.094918      1.205493     0.0     0.0     1.0   \n",
       "charges           1338.0  13269.928999  12110.012755  1121.0  4740.0  9381.5   \n",
       "sex_male          1338.0      0.505232      0.500160     0.0     0.0     1.0   \n",
       "smoker_yes        1338.0      0.204783      0.403694     0.0     0.0     0.0   \n",
       "region_northwest  1338.0      0.242900      0.428995     0.0     0.0     0.0   \n",
       "region_southeast  1338.0      0.272048      0.445181     0.0     0.0     0.0   \n",
       "region_southwest  1338.0      0.242900      0.428995     0.0     0.0     0.0   \n",
       "\n",
       "                       75%      max  \n",
       "age                  51.00     64.0  \n",
       "bmi                  34.00     53.0  \n",
       "children              2.00      5.0  \n",
       "charges           16639.25  63770.0  \n",
       "sex_male              1.00      1.0  \n",
       "smoker_yes            0.00      1.0  \n",
       "region_northwest      0.00      1.0  \n",
       "region_southeast      1.00      1.0  \n",
       "region_southwest      0.00      1.0  "
      ]
     },
     "execution_count": 10,
     "metadata": {},
     "output_type": "execute_result"
    }
   ],
   "source": [
    "df.describe().T"
   ]
  },
  {
   "cell_type": "markdown",
   "id": "cbda14a8",
   "metadata": {},
   "source": [
    "# Data Visualization"
   ]
  },
  {
   "cell_type": "code",
   "execution_count": 11,
   "id": "29a9c547",
   "metadata": {},
   "outputs": [
    {
     "data": {
      "text/plain": [
       "<seaborn.axisgrid.FacetGrid at 0x226c941a450>"
      ]
     },
     "execution_count": 11,
     "metadata": {},
     "output_type": "execute_result"
    },
    {
     "data": {
      "text/plain": [
       "<Figure size 1200x1300 with 0 Axes>"
      ]
     },
     "metadata": {},
     "output_type": "display_data"
    },
    {
     "data": {
      "image/png": "[encoded data removed]",
      "text/plain": [
       "<Figure size 500x500 with 1 Axes>"
      ]
     },
     "metadata": {},
     "output_type": "display_data"
    }
   ],
   "source": [
    "plt.figure(figsize=(12,13))\n",
    "sns.displot(df['charges'])"
   ]
  },
  {
   "cell_type": "code",
   "execution_count": 13,
   "id": "4dd72b4f",
   "metadata": {},
   "outputs": [
    {
     "data": {
      "text/plain": [
       "<Axes: >"
      ]
     },
     "execution_count": 13,
     "metadata": {},
     "output_type": "execute_result"
    },
    {
     "data": {
      "image/png": "[encoded data removed]",
      "text/plain": [
       "<Figure size 1200x1000 with 2 Axes>"
      ]
     },
     "metadata": {},
     "output_type": "display_data"
    }
   ],
   "source": [
    "plt.figure(figsize=(12,10))\n",
    "sns.heatmap(df.corr(),annot=True)"
   ]
  },
  {
   "cell_type": "code",
   "execution_count": 14,
   "id": "a6b7029a",
   "metadata": {},
   "outputs": [],
   "source": [
    "x = df.drop('charges',axis=1)\n",
    "y = df['charges']"
   ]
  },
  {
   "cell_type": "code",
   "execution_count": 15,
   "id": "d1abf664",
   "metadata": {},
   "outputs": [],
   "source": [
    "from sklearn.model_selection import train_test_split as tts\n",
    "xtrain, xtest, ytrain, ytest = tts(x,y,test_size=0.3, random_state=78)"
   ]
  },
  {
   "cell_type": "code",
   "execution_count": 16,
   "id": "8891f4b5",
   "metadata": {},
   "outputs": [
    {
     "data": {
      "text/plain": [
       "62     30166\n",
       "861     7151\n",
       "973     1759\n",
       "209     6610\n",
       "849    10601\n",
       "Name: charges, dtype: int32"
      ]
     },
     "execution_count": 16,
     "metadata": {},
     "output_type": "execute_result"
    }
   ],
   "source": [
    "ytrain.head()"
   ]
  },
  {
   "cell_type": "code",
   "execution_count": 17,
   "id": "7d28941c",
   "metadata": {},
   "outputs": [
    {
     "data": {
      "text/html": [
       "<div>\n",
       "<style scoped>\n",
       "    .dataframe tbody tr th:only-of-type {\n",
       "        vertical-align: middle;\n",
       "    }\n",
       "\n",
       "    .dataframe tbody tr th {\n",
       "        vertical-align: top;\n",
       "    }\n",
       "\n",
       "    .dataframe thead th {\n",
       "        text-align: right;\n",
       "    }\n",
       "</style>\n",
       "<table border=\"1\" class=\"dataframe\">\n",
       "  <thead>\n",
       "    <tr style=\"text-align: right;\">\n",
       "      <th></th>\n",
       "      <th>age</th>\n",
       "      <th>bmi</th>\n",
       "      <th>children</th>\n",
       "      <th>sex_male</th>\n",
       "      <th>smoker_yes</th>\n",
       "      <th>region_northwest</th>\n",
       "      <th>region_southeast</th>\n",
       "      <th>region_southwest</th>\n",
       "    </tr>\n",
       "  </thead>\n",
       "  <tbody>\n",
       "    <tr>\n",
       "      <th>62</th>\n",
       "      <td>64</td>\n",
       "      <td>24</td>\n",
       "      <td>1</td>\n",
       "      <td>1</td>\n",
       "      <td>0</td>\n",
       "      <td>1</td>\n",
       "      <td>0</td>\n",
       "      <td>0</td>\n",
       "    </tr>\n",
       "    <tr>\n",
       "      <th>861</th>\n",
       "      <td>38</td>\n",
       "      <td>28</td>\n",
       "      <td>3</td>\n",
       "      <td>0</td>\n",
       "      <td>0</td>\n",
       "      <td>0</td>\n",
       "      <td>0</td>\n",
       "      <td>1</td>\n",
       "    </tr>\n",
       "    <tr>\n",
       "      <th>973</th>\n",
       "      <td>19</td>\n",
       "      <td>40</td>\n",
       "      <td>0</td>\n",
       "      <td>0</td>\n",
       "      <td>0</td>\n",
       "      <td>0</td>\n",
       "      <td>0</td>\n",
       "      <td>1</td>\n",
       "    </tr>\n",
       "    <tr>\n",
       "      <th>209</th>\n",
       "      <td>40</td>\n",
       "      <td>41</td>\n",
       "      <td>1</td>\n",
       "      <td>1</td>\n",
       "      <td>0</td>\n",
       "      <td>0</td>\n",
       "      <td>0</td>\n",
       "      <td>0</td>\n",
       "    </tr>\n",
       "    <tr>\n",
       "      <th>849</th>\n",
       "      <td>55</td>\n",
       "      <td>32</td>\n",
       "      <td>0</td>\n",
       "      <td>1</td>\n",
       "      <td>0</td>\n",
       "      <td>1</td>\n",
       "      <td>0</td>\n",
       "      <td>0</td>\n",
       "    </tr>\n",
       "  </tbody>\n",
       "</table>\n",
       "</div>"
      ],
      "text/plain": [
       "     age  bmi  children  sex_male  smoker_yes  region_northwest  \\\n",
       "62    64   24         1         1           0                 1   \n",
       "861   38   28         3         0           0                 0   \n",
       "973   19   40         0         0           0                 0   \n",
       "209   40   41         1         1           0                 0   \n",
       "849   55   32         0         1           0                 1   \n",
       "\n",
       "     region_southeast  region_southwest  \n",
       "62                  0                 0  \n",
       "861                 0                 1  \n",
       "973                 0                 1  \n",
       "209                 0                 0  \n",
       "849                 0                 0  "
      ]
     },
     "execution_count": 17,
     "metadata": {},
     "output_type": "execute_result"
    }
   ],
   "source": [
    "xtrain.head()"
   ]
  },
  {
   "cell_type": "code",
   "execution_count": 18,
   "id": "0fafa9aa",
   "metadata": {},
   "outputs": [
    {
     "data": {
      "text/html": [
       "<div>\n",
       "<style scoped>\n",
       "    .dataframe tbody tr th:only-of-type {\n",
       "        vertical-align: middle;\n",
       "    }\n",
       "\n",
       "    .dataframe tbody tr th {\n",
       "        vertical-align: top;\n",
       "    }\n",
       "\n",
       "    .dataframe thead th {\n",
       "        text-align: right;\n",
       "    }\n",
       "</style>\n",
       "<table border=\"1\" class=\"dataframe\">\n",
       "  <thead>\n",
       "    <tr style=\"text-align: right;\">\n",
       "      <th></th>\n",
       "      <th>age</th>\n",
       "      <th>bmi</th>\n",
       "      <th>children</th>\n",
       "      <th>sex_male</th>\n",
       "      <th>smoker_yes</th>\n",
       "      <th>region_northwest</th>\n",
       "      <th>region_southeast</th>\n",
       "      <th>region_southwest</th>\n",
       "    </tr>\n",
       "  </thead>\n",
       "  <tbody>\n",
       "    <tr>\n",
       "      <th>160</th>\n",
       "      <td>42</td>\n",
       "      <td>26</td>\n",
       "      <td>0</td>\n",
       "      <td>0</td>\n",
       "      <td>1</td>\n",
       "      <td>1</td>\n",
       "      <td>0</td>\n",
       "      <td>0</td>\n",
       "    </tr>\n",
       "    <tr>\n",
       "      <th>1326</th>\n",
       "      <td>42</td>\n",
       "      <td>32</td>\n",
       "      <td>0</td>\n",
       "      <td>0</td>\n",
       "      <td>0</td>\n",
       "      <td>0</td>\n",
       "      <td>0</td>\n",
       "      <td>0</td>\n",
       "    </tr>\n",
       "    <tr>\n",
       "      <th>544</th>\n",
       "      <td>54</td>\n",
       "      <td>30</td>\n",
       "      <td>0</td>\n",
       "      <td>1</td>\n",
       "      <td>0</td>\n",
       "      <td>1</td>\n",
       "      <td>0</td>\n",
       "      <td>0</td>\n",
       "    </tr>\n",
       "    <tr>\n",
       "      <th>624</th>\n",
       "      <td>59</td>\n",
       "      <td>28</td>\n",
       "      <td>0</td>\n",
       "      <td>1</td>\n",
       "      <td>0</td>\n",
       "      <td>1</td>\n",
       "      <td>0</td>\n",
       "      <td>0</td>\n",
       "    </tr>\n",
       "    <tr>\n",
       "      <th>914</th>\n",
       "      <td>33</td>\n",
       "      <td>24</td>\n",
       "      <td>2</td>\n",
       "      <td>1</td>\n",
       "      <td>0</td>\n",
       "      <td>1</td>\n",
       "      <td>0</td>\n",
       "      <td>0</td>\n",
       "    </tr>\n",
       "  </tbody>\n",
       "</table>\n",
       "</div>"
      ],
      "text/plain": [
       "      age  bmi  children  sex_male  smoker_yes  region_northwest  \\\n",
       "160    42   26         0         0           1                 1   \n",
       "1326   42   32         0         0           0                 0   \n",
       "544    54   30         0         1           0                 1   \n",
       "624    59   28         0         1           0                 1   \n",
       "914    33   24         2         1           0                 1   \n",
       "\n",
       "      region_southeast  region_southwest  \n",
       "160                  0                 0  \n",
       "1326                 0                 0  \n",
       "544                  0                 0  \n",
       "624                  0                 0  \n",
       "914                  0                 0  "
      ]
     },
     "execution_count": 18,
     "metadata": {},
     "output_type": "execute_result"
    }
   ],
   "source": [
    "xtest.head()"
   ]
  },
  {
   "cell_type": "code",
   "execution_count": 19,
   "id": "9c1d7cec",
   "metadata": {},
   "outputs": [
    {
     "data": {
      "text/html": [
       "<style>#sk-container-id-1 {color: black;background-color: white;}#sk-container-id-1 pre{padding: 0;}#sk-container-id-1 div.sk-toggleable {background-color: white;}#sk-container-id-1 label.sk-toggleable__label {cursor: pointer;display: block;width: 100%;margin-bottom: 0;padding: 0.3em;box-sizing: border-box;text-align: center;}#sk-container-id-1 label.sk-toggleable__label-arrow:before {content: \"▸\";float: left;margin-right: 0.25em;color: #696969;}#sk-container-id-1 label.sk-toggleable__label-arrow:hover:before {color: black;}#sk-container-id-1 div.sk-estimator:hover label.sk-toggleable__label-arrow:before {color: black;}#sk-container-id-1 div.sk-toggleable__content {max-height: 0;max-width: 0;overflow: hidden;text-align: left;background-color: #f0f8ff;}#sk-container-id-1 div.sk-toggleable__content pre {margin: 0.2em;color: black;border-radius: 0.25em;background-color: #f0f8ff;}#sk-container-id-1 input.sk-toggleable__control:checked~div.sk-toggleable__content {max-height: 200px;max-width: 100%;overflow: auto;}#sk-container-id-1 input.sk-toggleable__control:checked~label.sk-toggleable__label-arrow:before {content: \"▾\";}#sk-container-id-1 div.sk-estimator input.sk-toggleable__control:checked~label.sk-toggleable__label {background-color: #d4ebff;}#sk-container-id-1 div.sk-label input.sk-toggleable__control:checked~label.sk-toggleable__label {background-color: #d4ebff;}#sk-container-id-1 input.sk-hidden--visually {border: 0;clip: rect(1px 1px 1px 1px);clip: rect(1px, 1px, 1px, 1px);height: 1px;margin: -1px;overflow: hidden;padding: 0;position: absolute;width: 1px;}#sk-container-id-1 div.sk-estimator {font-family: monospace;background-color: #f0f8ff;border: 1px dotted black;border-radius: 0.25em;box-sizing: border-box;margin-bottom: 0.5em;}#sk-container-id-1 div.sk-estimator:hover {background-color: #d4ebff;}#sk-container-id-1 div.sk-parallel-item::after {content: \"\";width: 100%;border-bottom: 1px solid gray;flex-grow: 1;}#sk-container-id-1 div.sk-label:hover label.sk-toggleable__label {background-color: #d4ebff;}#sk-container-id-1 div.sk-serial::before {content: \"\";position: absolute;border-left: 1px solid gray;box-sizing: border-box;top: 0;bottom: 0;left: 50%;z-index: 0;}#sk-container-id-1 div.sk-serial {display: flex;flex-direction: column;align-items: center;background-color: white;padding-right: 0.2em;padding-left: 0.2em;position: relative;}#sk-container-id-1 div.sk-item {position: relative;z-index: 1;}#sk-container-id-1 div.sk-parallel {display: flex;align-items: stretch;justify-content: center;background-color: white;position: relative;}#sk-container-id-1 div.sk-item::before, #sk-container-id-1 div.sk-parallel-item::before {content: \"\";position: absolute;border-left: 1px solid gray;box-sizing: border-box;top: 0;bottom: 0;left: 50%;z-index: -1;}#sk-container-id-1 div.sk-parallel-item {display: flex;flex-direction: column;z-index: 1;position: relative;background-color: white;}#sk-container-id-1 div.sk-parallel-item:first-child::after {align-self: flex-end;width: 50%;}#sk-container-id-1 div.sk-parallel-item:last-child::after {align-self: flex-start;width: 50%;}#sk-container-id-1 div.sk-parallel-item:only-child::after {width: 0;}#sk-container-id-1 div.sk-dashed-wrapped {border: 1px dashed gray;margin: 0 0.4em 0.5em 0.4em;box-sizing: border-box;padding-bottom: 0.4em;background-color: white;}#sk-container-id-1 div.sk-label label {font-family: monospace;font-weight: bold;display: inline-block;line-height: 1.2em;}#sk-container-id-1 div.sk-label-container {text-align: center;}#sk-container-id-1 div.sk-container {/* jupyter's `normalize.less` sets `[hidden] { display: none; }` but bootstrap.min.css set `[hidden] { display: none !important; }` so we also need the `!important` here to be able to override the default hidden behavior on the sphinx rendered scikit-learn.org. See: https://github.com/scikit-learn/scikit-learn/issues/21755 */display: inline-block !important;position: relative;}#sk-container-id-1 div.sk-text-repr-fallback {display: none;}</style><div id=\"sk-container-id-1\" class=\"sk-top-container\"><div class=\"sk-text-repr-fallback\"><pre>LinearRegression()</pre><b>In a Jupyter environment, please rerun this cell to show the HTML representation or trust the notebook. <br />On GitHub, the HTML representation is unable to render, please try loading this page with nbviewer.org.</b></div><div class=\"sk-container\" hidden><div class=\"sk-item\"><div class=\"sk-estimator sk-toggleable\"><input class=\"sk-toggleable__control sk-hidden--visually\" id=\"sk-estimator-id-1\" type=\"checkbox\" checked><label for=\"sk-estimator-id-1\" class=\"sk-toggleable__label sk-toggleable__label-arrow\">LinearRegression</label><div class=\"sk-toggleable__content\"><pre>LinearRegression()</pre></div></div></div></div></div>"
      ],
      "text/plain": [
       "LinearRegression()"
      ]
     },
     "execution_count": 19,
     "metadata": {},
     "output_type": "execute_result"
    }
   ],
   "source": [
    "from sklearn.linear_model import LinearRegression\n",
    "reg = LinearRegression()\n",
    "reg.fit(xtest,ytest)"
   ]
  },
  {
   "cell_type": "code",
   "execution_count": 21,
   "id": "b58ce395",
   "metadata": {},
   "outputs": [],
   "source": [
    "pred = reg.predict(xtest)"
   ]
  },
  {
   "cell_type": "code",
   "execution_count": 22,
   "id": "34d1f252",
   "metadata": {},
   "outputs": [
    {
     "data": {
      "text/plain": [
       "array([30348.5867859 ,  9616.9452087 , 11549.88831963, 12116.86357426,\n",
       "        5485.98342478, 14563.07925315,  7768.53217305, 10338.05062912,\n",
       "       29039.60318428, 32919.49318829,  8445.227004  , 10106.85904297,\n",
       "        3463.02553738, 10456.35828487, 33401.56558461,  6381.73090842,\n",
       "        7128.16410208, 29232.95755677, 26952.35637258, 32149.62160545,\n",
       "       14316.65936379, 11848.78304266,  4546.75523188,  2689.82311527,\n",
       "        8784.73535309, 29258.34165109, 28204.54553913,  3029.5224341 ,\n",
       "       10567.20275185, 28939.5502052 ,  3917.11924029,  8770.40604683,\n",
       "        3300.18436762, 14810.30984729, 29152.22353926, 10995.66717304,\n",
       "        3649.88285759, 11166.9051609 ,  1759.96001113, 13928.38766447,\n",
       "        1058.63571408,  8496.57270943,  9613.90644942, 26931.25843555,\n",
       "       12806.24113611,  6044.73353738,  7702.46736074, 14114.66203253,\n",
       "        2980.43970714, 23652.70730625,  5376.75208907,  5051.64936976,\n",
       "        9710.75085207,  9008.60079414,   -92.81031446,  6743.98467556,\n",
       "       12990.06155596,  6640.45315653, 10820.31989482, 33421.34856689,\n",
       "        5716.27973184, 10635.2366037 ,  6235.50650794,  1663.94136935,\n",
       "        7353.6660088 ,  5916.06097724, 11039.95030878, 12058.36648724,\n",
       "       25347.69539113,  2553.70004375,  7654.45530679, 11059.64191147,\n",
       "        9938.39252113,  8667.95320709,  9552.65109353,  3632.38400637,\n",
       "       10171.04343074,  3700.15666148, 11714.43400024, 11865.39981194,\n",
       "        6673.49263789, 10281.01100665, 10786.2024154 , 30943.15702985,\n",
       "       10743.32466073,  9907.70764233,  6102.35373332,  6119.53506673,\n",
       "       29860.62360316, 10908.62496957,  4808.89994337,  7122.52555285,\n",
       "       15796.89600935,  6177.88631199,  3867.15962226,  -105.2634338 ,\n",
       "       32136.92048653, 27492.54215182, 14581.1426685 , 14856.03962911,\n",
       "       37824.43398648,  2020.32883461, 16108.49185132,  3186.42592483,\n",
       "       33521.21481383,  7924.85604357, 10620.01015942,  8733.12421333,\n",
       "       11655.67385757,  5067.68651884,  6383.87252968, 10083.4206538 ,\n",
       "        8592.59135121, 37705.87595247, 14985.27675338,  7009.34487133,\n",
       "        7513.9073886 , 11313.63594551, 29258.02227436,  4862.28511222,\n",
       "        5601.954866  ,  6058.57884063, 29445.19378043,  2229.79173333,\n",
       "       11100.00939686,  1684.84429592,  6666.09749432, 18099.45882449,\n",
       "        3716.19381056, 11468.08548804, 35427.54198435,  5230.60401211,\n",
       "       13137.03539379,  7078.76904818, 12415.7582973 ,  3186.42592483,\n",
       "       15286.95799851,  4342.9308824 ,  9481.01910914, 15515.79593537,\n",
       "        5345.74969246, 10315.17961627, 12576.8949562 , 12864.16046185,\n",
       "       30024.04439312,  9390.12744159,  3434.53341005, 10329.82548708,\n",
       "        5624.80844409, 36346.98810062, 37962.959876  , 12727.8607679 ,\n",
       "       11801.59912826, 16380.54102239, 35520.95897725,  9114.40472011,\n",
       "       10651.59217624, 11813.78867217,  3984.8407652 ,  5994.51272261,\n",
       "       17610.12461043,  7016.98706122,  8460.26433746,  8344.78113686,\n",
       "       15508.98136527, 11926.6702239 , 38460.4447675 , 26403.51071957,\n",
       "       12554.28418681,  7398.81283846, 30725.61483084, 13507.00086904,\n",
       "       32146.2855753 , 32538.54430212,  2846.726606  , 13800.78886479,\n",
       "        4078.33222271, 12547.45456064, 24658.86214646,  5264.69629821,\n",
       "       12958.35208542,  6790.9055343 ,  8727.7661545 ,  7345.12853981,\n",
       "       13496.90139899, 14259.110545  , 11826.4897911 , 12089.19720779,\n",
       "       13591.39029343,  -524.29657994, 11794.51912382, 12217.92275705,\n",
       "        5033.25671248, 10691.13390076,  9926.83653981,  5724.42855036,\n",
       "       26210.66459013, 12332.19463377, 32431.0358653 , 10768.07705138,\n",
       "        9037.34329975,  7443.16735135, 14067.16155358,  4917.30032734,\n",
       "        5703.01404879, 31342.54970351,  8755.43252097, 11595.61476949,\n",
       "        6213.7778205 , 10196.62158226,  1505.91298797, 12262.77045692,\n",
       "       22373.72866431,  3139.11908588, 12009.91970156,  9485.24894536,\n",
       "       34737.53271882,  4888.8082    , 10751.72147884, 29242.55064268,\n",
       "        4036.50303517,  8072.48582512,  7667.47299025, 11004.06399115,\n",
       "        9166.01585988,  4327.7706244 ,  2011.10625564,  9845.36109123,\n",
       "       10592.35884903, 27723.98173756,  7164.03722257,  1000.77270942,\n",
       "       26717.31770103, 11202.79147854, 34668.10854197, 33011.27680299,\n",
       "        9483.79243409, 27357.36734853,  9052.86887381,  7694.2422187 ,\n",
       "        8921.93218506, 10748.12239303, 10556.78485834,  6498.82724028,\n",
       "       29839.47453592,  8330.39550952,  9702.21152417, 13992.99905295,\n",
       "        6274.73071464, 30741.98545945, 14126.22320472,  6800.75886369,\n",
       "       29208.38203306, 29462.11487037, 14797.5425421 ,  5833.95901586,\n",
       "        7543.8560272 ,  5351.93351215,  7871.9975058 ,  2280.89129809,\n",
       "       36514.62276507,  5007.61237468,  9478.99708047, 10025.38359439,\n",
       "       35768.1895714 ,  7478.16172184,  2033.66070394,  5420.72289787,\n",
       "       12325.67733454, 32582.88375894, 10590.33682035,  3906.96678112,\n",
       "       10887.84455035, 25153.02420497,  6982.75226532, 12481.45593462,\n",
       "       10687.16616693, 31575.83178072, 11095.84760584,  8637.68519175,\n",
       "       12632.73593218,  9626.04724182,  6034.31988147,  6933.74091551,\n",
       "        7392.8902155 ,  2791.70805893,  9074.54643105,  2963.82293786,\n",
       "        3104.63629039,  3424.62895046, 14902.02727571,  8942.8501677 ,\n",
       "        9333.9689478 ,  8565.17112541,  9309.95279734,  7160.87100956,\n",
       "        5547.81840087,  8312.07422938,  4224.50030211,   494.11959852,\n",
       "       30219.27828449, 27847.03504213,  1243.1905152 , 15196.05127489,\n",
       "        4012.50713167, 32975.39048535, 10815.33048401, 30835.33626608,\n",
       "       10377.59235364,  2909.38734295,  5353.00137296,  8342.27086758,\n",
       "       11086.50585147,  2948.61154966,  8250.48725288,  5869.14011849,\n",
       "        7639.22886251, 29752.17113571,  5922.26409061,  6994.69380965,\n",
       "        3300.18436762,  4259.41834908, 27739.77274597,  1164.75382591,\n",
       "       15023.93639595, 24642.19424698, 26379.44343892, 13477.63185064,\n",
       "       10397.54701199, 33123.01840798,  -217.00689771, 25303.99001667,\n",
       "       12457.43978416, 33825.97089238, 35510.80651808, 13020.25324778,\n",
       "        7949.18637989, 13001.80946029, 30872.10466566, 15251.94857195,\n",
       "        3064.82913153,   506.87184765, 32627.16689469,  4480.44427891,\n",
       "        5818.91930372, 14573.81466447,  7411.26781671,  5213.91091932,\n",
       "       14800.14233205,  3367.08013167,  3506.17058531,  7554.59143853,\n",
       "       34494.46577461,  6926.02920739, -1052.04429591,  4792.04012087,\n",
       "       25919.5395107 , -2063.83768536, 13409.98664924, 11819.7263512 ,\n",
       "       10271.47424181, 11438.14671463,  5769.5904361 ,  2779.20195047,\n",
       "        5971.9071441 , 11533.27155035,  9506.66344693, 37582.8268855 ,\n",
       "        9228.99078269, 29315.89046989,  9849.26168551,  3048.79198246,\n",
       "       11089.59574095, 12071.69835657,  6619.03679603, 14798.43448924,\n",
       "        7078.1912869 , 11904.11577559, 16389.76360136,  9350.88484686,\n",
       "       11024.7238645 ,  7762.01487382,  3492.97936686, 37261.62052287,\n",
       "       10146.71309443,  9955.32866714,  4119.76756891, 29513.21257621,\n",
       "       35892.38615465, 11800.45680285,  7498.94214106,  7016.42249709,\n",
       "        9272.4331015 ,  4546.75523188, 10972.16259759, 27038.20230825,\n",
       "        9732.99111451, 14679.86139915,  3571.43111223, 26914.58867715,\n",
       "       30903.37011794,  7651.17040684])"
      ]
     },
     "execution_count": 22,
     "metadata": {},
     "output_type": "execute_result"
    }
   ],
   "source": [
    "pred"
   ]
  },
  {
   "cell_type": "code",
   "execution_count": 23,
   "id": "11d6ee5a",
   "metadata": {},
   "outputs": [],
   "source": [
    "df_pred = pd.DataFrame({'Actual': ytest, 'Prediction': pred, 'Difference': abs(ytest-pred)})"
   ]
  },
  {
   "cell_type": "code",
   "execution_count": 24,
   "id": "5880cb80",
   "metadata": {},
   "outputs": [
    {
     "data": {
      "text/html": [
       "<div>\n",
       "<style scoped>\n",
       "    .dataframe tbody tr th:only-of-type {\n",
       "        vertical-align: middle;\n",
       "    }\n",
       "\n",
       "    .dataframe tbody tr th {\n",
       "        vertical-align: top;\n",
       "    }\n",
       "\n",
       "    .dataframe thead th {\n",
       "        text-align: right;\n",
       "    }\n",
       "</style>\n",
       "<table border=\"1\" class=\"dataframe\">\n",
       "  <thead>\n",
       "    <tr style=\"text-align: right;\">\n",
       "      <th></th>\n",
       "      <th>Actual</th>\n",
       "      <th>Prediction</th>\n",
       "      <th>Difference</th>\n",
       "    </tr>\n",
       "  </thead>\n",
       "  <tbody>\n",
       "    <tr>\n",
       "      <th>160</th>\n",
       "      <td>21348</td>\n",
       "      <td>30348.586786</td>\n",
       "      <td>9000.586786</td>\n",
       "    </tr>\n",
       "    <tr>\n",
       "      <th>1326</th>\n",
       "      <td>7050</td>\n",
       "      <td>9616.945209</td>\n",
       "      <td>2566.945209</td>\n",
       "    </tr>\n",
       "    <tr>\n",
       "      <th>544</th>\n",
       "      <td>10231</td>\n",
       "      <td>11549.888320</td>\n",
       "      <td>1318.888320</td>\n",
       "    </tr>\n",
       "    <tr>\n",
       "      <th>624</th>\n",
       "      <td>12129</td>\n",
       "      <td>12116.863574</td>\n",
       "      <td>12.136426</td>\n",
       "    </tr>\n",
       "    <tr>\n",
       "      <th>914</th>\n",
       "      <td>5257</td>\n",
       "      <td>5485.983425</td>\n",
       "      <td>228.983425</td>\n",
       "    </tr>\n",
       "    <tr>\n",
       "      <th>...</th>\n",
       "      <td>...</td>\n",
       "      <td>...</td>\n",
       "      <td>...</td>\n",
       "    </tr>\n",
       "    <tr>\n",
       "      <th>563</th>\n",
       "      <td>9058</td>\n",
       "      <td>14679.861399</td>\n",
       "      <td>5621.861399</td>\n",
       "    </tr>\n",
       "    <tr>\n",
       "      <th>881</th>\n",
       "      <td>2789</td>\n",
       "      <td>3571.431112</td>\n",
       "      <td>782.431112</td>\n",
       "    </tr>\n",
       "    <tr>\n",
       "      <th>795</th>\n",
       "      <td>18310</td>\n",
       "      <td>26914.588677</td>\n",
       "      <td>8604.588677</td>\n",
       "    </tr>\n",
       "    <tr>\n",
       "      <th>98</th>\n",
       "      <td>22412</td>\n",
       "      <td>30903.370118</td>\n",
       "      <td>8491.370118</td>\n",
       "    </tr>\n",
       "    <tr>\n",
       "      <th>400</th>\n",
       "      <td>9264</td>\n",
       "      <td>7651.170407</td>\n",
       "      <td>1612.829593</td>\n",
       "    </tr>\n",
       "  </tbody>\n",
       "</table>\n",
       "<p>402 rows × 3 columns</p>\n",
       "</div>"
      ],
      "text/plain": [
       "      Actual    Prediction   Difference\n",
       "160    21348  30348.586786  9000.586786\n",
       "1326    7050   9616.945209  2566.945209\n",
       "544    10231  11549.888320  1318.888320\n",
       "624    12129  12116.863574    12.136426\n",
       "914     5257   5485.983425   228.983425\n",
       "...      ...           ...          ...\n",
       "563     9058  14679.861399  5621.861399\n",
       "881     2789   3571.431112   782.431112\n",
       "795    18310  26914.588677  8604.588677\n",
       "98     22412  30903.370118  8491.370118\n",
       "400     9264   7651.170407  1612.829593\n",
       "\n",
       "[402 rows x 3 columns]"
      ]
     },
     "execution_count": 24,
     "metadata": {},
     "output_type": "execute_result"
    }
   ],
   "source": [
    "df_pred"
   ]
  },
  {
   "cell_type": "code",
   "execution_count": 25,
   "id": "42c45b50",
   "metadata": {},
   "outputs": [],
   "source": [
    "m = reg.coef_"
   ]
  },
  {
   "cell_type": "code",
   "execution_count": 26,
   "id": "981d7148",
   "metadata": {},
   "outputs": [
    {
     "data": {
      "text/plain": [
       "array([  241.29291512,   319.74466049,   460.8571428 ,  -454.09370291,\n",
       "       22519.09838676,   131.01115335,  -711.12649624,  -300.47511213])"
      ]
     },
     "execution_count": 26,
     "metadata": {},
     "output_type": "execute_result"
    }
   ],
   "source": [
    "m"
   ]
  },
  {
   "cell_type": "code",
   "execution_count": 27,
   "id": "48c3444e",
   "metadata": {},
   "outputs": [
    {
     "data": {
      "text/plain": [
       "-10749.186361905044"
      ]
     },
     "execution_count": 27,
     "metadata": {},
     "output_type": "execute_result"
    }
   ],
   "source": [
    "c = reg.intercept_\n",
    "c"
   ]
  },
  {
   "cell_type": "code",
   "execution_count": 28,
   "id": "9801b5b0",
   "metadata": {},
   "outputs": [
    {
     "data": {
      "text/plain": [
       "0.7293540969241745"
      ]
     },
     "execution_count": 28,
     "metadata": {},
     "output_type": "execute_result"
    }
   ],
   "source": [
    "reg.score(xtest,ytest)"
   ]
  },
  {
   "cell_type": "code",
   "execution_count": null,
   "id": "7d2d4494",
   "metadata": {},
   "outputs": [],
   "source": []
  }
 ],
 "metadata": {
  "kernelspec": {
   "display_name": "Python 3 (ipykernel)",
   "language": "python",
   "name": "python3"
  },
  "language_info": {
   "codemirror_mode": {
    "name": "ipython",
    "version": 3
   },
   "file_extension": ".py",
   "mimetype": "text/x-python",
   "name": "python",
   "nbconvert_exporter": "python",
   "pygments_lexer": "ipython3",
   "version": "3.11.3"
  }
 },
 "nbformat": 4,
 "nbformat_minor": 5
}
