{
 "cells": [
  {
   "cell_type": "markdown",
   "id": "15639765",
   "metadata": {},
   "source": [
    "# Implement multivariable linear regression & KNN Regression in the given dataset. Check the accuracy,mse,mae of both algorithms & make a barplot using these things"
   ]
  },
  {
   "cell_type": "code",
   "execution_count": 1,
   "id": "a2e8bb0f",
   "metadata": {},
   "outputs": [],
   "source": [
    "import pandas as pd \n",
    "import numpy as np\n",
    "import matplotlib.pyplot as plt\n",
    "import seaborn as sns\n",
    "import warnings\n",
    "warnings.filterwarnings('ignore')"
   ]
  },
  {
   "cell_type": "code",
   "execution_count": 2,
   "id": "a1a22ce5",
   "metadata": {},
   "outputs": [],
   "source": [
    "df = pd.read_excel('insurance.xlsx')"
   ]
  },
  {
   "cell_type": "code",
   "execution_count": 3,
   "id": "a470cfb9",
   "metadata": {},
   "outputs": [
    {
     "data": {
      "text/html": [
       "<div>\n",
       "<style scoped>\n",
       "    .dataframe tbody tr th:only-of-type {\n",
       "        vertical-align: middle;\n",
       "    }\n",
       "\n",
       "    .dataframe tbody tr th {\n",
       "        vertical-align: top;\n",
       "    }\n",
       "\n",
       "    .dataframe thead th {\n",
       "        text-align: right;\n",
       "    }\n",
       "</style>\n",
       "<table border=\"1\" class=\"dataframe\">\n",
       "  <thead>\n",
       "    <tr style=\"text-align: right;\">\n",
       "      <th></th>\n",
       "      <th>age</th>\n",
       "      <th>sex</th>\n",
       "      <th>bmi</th>\n",
       "      <th>children</th>\n",
       "      <th>smoker</th>\n",
       "      <th>region</th>\n",
       "      <th>charges</th>\n",
       "    </tr>\n",
       "  </thead>\n",
       "  <tbody>\n",
       "    <tr>\n",
       "      <th>0</th>\n",
       "      <td>19</td>\n",
       "      <td>female</td>\n",
       "      <td>27.900</td>\n",
       "      <td>0</td>\n",
       "      <td>yes</td>\n",
       "      <td>southwest</td>\n",
       "      <td>16884.92400</td>\n",
       "    </tr>\n",
       "    <tr>\n",
       "      <th>1</th>\n",
       "      <td>18</td>\n",
       "      <td>male</td>\n",
       "      <td>33.770</td>\n",
       "      <td>1</td>\n",
       "      <td>no</td>\n",
       "      <td>southeast</td>\n",
       "      <td>1725.55230</td>\n",
       "    </tr>\n",
       "    <tr>\n",
       "      <th>2</th>\n",
       "      <td>28</td>\n",
       "      <td>male</td>\n",
       "      <td>33.000</td>\n",
       "      <td>3</td>\n",
       "      <td>no</td>\n",
       "      <td>southeast</td>\n",
       "      <td>4449.46200</td>\n",
       "    </tr>\n",
       "    <tr>\n",
       "      <th>3</th>\n",
       "      <td>33</td>\n",
       "      <td>male</td>\n",
       "      <td>22.705</td>\n",
       "      <td>0</td>\n",
       "      <td>no</td>\n",
       "      <td>northwest</td>\n",
       "      <td>21984.47061</td>\n",
       "    </tr>\n",
       "    <tr>\n",
       "      <th>4</th>\n",
       "      <td>32</td>\n",
       "      <td>male</td>\n",
       "      <td>28.880</td>\n",
       "      <td>0</td>\n",
       "      <td>no</td>\n",
       "      <td>northwest</td>\n",
       "      <td>3866.85520</td>\n",
       "    </tr>\n",
       "  </tbody>\n",
       "</table>\n",
       "</div>"
      ],
      "text/plain": [
       "   age     sex     bmi  children smoker     region      charges\n",
       "0   19  female  27.900         0    yes  southwest  16884.92400\n",
       "1   18    male  33.770         1     no  southeast   1725.55230\n",
       "2   28    male  33.000         3     no  southeast   4449.46200\n",
       "3   33    male  22.705         0     no  northwest  21984.47061\n",
       "4   32    male  28.880         0     no  northwest   3866.85520"
      ]
     },
     "execution_count": 3,
     "metadata": {},
     "output_type": "execute_result"
    }
   ],
   "source": [
    "df.head()"
   ]
  },
  {
   "cell_type": "markdown",
   "id": "49a3db7b",
   "metadata": {},
   "source": [
    "# Label Encoding"
   ]
  },
  {
   "cell_type": "code",
   "execution_count": 4,
   "id": "4eb999b6",
   "metadata": {},
   "outputs": [],
   "source": [
    "from pandas.core.dtypes.common import is_numeric_dtype\n",
    "from sklearn.preprocessing import LabelEncoder\n",
    "le = LabelEncoder()"
   ]
  },
  {
   "cell_type": "code",
   "execution_count": 5,
   "id": "3ebf0d0e",
   "metadata": {},
   "outputs": [
    {
     "data": {
      "text/html": [
       "<div>\n",
       "<style scoped>\n",
       "    .dataframe tbody tr th:only-of-type {\n",
       "        vertical-align: middle;\n",
       "    }\n",
       "\n",
       "    .dataframe tbody tr th {\n",
       "        vertical-align: top;\n",
       "    }\n",
       "\n",
       "    .dataframe thead th {\n",
       "        text-align: right;\n",
       "    }\n",
       "</style>\n",
       "<table border=\"1\" class=\"dataframe\">\n",
       "  <thead>\n",
       "    <tr style=\"text-align: right;\">\n",
       "      <th></th>\n",
       "      <th>age</th>\n",
       "      <th>sex</th>\n",
       "      <th>bmi</th>\n",
       "      <th>children</th>\n",
       "      <th>smoker</th>\n",
       "      <th>region</th>\n",
       "      <th>charges</th>\n",
       "    </tr>\n",
       "  </thead>\n",
       "  <tbody>\n",
       "    <tr>\n",
       "      <th>0</th>\n",
       "      <td>19</td>\n",
       "      <td>0</td>\n",
       "      <td>27.900</td>\n",
       "      <td>0</td>\n",
       "      <td>1</td>\n",
       "      <td>3</td>\n",
       "      <td>16884.92400</td>\n",
       "    </tr>\n",
       "    <tr>\n",
       "      <th>1</th>\n",
       "      <td>18</td>\n",
       "      <td>1</td>\n",
       "      <td>33.770</td>\n",
       "      <td>1</td>\n",
       "      <td>0</td>\n",
       "      <td>2</td>\n",
       "      <td>1725.55230</td>\n",
       "    </tr>\n",
       "    <tr>\n",
       "      <th>2</th>\n",
       "      <td>28</td>\n",
       "      <td>1</td>\n",
       "      <td>33.000</td>\n",
       "      <td>3</td>\n",
       "      <td>0</td>\n",
       "      <td>2</td>\n",
       "      <td>4449.46200</td>\n",
       "    </tr>\n",
       "    <tr>\n",
       "      <th>3</th>\n",
       "      <td>33</td>\n",
       "      <td>1</td>\n",
       "      <td>22.705</td>\n",
       "      <td>0</td>\n",
       "      <td>0</td>\n",
       "      <td>1</td>\n",
       "      <td>21984.47061</td>\n",
       "    </tr>\n",
       "    <tr>\n",
       "      <th>4</th>\n",
       "      <td>32</td>\n",
       "      <td>1</td>\n",
       "      <td>28.880</td>\n",
       "      <td>0</td>\n",
       "      <td>0</td>\n",
       "      <td>1</td>\n",
       "      <td>3866.85520</td>\n",
       "    </tr>\n",
       "  </tbody>\n",
       "</table>\n",
       "</div>"
      ],
      "text/plain": [
       "   age  sex     bmi  children  smoker  region      charges\n",
       "0   19    0  27.900         0       1       3  16884.92400\n",
       "1   18    1  33.770         1       0       2   1725.55230\n",
       "2   28    1  33.000         3       0       2   4449.46200\n",
       "3   33    1  22.705         0       0       1  21984.47061\n",
       "4   32    1  28.880         0       0       1   3866.85520"
      ]
     },
     "execution_count": 5,
     "metadata": {},
     "output_type": "execute_result"
    }
   ],
   "source": [
    "for col in df.columns:\n",
    "    if is_numeric_dtype(df[col]):\n",
    "        continue\n",
    "    else:\n",
    "        df[col] = le.fit_transform(df[col])\n",
    "df.head()"
   ]
  },
  {
   "cell_type": "code",
   "execution_count": 6,
   "id": "4fe0002f",
   "metadata": {},
   "outputs": [
    {
     "data": {
      "text/html": [
       "<div>\n",
       "<style scoped>\n",
       "    .dataframe tbody tr th:only-of-type {\n",
       "        vertical-align: middle;\n",
       "    }\n",
       "\n",
       "    .dataframe tbody tr th {\n",
       "        vertical-align: top;\n",
       "    }\n",
       "\n",
       "    .dataframe thead th {\n",
       "        text-align: right;\n",
       "    }\n",
       "</style>\n",
       "<table border=\"1\" class=\"dataframe\">\n",
       "  <thead>\n",
       "    <tr style=\"text-align: right;\">\n",
       "      <th></th>\n",
       "      <th>age</th>\n",
       "      <th>sex</th>\n",
       "      <th>bmi</th>\n",
       "      <th>children</th>\n",
       "      <th>smoker</th>\n",
       "      <th>region</th>\n",
       "      <th>charges</th>\n",
       "    </tr>\n",
       "  </thead>\n",
       "  <tbody>\n",
       "    <tr>\n",
       "      <th>count</th>\n",
       "      <td>1338.000000</td>\n",
       "      <td>1338.000000</td>\n",
       "      <td>1338.000000</td>\n",
       "      <td>1338.000000</td>\n",
       "      <td>1338.000000</td>\n",
       "      <td>1338.000000</td>\n",
       "      <td>1338.000000</td>\n",
       "    </tr>\n",
       "    <tr>\n",
       "      <th>mean</th>\n",
       "      <td>39.207025</td>\n",
       "      <td>0.505232</td>\n",
       "      <td>30.663397</td>\n",
       "      <td>1.094918</td>\n",
       "      <td>0.204783</td>\n",
       "      <td>1.515695</td>\n",
       "      <td>13270.422265</td>\n",
       "    </tr>\n",
       "    <tr>\n",
       "      <th>std</th>\n",
       "      <td>14.049960</td>\n",
       "      <td>0.500160</td>\n",
       "      <td>6.098187</td>\n",
       "      <td>1.205493</td>\n",
       "      <td>0.403694</td>\n",
       "      <td>1.104885</td>\n",
       "      <td>12110.011237</td>\n",
       "    </tr>\n",
       "    <tr>\n",
       "      <th>min</th>\n",
       "      <td>18.000000</td>\n",
       "      <td>0.000000</td>\n",
       "      <td>15.960000</td>\n",
       "      <td>0.000000</td>\n",
       "      <td>0.000000</td>\n",
       "      <td>0.000000</td>\n",
       "      <td>1121.873900</td>\n",
       "    </tr>\n",
       "    <tr>\n",
       "      <th>25%</th>\n",
       "      <td>27.000000</td>\n",
       "      <td>0.000000</td>\n",
       "      <td>26.296250</td>\n",
       "      <td>0.000000</td>\n",
       "      <td>0.000000</td>\n",
       "      <td>1.000000</td>\n",
       "      <td>4740.287150</td>\n",
       "    </tr>\n",
       "    <tr>\n",
       "      <th>50%</th>\n",
       "      <td>39.000000</td>\n",
       "      <td>1.000000</td>\n",
       "      <td>30.400000</td>\n",
       "      <td>1.000000</td>\n",
       "      <td>0.000000</td>\n",
       "      <td>2.000000</td>\n",
       "      <td>9382.033000</td>\n",
       "    </tr>\n",
       "    <tr>\n",
       "      <th>75%</th>\n",
       "      <td>51.000000</td>\n",
       "      <td>1.000000</td>\n",
       "      <td>34.693750</td>\n",
       "      <td>2.000000</td>\n",
       "      <td>0.000000</td>\n",
       "      <td>2.000000</td>\n",
       "      <td>16639.912515</td>\n",
       "    </tr>\n",
       "    <tr>\n",
       "      <th>max</th>\n",
       "      <td>64.000000</td>\n",
       "      <td>1.000000</td>\n",
       "      <td>53.130000</td>\n",
       "      <td>5.000000</td>\n",
       "      <td>1.000000</td>\n",
       "      <td>3.000000</td>\n",
       "      <td>63770.428010</td>\n",
       "    </tr>\n",
       "  </tbody>\n",
       "</table>\n",
       "</div>"
      ],
      "text/plain": [
       "               age          sex          bmi     children       smoker  \\\n",
       "count  1338.000000  1338.000000  1338.000000  1338.000000  1338.000000   \n",
       "mean     39.207025     0.505232    30.663397     1.094918     0.204783   \n",
       "std      14.049960     0.500160     6.098187     1.205493     0.403694   \n",
       "min      18.000000     0.000000    15.960000     0.000000     0.000000   \n",
       "25%      27.000000     0.000000    26.296250     0.000000     0.000000   \n",
       "50%      39.000000     1.000000    30.400000     1.000000     0.000000   \n",
       "75%      51.000000     1.000000    34.693750     2.000000     0.000000   \n",
       "max      64.000000     1.000000    53.130000     5.000000     1.000000   \n",
       "\n",
       "            region       charges  \n",
       "count  1338.000000   1338.000000  \n",
       "mean      1.515695  13270.422265  \n",
       "std       1.104885  12110.011237  \n",
       "min       0.000000   1121.873900  \n",
       "25%       1.000000   4740.287150  \n",
       "50%       2.000000   9382.033000  \n",
       "75%       2.000000  16639.912515  \n",
       "max       3.000000  63770.428010  "
      ]
     },
     "execution_count": 6,
     "metadata": {},
     "output_type": "execute_result"
    }
   ],
   "source": [
    "df.describe()"
   ]
  },
  {
   "cell_type": "code",
   "execution_count": 7,
   "id": "476a8b88",
   "metadata": {},
   "outputs": [
    {
     "data": {
      "text/html": [
       "<div>\n",
       "<style scoped>\n",
       "    .dataframe tbody tr th:only-of-type {\n",
       "        vertical-align: middle;\n",
       "    }\n",
       "\n",
       "    .dataframe tbody tr th {\n",
       "        vertical-align: top;\n",
       "    }\n",
       "\n",
       "    .dataframe thead th {\n",
       "        text-align: right;\n",
       "    }\n",
       "</style>\n",
       "<table border=\"1\" class=\"dataframe\">\n",
       "  <thead>\n",
       "    <tr style=\"text-align: right;\">\n",
       "      <th></th>\n",
       "      <th>count</th>\n",
       "      <th>mean</th>\n",
       "      <th>std</th>\n",
       "      <th>min</th>\n",
       "      <th>25%</th>\n",
       "      <th>50%</th>\n",
       "      <th>75%</th>\n",
       "      <th>max</th>\n",
       "    </tr>\n",
       "  </thead>\n",
       "  <tbody>\n",
       "    <tr>\n",
       "      <th>age</th>\n",
       "      <td>1338.0</td>\n",
       "      <td>39.207025</td>\n",
       "      <td>14.049960</td>\n",
       "      <td>18.0000</td>\n",
       "      <td>27.00000</td>\n",
       "      <td>39.000</td>\n",
       "      <td>51.000000</td>\n",
       "      <td>64.00000</td>\n",
       "    </tr>\n",
       "    <tr>\n",
       "      <th>sex</th>\n",
       "      <td>1338.0</td>\n",
       "      <td>0.505232</td>\n",
       "      <td>0.500160</td>\n",
       "      <td>0.0000</td>\n",
       "      <td>0.00000</td>\n",
       "      <td>1.000</td>\n",
       "      <td>1.000000</td>\n",
       "      <td>1.00000</td>\n",
       "    </tr>\n",
       "    <tr>\n",
       "      <th>bmi</th>\n",
       "      <td>1338.0</td>\n",
       "      <td>30.663397</td>\n",
       "      <td>6.098187</td>\n",
       "      <td>15.9600</td>\n",
       "      <td>26.29625</td>\n",
       "      <td>30.400</td>\n",
       "      <td>34.693750</td>\n",
       "      <td>53.13000</td>\n",
       "    </tr>\n",
       "    <tr>\n",
       "      <th>children</th>\n",
       "      <td>1338.0</td>\n",
       "      <td>1.094918</td>\n",
       "      <td>1.205493</td>\n",
       "      <td>0.0000</td>\n",
       "      <td>0.00000</td>\n",
       "      <td>1.000</td>\n",
       "      <td>2.000000</td>\n",
       "      <td>5.00000</td>\n",
       "    </tr>\n",
       "    <tr>\n",
       "      <th>smoker</th>\n",
       "      <td>1338.0</td>\n",
       "      <td>0.204783</td>\n",
       "      <td>0.403694</td>\n",
       "      <td>0.0000</td>\n",
       "      <td>0.00000</td>\n",
       "      <td>0.000</td>\n",
       "      <td>0.000000</td>\n",
       "      <td>1.00000</td>\n",
       "    </tr>\n",
       "    <tr>\n",
       "      <th>region</th>\n",
       "      <td>1338.0</td>\n",
       "      <td>1.515695</td>\n",
       "      <td>1.104885</td>\n",
       "      <td>0.0000</td>\n",
       "      <td>1.00000</td>\n",
       "      <td>2.000</td>\n",
       "      <td>2.000000</td>\n",
       "      <td>3.00000</td>\n",
       "    </tr>\n",
       "    <tr>\n",
       "      <th>charges</th>\n",
       "      <td>1338.0</td>\n",
       "      <td>13270.422265</td>\n",
       "      <td>12110.011237</td>\n",
       "      <td>1121.8739</td>\n",
       "      <td>4740.28715</td>\n",
       "      <td>9382.033</td>\n",
       "      <td>16639.912515</td>\n",
       "      <td>63770.42801</td>\n",
       "    </tr>\n",
       "  </tbody>\n",
       "</table>\n",
       "</div>"
      ],
      "text/plain": [
       "           count          mean           std        min         25%       50%  \\\n",
       "age       1338.0     39.207025     14.049960    18.0000    27.00000    39.000   \n",
       "sex       1338.0      0.505232      0.500160     0.0000     0.00000     1.000   \n",
       "bmi       1338.0     30.663397      6.098187    15.9600    26.29625    30.400   \n",
       "children  1338.0      1.094918      1.205493     0.0000     0.00000     1.000   \n",
       "smoker    1338.0      0.204783      0.403694     0.0000     0.00000     0.000   \n",
       "region    1338.0      1.515695      1.104885     0.0000     1.00000     2.000   \n",
       "charges   1338.0  13270.422265  12110.011237  1121.8739  4740.28715  9382.033   \n",
       "\n",
       "                   75%          max  \n",
       "age          51.000000     64.00000  \n",
       "sex           1.000000      1.00000  \n",
       "bmi          34.693750     53.13000  \n",
       "children      2.000000      5.00000  \n",
       "smoker        0.000000      1.00000  \n",
       "region        2.000000      3.00000  \n",
       "charges   16639.912515  63770.42801  "
      ]
     },
     "execution_count": 7,
     "metadata": {},
     "output_type": "execute_result"
    }
   ],
   "source": [
    "df.describe().T"
   ]
  },
  {
   "cell_type": "markdown",
   "id": "f101a9f2",
   "metadata": {},
   "source": [
    "# Data Visualization"
   ]
  },
  {
   "cell_type": "code",
   "execution_count": 8,
   "id": "fe490430",
   "metadata": {},
   "outputs": [
    {
     "data": {
      "text/plain": [
       "<seaborn.axisgrid.FacetGrid at 0x2652baf1490>"
      ]
     },
     "execution_count": 8,
     "metadata": {},
     "output_type": "execute_result"
    },
    {
     "data": {
      "text/plain": [
       "<Figure size 1200x1300 with 0 Axes>"
      ]
     },
     "metadata": {},
     "output_type": "display_data"
    },
    {
     "data": {
      "image/png": "[encoded data removed]",
      "text/plain": [
       "<Figure size 500x500 with 1 Axes>"
      ]
     },
     "metadata": {},
     "output_type": "display_data"
    }
   ],
   "source": [
    "plt.figure(figsize=(12,13))\n",
    "sns.displot(df['charges'])"
   ]
  },
  {
   "cell_type": "code",
   "execution_count": 9,
   "id": "f2ab1b3e",
   "metadata": {},
   "outputs": [
    {
     "data": {
      "text/plain": [
       "<Axes: >"
      ]
     },
     "execution_count": 9,
     "metadata": {},
     "output_type": "execute_result"
    },
    {
     "data": {
      "image/png": "[encoded data removed]",
      "text/plain": [
       "<Figure size 1200x1000 with 2 Axes>"
      ]
     },
     "metadata": {},
     "output_type": "display_data"
    }
   ],
   "source": [
    "plt.figure(figsize=(12,10))\n",
    "sns.heatmap(df.corr(),annot=True)"
   ]
  },
  {
   "cell_type": "markdown",
   "id": "7b3d86a5",
   "metadata": {},
   "source": [
    "# Split x,y"
   ]
  },
  {
   "cell_type": "code",
   "execution_count": 10,
   "id": "34f768d6",
   "metadata": {},
   "outputs": [],
   "source": [
    "x = df.drop('charges',axis=1)\n",
    "y = df['charges'].astype(int)"
   ]
  },
  {
   "cell_type": "markdown",
   "id": "7324df8d",
   "metadata": {},
   "source": [
    "# Train Data"
   ]
  },
  {
   "cell_type": "code",
   "execution_count": 11,
   "id": "37658d6a",
   "metadata": {},
   "outputs": [],
   "source": [
    "from sklearn.metrics import mean_absolute_error, mean_squared_error,accuracy_score\n",
    "from sklearn.model_selection import train_test_split as tts\n",
    "xtrain,xtest,ytrain,ytest = tts(x,y,test_size=0.3,random_state=78)"
   ]
  },
  {
   "cell_type": "code",
   "execution_count": 12,
   "id": "d68ff1ce",
   "metadata": {},
   "outputs": [
    {
     "data": {
      "text/html": [
       "<div>\n",
       "<style scoped>\n",
       "    .dataframe tbody tr th:only-of-type {\n",
       "        vertical-align: middle;\n",
       "    }\n",
       "\n",
       "    .dataframe tbody tr th {\n",
       "        vertical-align: top;\n",
       "    }\n",
       "\n",
       "    .dataframe thead th {\n",
       "        text-align: right;\n",
       "    }\n",
       "</style>\n",
       "<table border=\"1\" class=\"dataframe\">\n",
       "  <thead>\n",
       "    <tr style=\"text-align: right;\">\n",
       "      <th></th>\n",
       "      <th>age</th>\n",
       "      <th>sex</th>\n",
       "      <th>bmi</th>\n",
       "      <th>children</th>\n",
       "      <th>smoker</th>\n",
       "      <th>region</th>\n",
       "    </tr>\n",
       "  </thead>\n",
       "  <tbody>\n",
       "    <tr>\n",
       "      <th>62</th>\n",
       "      <td>64</td>\n",
       "      <td>1</td>\n",
       "      <td>24.700</td>\n",
       "      <td>1</td>\n",
       "      <td>0</td>\n",
       "      <td>1</td>\n",
       "    </tr>\n",
       "    <tr>\n",
       "      <th>861</th>\n",
       "      <td>38</td>\n",
       "      <td>0</td>\n",
       "      <td>28.000</td>\n",
       "      <td>3</td>\n",
       "      <td>0</td>\n",
       "      <td>3</td>\n",
       "    </tr>\n",
       "    <tr>\n",
       "      <th>973</th>\n",
       "      <td>19</td>\n",
       "      <td>0</td>\n",
       "      <td>40.500</td>\n",
       "      <td>0</td>\n",
       "      <td>0</td>\n",
       "      <td>3</td>\n",
       "    </tr>\n",
       "    <tr>\n",
       "      <th>209</th>\n",
       "      <td>40</td>\n",
       "      <td>1</td>\n",
       "      <td>41.230</td>\n",
       "      <td>1</td>\n",
       "      <td>0</td>\n",
       "      <td>0</td>\n",
       "    </tr>\n",
       "    <tr>\n",
       "      <th>849</th>\n",
       "      <td>55</td>\n",
       "      <td>1</td>\n",
       "      <td>32.775</td>\n",
       "      <td>0</td>\n",
       "      <td>0</td>\n",
       "      <td>1</td>\n",
       "    </tr>\n",
       "  </tbody>\n",
       "</table>\n",
       "</div>"
      ],
      "text/plain": [
       "     age  sex     bmi  children  smoker  region\n",
       "62    64    1  24.700         1       0       1\n",
       "861   38    0  28.000         3       0       3\n",
       "973   19    0  40.500         0       0       3\n",
       "209   40    1  41.230         1       0       0\n",
       "849   55    1  32.775         0       0       1"
      ]
     },
     "execution_count": 12,
     "metadata": {},
     "output_type": "execute_result"
    }
   ],
   "source": [
    "xtrain.head()"
   ]
  },
  {
   "cell_type": "code",
   "execution_count": 13,
   "id": "247943b4",
   "metadata": {},
   "outputs": [
    {
     "data": {
      "text/plain": [
       "62     30166\n",
       "861     7151\n",
       "973     1759\n",
       "209     6610\n",
       "849    10601\n",
       "Name: charges, dtype: int32"
      ]
     },
     "execution_count": 13,
     "metadata": {},
     "output_type": "execute_result"
    }
   ],
   "source": [
    "ytrain.head()"
   ]
  },
  {
   "cell_type": "markdown",
   "id": "5f1b80bd",
   "metadata": {},
   "source": [
    "# Mutlivariable Linear Regression"
   ]
  },
  {
   "cell_type": "code",
   "execution_count": 14,
   "id": "50d85f4d",
   "metadata": {},
   "outputs": [],
   "source": [
    "from sklearn.linear_model import LinearRegression\n",
    "reg = LinearRegression()"
   ]
  },
  {
   "cell_type": "code",
   "execution_count": 15,
   "id": "09b7577f",
   "metadata": {},
   "outputs": [
    {
     "data": {
      "text/html": [
       "<style>#sk-container-id-1 {color: black;background-color: white;}#sk-container-id-1 pre{padding: 0;}#sk-container-id-1 div.sk-toggleable {background-color: white;}#sk-container-id-1 label.sk-toggleable__label {cursor: pointer;display: block;width: 100%;margin-bottom: 0;padding: 0.3em;box-sizing: border-box;text-align: center;}#sk-container-id-1 label.sk-toggleable__label-arrow:before {content: \"▸\";float: left;margin-right: 0.25em;color: #696969;}#sk-container-id-1 label.sk-toggleable__label-arrow:hover:before {color: black;}#sk-container-id-1 div.sk-estimator:hover label.sk-toggleable__label-arrow:before {color: black;}#sk-container-id-1 div.sk-toggleable__content {max-height: 0;max-width: 0;overflow: hidden;text-align: left;background-color: #f0f8ff;}#sk-container-id-1 div.sk-toggleable__content pre {margin: 0.2em;color: black;border-radius: 0.25em;background-color: #f0f8ff;}#sk-container-id-1 input.sk-toggleable__control:checked~div.sk-toggleable__content {max-height: 200px;max-width: 100%;overflow: auto;}#sk-container-id-1 input.sk-toggleable__control:checked~label.sk-toggleable__label-arrow:before {content: \"▾\";}#sk-container-id-1 div.sk-estimator input.sk-toggleable__control:checked~label.sk-toggleable__label {background-color: #d4ebff;}#sk-container-id-1 div.sk-label input.sk-toggleable__control:checked~label.sk-toggleable__label {background-color: #d4ebff;}#sk-container-id-1 input.sk-hidden--visually {border: 0;clip: rect(1px 1px 1px 1px);clip: rect(1px, 1px, 1px, 1px);height: 1px;margin: -1px;overflow: hidden;padding: 0;position: absolute;width: 1px;}#sk-container-id-1 div.sk-estimator {font-family: monospace;background-color: #f0f8ff;border: 1px dotted black;border-radius: 0.25em;box-sizing: border-box;margin-bottom: 0.5em;}#sk-container-id-1 div.sk-estimator:hover {background-color: #d4ebff;}#sk-container-id-1 div.sk-parallel-item::after {content: \"\";width: 100%;border-bottom: 1px solid gray;flex-grow: 1;}#sk-container-id-1 div.sk-label:hover label.sk-toggleable__label {background-color: #d4ebff;}#sk-container-id-1 div.sk-serial::before {content: \"\";position: absolute;border-left: 1px solid gray;box-sizing: border-box;top: 0;bottom: 0;left: 50%;z-index: 0;}#sk-container-id-1 div.sk-serial {display: flex;flex-direction: column;align-items: center;background-color: white;padding-right: 0.2em;padding-left: 0.2em;position: relative;}#sk-container-id-1 div.sk-item {position: relative;z-index: 1;}#sk-container-id-1 div.sk-parallel {display: flex;align-items: stretch;justify-content: center;background-color: white;position: relative;}#sk-container-id-1 div.sk-item::before, #sk-container-id-1 div.sk-parallel-item::before {content: \"\";position: absolute;border-left: 1px solid gray;box-sizing: border-box;top: 0;bottom: 0;left: 50%;z-index: -1;}#sk-container-id-1 div.sk-parallel-item {display: flex;flex-direction: column;z-index: 1;position: relative;background-color: white;}#sk-container-id-1 div.sk-parallel-item:first-child::after {align-self: flex-end;width: 50%;}#sk-container-id-1 div.sk-parallel-item:last-child::after {align-self: flex-start;width: 50%;}#sk-container-id-1 div.sk-parallel-item:only-child::after {width: 0;}#sk-container-id-1 div.sk-dashed-wrapped {border: 1px dashed gray;margin: 0 0.4em 0.5em 0.4em;box-sizing: border-box;padding-bottom: 0.4em;background-color: white;}#sk-container-id-1 div.sk-label label {font-family: monospace;font-weight: bold;display: inline-block;line-height: 1.2em;}#sk-container-id-1 div.sk-label-container {text-align: center;}#sk-container-id-1 div.sk-container {/* jupyter's `normalize.less` sets `[hidden] { display: none; }` but bootstrap.min.css set `[hidden] { display: none !important; }` so we also need the `!important` here to be able to override the default hidden behavior on the sphinx rendered scikit-learn.org. See: https://github.com/scikit-learn/scikit-learn/issues/21755 */display: inline-block !important;position: relative;}#sk-container-id-1 div.sk-text-repr-fallback {display: none;}</style><div id=\"sk-container-id-1\" class=\"sk-top-container\"><div class=\"sk-text-repr-fallback\"><pre>LinearRegression()</pre><b>In a Jupyter environment, please rerun this cell to show the HTML representation or trust the notebook. <br />On GitHub, the HTML representation is unable to render, please try loading this page with nbviewer.org.</b></div><div class=\"sk-container\" hidden><div class=\"sk-item\"><div class=\"sk-estimator sk-toggleable\"><input class=\"sk-toggleable__control sk-hidden--visually\" id=\"sk-estimator-id-1\" type=\"checkbox\" checked><label for=\"sk-estimator-id-1\" class=\"sk-toggleable__label sk-toggleable__label-arrow\">LinearRegression</label><div class=\"sk-toggleable__content\"><pre>LinearRegression()</pre></div></div></div></div></div>"
      ],
      "text/plain": [
       "LinearRegression()"
      ]
     },
     "execution_count": 15,
     "metadata": {},
     "output_type": "execute_result"
    }
   ],
   "source": [
    "reg.fit(xtrain,ytrain)"
   ]
  },
  {
   "cell_type": "code",
   "execution_count": 16,
   "id": "5d4834ef",
   "metadata": {},
   "outputs": [
    {
     "data": {
      "text/plain": [
       "array([ 3.18191677e+04,  9.94871620e+03,  1.18462559e+04,  1.26864885e+04,\n",
       "        5.35980659e+03,  1.47283426e+04,  6.66648059e+03,  9.84584275e+03,\n",
       "        3.14401317e+04,  3.55664350e+04,  7.75975683e+03,  1.01228799e+04,\n",
       "        3.50224946e+03,  9.82460058e+03,  3.62934364e+04,  5.93237304e+03,\n",
       "        7.17176152e+03,  3.04480348e+04,  2.93157188e+04,  3.47193091e+04,\n",
       "        1.53031929e+04,  1.12901406e+04,  4.35552241e+03,  1.73263451e+03,\n",
       "        9.18987538e+03,  3.11599351e+04,  3.03364420e+04,  2.77573337e+03,\n",
       "        1.07587653e+04,  2.97244881e+04,  3.34059848e+03,  8.16323889e+03,\n",
       "        3.34406647e+03,  1.50734482e+04,  3.10413443e+04,  1.05309299e+04,\n",
       "        3.23610661e+03,  1.17237686e+04,  5.33435986e+02,  1.39344838e+04,\n",
       "        1.04935475e+02,  8.93742600e+03,  9.70891643e+03,  2.75698178e+04,\n",
       "        1.35076077e+04,  6.50317552e+03,  7.46739029e+03,  1.38157590e+04,\n",
       "        2.97481921e+03,  2.54875501e+04,  5.26022340e+03,  3.84100396e+03,\n",
       "        9.14039010e+03,  8.34301362e+03, -6.68395757e+02,  7.16859871e+03,\n",
       "        1.25267057e+04,  6.51113194e+03,  1.16650219e+04,  3.50806602e+04,\n",
       "        4.39655380e+03,  1.14608816e+04,  6.20146497e+03,  1.50776301e+03,\n",
       "        7.31329863e+03,  5.64765740e+03,  1.11558872e+04,  1.31322850e+04,\n",
       "        2.76230676e+04,  2.60625774e+03,  8.36963945e+03,  1.13051640e+04,\n",
       "        1.04618239e+04,  8.34887344e+03,  9.26852028e+03,  2.73631646e+03,\n",
       "        1.01486188e+04,  2.60841671e+03,  1.15759929e+04,  1.16049629e+04,\n",
       "        7.19260093e+03,  1.11433162e+04,  1.15402036e+04,  3.32161098e+04,\n",
       "        1.06411495e+04,  1.00980800e+04,  6.26057543e+03,  6.02698103e+03,\n",
       "        3.22955427e+04,  1.16804267e+04,  4.71382065e+03,  7.18778139e+03,\n",
       "        1.64347619e+04,  6.22419510e+03,  4.03492176e+03, -5.12107555e+02,\n",
       "        3.40332397e+04,  2.94764588e+04,  1.44766300e+04,  1.49338197e+04,\n",
       "        3.93200173e+04,  2.18272643e+03,  1.62189662e+04,  2.69475662e+03,\n",
       "        3.56319525e+04,  8.01060945e+03,  1.09161666e+04,  8.89133041e+03,\n",
       "        1.17003006e+04,  5.40637866e+03,  6.10693699e+03,  1.04832529e+04,\n",
       "        7.85903839e+03,  3.97532236e+04,  1.50764382e+04,  6.46948353e+03,\n",
       "        7.47889856e+03,  1.18857012e+04,  3.15158031e+04,  4.81230435e+03,\n",
       "        5.59806960e+03,  5.49769319e+03,  3.07758499e+04,  1.71722643e+03,\n",
       "        1.19992568e+04,  1.10915837e+03,  6.49786586e+03,  1.87277007e+04,\n",
       "        4.06637402e+03,  1.13134729e+04,  3.80971851e+04,  4.48840200e+03,\n",
       "        1.35700561e+04,  6.82421944e+03,  1.19709255e+04,  2.69475662e+03,\n",
       "        1.55194880e+04,  4.63212768e+03,  9.05002877e+03,  1.67937683e+04,\n",
       "        4.33261308e+03,  1.07212381e+04,  1.24467803e+04,  1.33372420e+04,\n",
       "        3.16865516e+04,  9.60538951e+03,  3.10856604e+03,  1.02715020e+04,\n",
       "        6.00441610e+03,  3.76328857e+04,  4.02314286e+04,  1.26821931e+04,\n",
       "        1.15184220e+04,  1.60728340e+04,  3.77092949e+04,  8.85653013e+03,\n",
       "        1.08114162e+04,  1.13064180e+04,  3.90225889e+03,  5.82703899e+03,\n",
       "        1.74137589e+04,  5.83374380e+03,  8.24170812e+03,  8.21397106e+03,\n",
       "        1.68450816e+04,  1.21387835e+04,  4.10059144e+04,  2.73825919e+04,\n",
       "        1.26473612e+04,  7.17674605e+03,  3.31470416e+04,  1.43938915e+04,\n",
       "        3.36889481e+04,  3.40823370e+04,  1.87488452e+03,  1.43992950e+04,\n",
       "        3.42172264e+03,  1.28872208e+04,  2.61395118e+04,  4.86722653e+03,\n",
       "        1.38130940e+04,  6.55504942e+03,  7.94206203e+03,  7.33163693e+03,\n",
       "        1.29703296e+04,  1.47252067e+04,  1.18716428e+04,  1.23679616e+04,\n",
       "        1.44465424e+04, -1.56037893e+03,  1.23565477e+04,  1.15940443e+04,\n",
       "        4.58555508e+03,  1.10459996e+04,  1.01479394e+04,  4.93627998e+03,\n",
       "        2.82938292e+04,  1.21864468e+04,  3.43094482e+04,  1.07896858e+04,\n",
       "        8.38179841e+03,  6.92237308e+03,  1.53609653e+04,  4.22756009e+03,\n",
       "        4.50730387e+03,  3.35128208e+04,  7.98365345e+03,  1.07629407e+04,\n",
       "        6.17244975e+03,  1.11175197e+04,  1.05363919e+03,  1.15094587e+04,\n",
       "        2.42757477e+04,  1.77404672e+03,  1.18297744e+04,  8.92332514e+03,\n",
       "        3.69107526e+04,  3.71638890e+03,  1.15700662e+04,  3.11015361e+04,\n",
       "        3.45082141e+03,  7.15691735e+03,  7.78913585e+03,  1.13238965e+04,\n",
       "        9.29941720e+03,  3.01629065e+03,  7.62410823e+02,  9.73154898e+03,\n",
       "        1.03436361e+04,  2.98319797e+04,  6.24738802e+03, -1.77027648e+01,\n",
       "        2.77308710e+04,  1.10790946e+04,  3.64922376e+04,  3.48123472e+04,\n",
       "        9.81648945e+03,  2.96216971e+04,  9.00210459e+03,  8.22537212e+03,\n",
       "        9.39992756e+03,  1.02568195e+04,  1.15030484e+04,  6.52614817e+03,\n",
       "        3.12660562e+04,  7.80259068e+03,  9.68571806e+03,  1.49728702e+04,\n",
       "        5.67580954e+03,  3.21613310e+04,  1.41082790e+04,  6.57401782e+03,\n",
       "        3.18425096e+04,  3.12405674e+04,  1.53158371e+04,  5.03089130e+03,\n",
       "        6.91899540e+03,  5.55005363e+03,  8.49577318e+03,  1.60443300e+03,\n",
       "        3.95640108e+04,  4.82204790e+03,  9.13279980e+03,  9.83069082e+03,\n",
       "        3.81047524e+04,  7.17463916e+03,  1.25932742e+03,  5.38386941e+03,\n",
       "        1.30769949e+04,  3.40937165e+04,  1.04482263e+04,  3.49444161e+03,\n",
       "        1.07921116e+04,  2.65577594e+04,  7.37393900e+03,  1.28989791e+04,\n",
       "        9.68557174e+03,  3.39941689e+04,  1.04623913e+04,  9.03470424e+03,\n",
       "        1.24843499e+04,  9.34671482e+03,  5.32684036e+03,  6.91020781e+03,\n",
       "        7.05786505e+03,  1.43034392e+03,  9.95229871e+03,  2.62307214e+03,\n",
       "        2.74378461e+03,  3.80265535e+03,  1.49003906e+04,  8.80270630e+03,\n",
       "        9.02745096e+03,  9.02398973e+03,  9.52730465e+03,  7.48965904e+03,\n",
       "        4.90547047e+03,  7.88264637e+03,  3.60340395e+03,  3.85807755e+02,\n",
       "        3.26095881e+04,  2.85557501e+04,  8.07967273e+02,  1.64245211e+04,\n",
       "        3.99755900e+03,  3.52052617e+04,  1.05799895e+04,  3.26935071e+04,\n",
       "        1.02331603e+04,  2.03111349e+03,  4.88095289e+03,  8.13321126e+03,\n",
       "        1.14170242e+04,  1.57427232e+03,  8.75806251e+03,  6.42904635e+03,\n",
       "        7.63190883e+03,  3.15469337e+04,  5.17385420e+03,  6.54951773e+03,\n",
       "        3.23329229e+03,  4.30410934e+03,  3.00565399e+04,  4.53466619e+02,\n",
       "        1.50941643e+04,  2.63195556e+04,  2.86324281e+04,  1.42000478e+04,\n",
       "        1.05109103e+04,  3.51303187e+04, -4.22255584e+02,  2.66337245e+04,\n",
       "        1.31756060e+04,  3.57684714e+04,  3.79218819e+04,  1.26249936e+04,\n",
       "        7.10240288e+03,  1.39030140e+04,  3.23781431e+04,  1.59727143e+04,\n",
       "        2.99054534e+03,  3.68889795e+02,  3.47623120e+04,  3.62595880e+03,\n",
       "        5.69416594e+03,  1.47342280e+04,  6.49178980e+03,  5.13896513e+03,\n",
       "        1.53268825e+04,  3.16592524e+03,  3.30065781e+03,  7.02558461e+03,\n",
       "        3.72465572e+04,  7.34777399e+03, -1.65697138e+03,  3.50751017e+03,\n",
       "        2.70459942e+04, -2.00590745e+03,  1.29281182e+04,  1.13542405e+04,\n",
       "        9.98701136e+03,  1.14628269e+04,  4.45005509e+03,  3.00291114e+03,\n",
       "        5.87869723e+03,  1.13048500e+04,  9.29187898e+03,  3.95636805e+04,\n",
       "        9.04897169e+03,  3.17647757e+04,  9.91473865e+03,  1.77427714e+03,\n",
       "        1.08279568e+04,  1.19520913e+04,  6.94818159e+03,  1.49106673e+04,\n",
       "        7.17685648e+03,  1.13061875e+04,  1.75871398e+04,  9.53199545e+03,\n",
       "        1.04332621e+04,  7.77857700e+03,  3.25330429e+03,  4.02230930e+04,\n",
       "        1.09124832e+04,  1.07581359e+04,  3.40307643e+03,  3.17336483e+04,\n",
       "        3.76588830e+04,  1.22952744e+04,  8.03106471e+03,  6.71112628e+03,\n",
       "        9.38953859e+03,  4.20782350e+03,  1.15293986e+04,  2.83207929e+04,\n",
       "        9.78886490e+03,  1.57204002e+04,  3.18092638e+03,  2.85521083e+04,\n",
       "        3.37548004e+04,  6.92833211e+03])"
      ]
     },
     "execution_count": 16,
     "metadata": {},
     "output_type": "execute_result"
    }
   ],
   "source": [
    "ML_pred = reg.predict(xtest)\n",
    "ML_pred"
   ]
  },
  {
   "cell_type": "code",
   "execution_count": 17,
   "id": "93f3643e",
   "metadata": {},
   "outputs": [
    {
     "data": {
      "text/html": [
       "<div>\n",
       "<style scoped>\n",
       "    .dataframe tbody tr th:only-of-type {\n",
       "        vertical-align: middle;\n",
       "    }\n",
       "\n",
       "    .dataframe tbody tr th {\n",
       "        vertical-align: top;\n",
       "    }\n",
       "\n",
       "    .dataframe thead th {\n",
       "        text-align: right;\n",
       "    }\n",
       "</style>\n",
       "<table border=\"1\" class=\"dataframe\">\n",
       "  <thead>\n",
       "    <tr style=\"text-align: right;\">\n",
       "      <th></th>\n",
       "      <th>Actual</th>\n",
       "      <th>Prediction</th>\n",
       "      <th>Difference</th>\n",
       "    </tr>\n",
       "  </thead>\n",
       "  <tbody>\n",
       "    <tr>\n",
       "      <th>160</th>\n",
       "      <td>21348</td>\n",
       "      <td>31819.167691</td>\n",
       "      <td>10471.167691</td>\n",
       "    </tr>\n",
       "    <tr>\n",
       "      <th>1326</th>\n",
       "      <td>7050</td>\n",
       "      <td>9948.716199</td>\n",
       "      <td>2898.716199</td>\n",
       "    </tr>\n",
       "    <tr>\n",
       "      <th>544</th>\n",
       "      <td>10231</td>\n",
       "      <td>11846.255877</td>\n",
       "      <td>1615.255877</td>\n",
       "    </tr>\n",
       "    <tr>\n",
       "      <th>624</th>\n",
       "      <td>12129</td>\n",
       "      <td>12686.488466</td>\n",
       "      <td>557.488466</td>\n",
       "    </tr>\n",
       "    <tr>\n",
       "      <th>914</th>\n",
       "      <td>5257</td>\n",
       "      <td>5359.806590</td>\n",
       "      <td>102.806590</td>\n",
       "    </tr>\n",
       "  </tbody>\n",
       "</table>\n",
       "</div>"
      ],
      "text/plain": [
       "      Actual    Prediction    Difference\n",
       "160    21348  31819.167691  10471.167691\n",
       "1326    7050   9948.716199   2898.716199\n",
       "544    10231  11846.255877   1615.255877\n",
       "624    12129  12686.488466    557.488466\n",
       "914     5257   5359.806590    102.806590"
      ]
     },
     "execution_count": 17,
     "metadata": {},
     "output_type": "execute_result"
    }
   ],
   "source": [
    "df_pred = pd.DataFrame({'Actual': ytest, 'Prediction': ML_pred, 'Difference': abs(ytest-ML_pred)})\n",
    "df_pred.head()"
   ]
  },
  {
   "cell_type": "code",
   "execution_count": 18,
   "id": "f29fe93d",
   "metadata": {},
   "outputs": [
    {
     "data": {
      "text/plain": [
       "array([  263.71512617,    50.87680175,   335.67932733,   466.52549598,\n",
       "       24400.17250159,  -425.01162728])"
      ]
     },
     "execution_count": 18,
     "metadata": {},
     "output_type": "execute_result"
    }
   ],
   "source": [
    "m = reg.coef_\n",
    "m"
   ]
  },
  {
   "cell_type": "code",
   "execution_count": 19,
   "id": "75a59349",
   "metadata": {},
   "outputs": [
    {
     "data": {
      "text/plain": [
       "-12161.098589568732"
      ]
     },
     "execution_count": 19,
     "metadata": {},
     "output_type": "execute_result"
    }
   ],
   "source": [
    "c = reg.intercept_\n",
    "c"
   ]
  },
  {
   "cell_type": "code",
   "execution_count": 20,
   "id": "89c1c255",
   "metadata": {},
   "outputs": [
    {
     "data": {
      "text/plain": [
       "0.7216620500084538"
      ]
     },
     "execution_count": 20,
     "metadata": {},
     "output_type": "execute_result"
    }
   ],
   "source": [
    "ML_accuracy=reg.score(xtest,ytest)\n",
    "ML_accuracy"
   ]
  },
  {
   "cell_type": "code",
   "execution_count": 21,
   "id": "4ebf6df1",
   "metadata": {},
   "outputs": [
    {
     "data": {
      "text/plain": [
       "4182.648729672589"
      ]
     },
     "execution_count": 21,
     "metadata": {},
     "output_type": "execute_result"
    }
   ],
   "source": [
    "ML_mae = mean_absolute_error(ytest,ML_pred)\n",
    "ML_mae"
   ]
  },
  {
   "cell_type": "code",
   "execution_count": 22,
   "id": "04492cbf",
   "metadata": {},
   "outputs": [],
   "source": [
    "ML_mse = mean_squared_error(ytest,ML_pred)"
   ]
  },
  {
   "cell_type": "code",
   "execution_count": 23,
   "id": "8ccbeaa2",
   "metadata": {},
   "outputs": [
    {
     "data": {
      "text/plain": [
       "36165242.27086386"
      ]
     },
     "execution_count": 23,
     "metadata": {},
     "output_type": "execute_result"
    }
   ],
   "source": [
    "ML_mse"
   ]
  },
  {
   "cell_type": "markdown",
   "id": "9f015742",
   "metadata": {},
   "source": [
    "# KNN Regression"
   ]
  },
  {
   "cell_type": "code",
   "execution_count": 24,
   "id": "d5336452",
   "metadata": {},
   "outputs": [],
   "source": [
    "from sklearn.neighbors import KNeighborsRegressor\n",
    "ne = KNeighborsRegressor(n_neighbors=10)"
   ]
  },
  {
   "cell_type": "code",
   "execution_count": 25,
   "id": "9e73dd9b",
   "metadata": {},
   "outputs": [
    {
     "data": {
      "text/html": [
       "<style>#sk-container-id-2 {color: black;background-color: white;}#sk-container-id-2 pre{padding: 0;}#sk-container-id-2 div.sk-toggleable {background-color: white;}#sk-container-id-2 label.sk-toggleable__label {cursor: pointer;display: block;width: 100%;margin-bottom: 0;padding: 0.3em;box-sizing: border-box;text-align: center;}#sk-container-id-2 label.sk-toggleable__label-arrow:before {content: \"▸\";float: left;margin-right: 0.25em;color: #696969;}#sk-container-id-2 label.sk-toggleable__label-arrow:hover:before {color: black;}#sk-container-id-2 div.sk-estimator:hover label.sk-toggleable__label-arrow:before {color: black;}#sk-container-id-2 div.sk-toggleable__content {max-height: 0;max-width: 0;overflow: hidden;text-align: left;background-color: #f0f8ff;}#sk-container-id-2 div.sk-toggleable__content pre {margin: 0.2em;color: black;border-radius: 0.25em;background-color: #f0f8ff;}#sk-container-id-2 input.sk-toggleable__control:checked~div.sk-toggleable__content {max-height: 200px;max-width: 100%;overflow: auto;}#sk-container-id-2 input.sk-toggleable__control:checked~label.sk-toggleable__label-arrow:before {content: \"▾\";}#sk-container-id-2 div.sk-estimator input.sk-toggleable__control:checked~label.sk-toggleable__label {background-color: #d4ebff;}#sk-container-id-2 div.sk-label input.sk-toggleable__control:checked~label.sk-toggleable__label {background-color: #d4ebff;}#sk-container-id-2 input.sk-hidden--visually {border: 0;clip: rect(1px 1px 1px 1px);clip: rect(1px, 1px, 1px, 1px);height: 1px;margin: -1px;overflow: hidden;padding: 0;position: absolute;width: 1px;}#sk-container-id-2 div.sk-estimator {font-family: monospace;background-color: #f0f8ff;border: 1px dotted black;border-radius: 0.25em;box-sizing: border-box;margin-bottom: 0.5em;}#sk-container-id-2 div.sk-estimator:hover {background-color: #d4ebff;}#sk-container-id-2 div.sk-parallel-item::after {content: \"\";width: 100%;border-bottom: 1px solid gray;flex-grow: 1;}#sk-container-id-2 div.sk-label:hover label.sk-toggleable__label {background-color: #d4ebff;}#sk-container-id-2 div.sk-serial::before {content: \"\";position: absolute;border-left: 1px solid gray;box-sizing: border-box;top: 0;bottom: 0;left: 50%;z-index: 0;}#sk-container-id-2 div.sk-serial {display: flex;flex-direction: column;align-items: center;background-color: white;padding-right: 0.2em;padding-left: 0.2em;position: relative;}#sk-container-id-2 div.sk-item {position: relative;z-index: 1;}#sk-container-id-2 div.sk-parallel {display: flex;align-items: stretch;justify-content: center;background-color: white;position: relative;}#sk-container-id-2 div.sk-item::before, #sk-container-id-2 div.sk-parallel-item::before {content: \"\";position: absolute;border-left: 1px solid gray;box-sizing: border-box;top: 0;bottom: 0;left: 50%;z-index: -1;}#sk-container-id-2 div.sk-parallel-item {display: flex;flex-direction: column;z-index: 1;position: relative;background-color: white;}#sk-container-id-2 div.sk-parallel-item:first-child::after {align-self: flex-end;width: 50%;}#sk-container-id-2 div.sk-parallel-item:last-child::after {align-self: flex-start;width: 50%;}#sk-container-id-2 div.sk-parallel-item:only-child::after {width: 0;}#sk-container-id-2 div.sk-dashed-wrapped {border: 1px dashed gray;margin: 0 0.4em 0.5em 0.4em;box-sizing: border-box;padding-bottom: 0.4em;background-color: white;}#sk-container-id-2 div.sk-label label {font-family: monospace;font-weight: bold;display: inline-block;line-height: 1.2em;}#sk-container-id-2 div.sk-label-container {text-align: center;}#sk-container-id-2 div.sk-container {/* jupyter's `normalize.less` sets `[hidden] { display: none; }` but bootstrap.min.css set `[hidden] { display: none !important; }` so we also need the `!important` here to be able to override the default hidden behavior on the sphinx rendered scikit-learn.org. See: https://github.com/scikit-learn/scikit-learn/issues/21755 */display: inline-block !important;position: relative;}#sk-container-id-2 div.sk-text-repr-fallback {display: none;}</style><div id=\"sk-container-id-2\" class=\"sk-top-container\"><div class=\"sk-text-repr-fallback\"><pre>KNeighborsRegressor(n_neighbors=10)</pre><b>In a Jupyter environment, please rerun this cell to show the HTML representation or trust the notebook. <br />On GitHub, the HTML representation is unable to render, please try loading this page with nbviewer.org.</b></div><div class=\"sk-container\" hidden><div class=\"sk-item\"><div class=\"sk-estimator sk-toggleable\"><input class=\"sk-toggleable__control sk-hidden--visually\" id=\"sk-estimator-id-2\" type=\"checkbox\" checked><label for=\"sk-estimator-id-2\" class=\"sk-toggleable__label sk-toggleable__label-arrow\">KNeighborsRegressor</label><div class=\"sk-toggleable__content\"><pre>KNeighborsRegressor(n_neighbors=10)</pre></div></div></div></div></div>"
      ],
      "text/plain": [
       "KNeighborsRegressor(n_neighbors=10)"
      ]
     },
     "execution_count": 25,
     "metadata": {},
     "output_type": "execute_result"
    }
   ],
   "source": [
    "ne.fit(xtrain,ytrain)"
   ]
  },
  {
   "cell_type": "code",
   "execution_count": 26,
   "id": "23858472",
   "metadata": {},
   "outputs": [
    {
     "data": {
      "text/plain": [
       "array([11029.6, 19928.3, 19426.2, 17266.8, 11619.8, 13802.8, 13541. ,\n",
       "       13639.5,  7716.9, 16503.8, 11681. , 16225.5,  5001.1, 14140.1,\n",
       "       21129.2,  9725. , 11983. , 10342.5,  7879.2,  7987.9, 20495.2,\n",
       "        9848.5,  7817.4,  5494.4, 19142.8, 11835. ,  9199.5,  5663.6,\n",
       "       13288.6, 11241.4,  5179.7,  9850.7,  8176. , 23997.3,  8962.6,\n",
       "       12835.8,  5435. , 18921.4,  5681.5, 11963.7,  6363.1, 18502.7,\n",
       "       14466.7, 11949.2, 16353.8, 14585.2,  6375.4, 12433.6,  8079.9,\n",
       "        3523.7, 10018.1,  9047.3, 17306.1, 15467.2,  2969.6, 11387.1,\n",
       "       13461. ,  7356.9, 15460.3, 15748.2,  9927.5, 15104.6, 12797.6,\n",
       "        7316.8,  6698.2,  7612.1, 16950.9, 15103.7,  9909.7,  9144.3,\n",
       "       12011.4, 15628.2,  6557.4, 11275. , 13474.1, 11442. , 18679.1,\n",
       "        8237.2, 12836.7, 15651.6, 11970.3, 12706.5, 17016.2, 23742.2,\n",
       "       11756.5, 15524.2, 11840.6,  8891.1, 16035.4, 13374.3, 10165.5,\n",
       "        7541.1, 18969. ,  6681.1,  8810.8,  5643.5, 24109.8, 10924.5,\n",
       "       26191.4, 20707.7, 25383.5,  4730.1, 23567.4, 10445.1, 14342.4,\n",
       "        6917.7, 16293.6, 12987.5,  6770.4,  5768.3,  7879. , 18339.6,\n",
       "        7991.8, 24120.8, 22725.1, 13088.3,  7820. , 11679. ,  9463.6,\n",
       "        4166. ,  4359.2, 19227.4, 26242.3,  2343.4, 17246.4,  3790.6,\n",
       "        7803.4, 18871.7,  6849.8, 14435.3, 17138.6,  8644.5, 17441.8,\n",
       "        5765.7, 17594.9, 10445.1, 20753.4,  7825.6, 15494.5, 20803.3,\n",
       "        9861.4, 15371.5, 23900.6, 16545.1,  9983.2, 14425.2,  8241.7,\n",
       "        8394.3,  8773.2, 12141.5, 20983.1, 18113.5, 15068.6, 20771. ,\n",
       "       12795.5, 14737.4, 11452.2, 18063.4, 11470.7,  9787.4, 23401.3,\n",
       "       10119.3, 13387.5,  6895.2, 19206.6, 16164.2, 20364.6, 11565.5,\n",
       "       15060.7, 10212.5, 14206.1, 12170.1, 16584.3, 18378.9,  5796.4,\n",
       "       14806.1, 12374.2, 14415.2, 14442.7,  9654.4, 22180.8,  8885. ,\n",
       "       18375.1, 15352.5, 18253.2, 13547.2, 12599.7, 18354. , 16862.6,\n",
       "        4698.3, 17252.8, 16989.1, 10020.3, 16599.5, 15268.1,  5937.5,\n",
       "       11511. , 19207.7, 13116.5, 13606.1, 12001.9, 11035. , 16521.8,\n",
       "        5646.3,  5665.9, 14997.7,  6507. , 15209.8,  7867.4, 11496.6,\n",
       "        3624.1, 21823.4,  5365.4,  4786.6, 13832.2, 14448.2, 24044.2,\n",
       "        7670.4, 14170.8, 12531.8,  5321. ,  7749.7, 14275.7, 16894.8,\n",
       "       15487.2, 11532.9,  5712.1, 14266.5, 11328.9,  8473.6,  4526.8,\n",
       "        4338.7, 11645.9, 14616.7, 15277. , 10145.8, 13938.8,  5627.8,\n",
       "       13008.5, 22998. , 10837.4, 13768.5, 16929.3, 18431.1,  6278.1,\n",
       "       18848.1,  7832.2, 15383. ,  9292.2,  6763.5, 11688. , 11178.8,\n",
       "       10652.1, 12950.5, 12334.9,  9365.3, 20857.2, 10322.1, 20766. ,\n",
       "        6353.6, 18084.3,  6845. , 18364.4, 10748.5, 18232.1, 11874. ,\n",
       "        7605. ,  7256.7, 20219.7, 14557.7,  5201.1,  8554.2, 14123.3,\n",
       "        4088.6, 13698.6, 20544.2, 13552.6, 18968.9, 13083.3, 22066.4,\n",
       "       14674.1, 15141.3,  8889. ,  8211.1, 14493.4,  6841. , 13911.9,\n",
       "        6677.1, 14440.9,  5289.1, 18087. , 13620. , 14251.4, 19119.9,\n",
       "       16552.8, 17237. ,  9740.9, 10188.2,  7028.8,  3097.3, 17245.8,\n",
       "       14098.7,  8154.8, 17324.7,  8141.2, 14034.4, 16865.4,  8403.6,\n",
       "       12033.1,  4019.1,  6533. ,  7623.4, 10147.1,  7651.4, 11253. ,\n",
       "        5866.2, 11979.1, 10019.1, 10924.6, 13643.7, 11406.5, 13420.7,\n",
       "        7415.6,  4094.2, 19783.7,  8437.6, 12316.4, 15300.9, 16826.5,\n",
       "       12504.1,  1849.1, 12764.3, 16092.4, 11679. , 12227.1, 18377.3,\n",
       "       11918.5, 14810.9, 10491.1, 26184.8,  5225. ,  7676.5, 14498.1,\n",
       "        8663.8,  6763.1, 18156.5,  6501.7,  5716.6, 21499.1, 12087.3,\n",
       "        8375.1,  9242.4, 13063.3,  8672.7,  2932.5, 11423.3, 10632.2,\n",
       "        3023.9, 18579.2, 13933.4, 16629.2, 15971.5, 11429. ,  7897. ,\n",
       "        9370.6, 16707.1, 13144.7, 21234.8,  9754.8, 10391.1, 17493.9,\n",
       "        7875.8, 13481.2, 16149.1,  6209.6, 17096.9, 10455.5, 22227.6,\n",
       "       19545.7, 11058.1, 11571.1,  7502.5,  2901.1, 17301.9, 14722.1,\n",
       "       12722. , 11697.8, 11247.9, 16606. , 15817.2,  8086.8, 13185.6,\n",
       "       11423.4,  7886. , 16578. , 15653.3, 15399.9, 13445.1,  7315.5,\n",
       "        7795.9, 12450.9, 12667.1])"
      ]
     },
     "execution_count": 26,
     "metadata": {},
     "output_type": "execute_result"
    }
   ],
   "source": [
    "knn_pred = ne.predict(xtest)\n",
    "knn_pred"
   ]
  },
  {
   "cell_type": "code",
   "execution_count": 27,
   "id": "8f6d65d3",
   "metadata": {},
   "outputs": [
    {
     "data": {
      "text/html": [
       "<div>\n",
       "<style scoped>\n",
       "    .dataframe tbody tr th:only-of-type {\n",
       "        vertical-align: middle;\n",
       "    }\n",
       "\n",
       "    .dataframe tbody tr th {\n",
       "        vertical-align: top;\n",
       "    }\n",
       "\n",
       "    .dataframe thead th {\n",
       "        text-align: right;\n",
       "    }\n",
       "</style>\n",
       "<table border=\"1\" class=\"dataframe\">\n",
       "  <thead>\n",
       "    <tr style=\"text-align: right;\">\n",
       "      <th></th>\n",
       "      <th>Actual</th>\n",
       "      <th>Prediction</th>\n",
       "      <th>Difference</th>\n",
       "    </tr>\n",
       "  </thead>\n",
       "  <tbody>\n",
       "    <tr>\n",
       "      <th>160</th>\n",
       "      <td>21348</td>\n",
       "      <td>11029.6</td>\n",
       "      <td>10318.4</td>\n",
       "    </tr>\n",
       "    <tr>\n",
       "      <th>1326</th>\n",
       "      <td>7050</td>\n",
       "      <td>19928.3</td>\n",
       "      <td>12878.3</td>\n",
       "    </tr>\n",
       "    <tr>\n",
       "      <th>544</th>\n",
       "      <td>10231</td>\n",
       "      <td>19426.2</td>\n",
       "      <td>9195.2</td>\n",
       "    </tr>\n",
       "    <tr>\n",
       "      <th>624</th>\n",
       "      <td>12129</td>\n",
       "      <td>17266.8</td>\n",
       "      <td>5137.8</td>\n",
       "    </tr>\n",
       "    <tr>\n",
       "      <th>914</th>\n",
       "      <td>5257</td>\n",
       "      <td>11619.8</td>\n",
       "      <td>6362.8</td>\n",
       "    </tr>\n",
       "  </tbody>\n",
       "</table>\n",
       "</div>"
      ],
      "text/plain": [
       "      Actual  Prediction  Difference\n",
       "160    21348     11029.6     10318.4\n",
       "1326    7050     19928.3     12878.3\n",
       "544    10231     19426.2      9195.2\n",
       "624    12129     17266.8      5137.8\n",
       "914     5257     11619.8      6362.8"
      ]
     },
     "execution_count": 27,
     "metadata": {},
     "output_type": "execute_result"
    }
   ],
   "source": [
    "df_pred = pd.DataFrame({'Actual': ytest, 'Prediction': knn_pred, 'Difference': abs(ytest-knn_pred)})\n",
    "df_pred.head()"
   ]
  },
  {
   "cell_type": "code",
   "execution_count": 28,
   "id": "59cef1da",
   "metadata": {},
   "outputs": [
    {
     "data": {
      "text/plain": [
       "0.11002044725265026"
      ]
     },
     "execution_count": 28,
     "metadata": {},
     "output_type": "execute_result"
    }
   ],
   "source": [
    "knn_accuracy=ne.score(xtest,ytest)\n",
    "knn_accuracy"
   ]
  },
  {
   "cell_type": "code",
   "execution_count": 29,
   "id": "ab80abe3",
   "metadata": {},
   "outputs": [
    {
     "data": {
      "text/plain": [
       "115637577.06126864"
      ]
     },
     "execution_count": 29,
     "metadata": {},
     "output_type": "execute_result"
    }
   ],
   "source": [
    "kn_mse= mean_squared_error(ytest,knn_pred)\n",
    "kn_mse"
   ]
  },
  {
   "cell_type": "code",
   "execution_count": 30,
   "id": "511042cc",
   "metadata": {},
   "outputs": [
    {
     "data": {
      "text/plain": [
       "8052.718159203981"
      ]
     },
     "execution_count": 30,
     "metadata": {},
     "output_type": "execute_result"
    }
   ],
   "source": [
    "kn_mae = mean_absolute_error(ytest,knn_pred)\n",
    "kn_mae"
   ]
  },
  {
   "cell_type": "markdown",
   "id": "3ba5de60",
   "metadata": {},
   "source": [
    "# Dataframe"
   ]
  },
  {
   "cell_type": "code",
   "execution_count": 31,
   "id": "f62d9313",
   "metadata": {},
   "outputs": [
    {
     "data": {
      "text/html": [
       "<div>\n",
       "<style scoped>\n",
       "    .dataframe tbody tr th:only-of-type {\n",
       "        vertical-align: middle;\n",
       "    }\n",
       "\n",
       "    .dataframe tbody tr th {\n",
       "        vertical-align: top;\n",
       "    }\n",
       "\n",
       "    .dataframe thead th {\n",
       "        text-align: right;\n",
       "    }\n",
       "</style>\n",
       "<table border=\"1\" class=\"dataframe\">\n",
       "  <thead>\n",
       "    <tr style=\"text-align: right;\">\n",
       "      <th></th>\n",
       "      <th>Models</th>\n",
       "      <th>Accuracy</th>\n",
       "      <th>MSE</th>\n",
       "      <th>MAE</th>\n",
       "    </tr>\n",
       "  </thead>\n",
       "  <tbody>\n",
       "    <tr>\n",
       "      <th>0</th>\n",
       "      <td>Multivariable Linear Regression</td>\n",
       "      <td>0.721662</td>\n",
       "      <td>3.616524e+07</td>\n",
       "      <td>4182.648730</td>\n",
       "    </tr>\n",
       "    <tr>\n",
       "      <th>1</th>\n",
       "      <td>KNN Regression</td>\n",
       "      <td>0.110020</td>\n",
       "      <td>1.156376e+08</td>\n",
       "      <td>8052.718159</td>\n",
       "    </tr>\n",
       "  </tbody>\n",
       "</table>\n",
       "</div>"
      ],
      "text/plain": [
       "                            Models  Accuracy           MSE          MAE\n",
       "0  Multivariable Linear Regression  0.721662  3.616524e+07  4182.648730\n",
       "1                   KNN Regression  0.110020  1.156376e+08  8052.718159"
      ]
     },
     "execution_count": 31,
     "metadata": {},
     "output_type": "execute_result"
    }
   ],
   "source": [
    "data = pd.DataFrame({'Models':['Multivariable Linear Regression','KNN Regression'],\n",
    "       'Accuracy': [ML_accuracy,knn_accuracy],\n",
    "       'MSE': [ML_mse,kn_mse],\n",
    "       'MAE': [ML_mae,kn_mae]})\n",
    "\n",
    "data.head()"
   ]
  },
  {
   "cell_type": "markdown",
   "id": "e6fe05a0",
   "metadata": {},
   "source": [
    "# Barplot"
   ]
  },
  {
   "cell_type": "code",
   "execution_count": 32,
   "id": "18edeff6",
   "metadata": {},
   "outputs": [
    {
     "data": {
      "image/png": "[encoded data removed]",
      "text/plain": [
       "<Figure size 640x480 with 1 Axes>"
      ]
     },
     "metadata": {},
     "output_type": "display_data"
    }
   ],
   "source": [
    "data_bar = data.melt('Models', var_name='Metric', value_name='Value')\n",
    "sns.barplot(x='Models', y='Value', hue='Metric', data=data_bar)\n",
    "plt.title('Regression Models')\n",
    "plt.xlabel('Models')\n",
    "plt.ylabel('Value')\n",
    "plt.show()"
   ]
  },
  {
   "cell_type": "markdown",
   "id": "d974cb13",
   "metadata": {},
   "source": [
    "# Since the value of accuracy and mae is too much short than mse that's why not showing in same barplot. So the comparision should in below one by one barplot"
   ]
  },
  {
   "cell_type": "code",
   "execution_count": 42,
   "id": "9a20602b",
   "metadata": {},
   "outputs": [
    {
     "data": {
      "image/png": "[encoded data removed]",
      "text/plain": [
       "<Figure size 1600x1000 with 3 Axes>"
      ]
     },
     "metadata": {},
     "output_type": "display_data"
    }
   ],
   "source": [
    "columns = data.columns\n",
    "plt.figure(figsize=(16,10))\n",
    "\n",
    "for i in range(1,4):\n",
    "   plt.subplot(1, 3, i)\n",
    "   sns.barplot(data=data, x=\"Models\", y=columns[i])\n",
    "   plt.xlabel(\"Models\")\n",
    "   plt.ylabel(\"Value\")\n",
    "   plt.title(columns[i])\n",
    "plt.show()"
   ]
  },
  {
   "cell_type": "code",
   "execution_count": null,
   "id": "1d8777bd",
   "metadata": {},
   "outputs": [],
   "source": []
  }
 ],
 "metadata": {
  "kernelspec": {
   "display_name": "Python 3 (ipykernel)",
   "language": "python",
   "name": "python3"
  },
  "language_info": {
   "codemirror_mode": {
    "name": "ipython",
    "version": 3
   },
   "file_extension": ".py",
   "mimetype": "text/x-python",
   "name": "python",
   "nbconvert_exporter": "python",
   "pygments_lexer": "ipython3",
   "version": "3.11.3"
  }
 },
 "nbformat": 4,
 "nbformat_minor": 5
}
